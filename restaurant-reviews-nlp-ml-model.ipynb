{
 "cells": [
  {
   "cell_type": "markdown",
   "id": "d44fa99b",
   "metadata": {
    "_cell_guid": "b1076dfc-b9ad-4769-8c92-a6c4dae69d19",
    "_uuid": "8f2839f25d086af736a60e9eeb907d3b93b6e0e5",
    "papermill": {
     "duration": 0.014763,
     "end_time": "2024-10-07T17:23:27.851109",
     "exception": false,
     "start_time": "2024-10-07T17:23:27.836346",
     "status": "completed"
    },
    "tags": []
   },
   "source": [
    "# Import Necessary Library"
   ]
  },
  {
   "cell_type": "code",
   "execution_count": 1,
   "id": "d81a875b",
   "metadata": {
    "execution": {
     "iopub.execute_input": "2024-10-07T17:23:27.881776Z",
     "iopub.status.busy": "2024-10-07T17:23:27.881315Z",
     "iopub.status.idle": "2024-10-07T17:23:31.796372Z",
     "shell.execute_reply": "2024-10-07T17:23:31.795212Z"
    },
    "papermill": {
     "duration": 3.934225,
     "end_time": "2024-10-07T17:23:31.799138",
     "exception": false,
     "start_time": "2024-10-07T17:23:27.864913",
     "status": "completed"
    },
    "tags": []
   },
   "outputs": [
    {
     "name": "stdout",
     "output_type": "stream",
     "text": [
      "[nltk_data] Downloading package stopwords to /usr/share/nltk_data...\n",
      "[nltk_data]   Package stopwords is already up-to-date!\n"
     ]
    },
    {
     "data": {
      "text/plain": [
       "True"
      ]
     },
     "execution_count": 1,
     "metadata": {},
     "output_type": "execute_result"
    }
   ],
   "source": [
    "import numpy as np\n",
    "import pandas as pd \n",
    "import matplotlib.pyplot as plt\n",
    "import seaborn as sns\n",
    "from sklearn.feature_extraction.text import CountVectorizer\n",
    "from sklearn.model_selection import train_test_split\n",
    "from sklearn.naive_bayes import MultinomialNB\n",
    "from sklearn.metrics import confusion_matrix, accuracy_score, classification_report\n",
    "from nltk.stem import PorterStemmer\n",
    "import re\n",
    "import nltk\n",
    "from nltk.corpus import stopwords\n",
    "nltk.download('stopwords')"
   ]
  },
  {
   "cell_type": "markdown",
   "id": "be3c92b1",
   "metadata": {
    "papermill": {
     "duration": 0.013566,
     "end_time": "2024-10-07T17:23:31.829070",
     "exception": false,
     "start_time": "2024-10-07T17:23:31.815504",
     "status": "completed"
    },
    "tags": []
   },
   "source": [
    "# Reading The Data"
   ]
  },
  {
   "cell_type": "code",
   "execution_count": 2,
   "id": "d41518be",
   "metadata": {
    "execution": {
     "iopub.execute_input": "2024-10-07T17:23:31.859882Z",
     "iopub.status.busy": "2024-10-07T17:23:31.858546Z",
     "iopub.status.idle": "2024-10-07T17:23:31.884221Z",
     "shell.execute_reply": "2024-10-07T17:23:31.883090Z"
    },
    "papermill": {
     "duration": 0.04379,
     "end_time": "2024-10-07T17:23:31.886946",
     "exception": false,
     "start_time": "2024-10-07T17:23:31.843156",
     "status": "completed"
    },
    "tags": []
   },
   "outputs": [],
   "source": [
    "df = pd.read_csv('/kaggle/input/restaurant-reviewstsv/Restaurant_Reviews.tsv', sep='\\t')"
   ]
  },
  {
   "cell_type": "markdown",
   "id": "b072af83",
   "metadata": {
    "papermill": {
     "duration": 0.013755,
     "end_time": "2024-10-07T17:23:31.914767",
     "exception": false,
     "start_time": "2024-10-07T17:23:31.901012",
     "status": "completed"
    },
    "tags": []
   },
   "source": [
    "# Explore The Data"
   ]
  },
  {
   "cell_type": "code",
   "execution_count": 3,
   "id": "fc5e4550",
   "metadata": {
    "execution": {
     "iopub.execute_input": "2024-10-07T17:23:31.945168Z",
     "iopub.status.busy": "2024-10-07T17:23:31.944091Z",
     "iopub.status.idle": "2024-10-07T17:23:31.962495Z",
     "shell.execute_reply": "2024-10-07T17:23:31.961290Z"
    },
    "papermill": {
     "duration": 0.036546,
     "end_time": "2024-10-07T17:23:31.965206",
     "exception": false,
     "start_time": "2024-10-07T17:23:31.928660",
     "status": "completed"
    },
    "tags": []
   },
   "outputs": [
    {
     "data": {
      "text/html": [
       "<div>\n",
       "<style scoped>\n",
       "    .dataframe tbody tr th:only-of-type {\n",
       "        vertical-align: middle;\n",
       "    }\n",
       "\n",
       "    .dataframe tbody tr th {\n",
       "        vertical-align: top;\n",
       "    }\n",
       "\n",
       "    .dataframe thead th {\n",
       "        text-align: right;\n",
       "    }\n",
       "</style>\n",
       "<table border=\"1\" class=\"dataframe\">\n",
       "  <thead>\n",
       "    <tr style=\"text-align: right;\">\n",
       "      <th></th>\n",
       "      <th>Review</th>\n",
       "      <th>Liked</th>\n",
       "    </tr>\n",
       "  </thead>\n",
       "  <tbody>\n",
       "    <tr>\n",
       "      <th>0</th>\n",
       "      <td>Wow... Loved this place.</td>\n",
       "      <td>1</td>\n",
       "    </tr>\n",
       "    <tr>\n",
       "      <th>1</th>\n",
       "      <td>Crust is not good.</td>\n",
       "      <td>0</td>\n",
       "    </tr>\n",
       "    <tr>\n",
       "      <th>2</th>\n",
       "      <td>Not tasty and the texture was just nasty.</td>\n",
       "      <td>0</td>\n",
       "    </tr>\n",
       "    <tr>\n",
       "      <th>3</th>\n",
       "      <td>Stopped by during the late May bank holiday of...</td>\n",
       "      <td>1</td>\n",
       "    </tr>\n",
       "    <tr>\n",
       "      <th>4</th>\n",
       "      <td>The selection on the menu was great and so wer...</td>\n",
       "      <td>1</td>\n",
       "    </tr>\n",
       "  </tbody>\n",
       "</table>\n",
       "</div>"
      ],
      "text/plain": [
       "                                              Review  Liked\n",
       "0                           Wow... Loved this place.      1\n",
       "1                                 Crust is not good.      0\n",
       "2          Not tasty and the texture was just nasty.      0\n",
       "3  Stopped by during the late May bank holiday of...      1\n",
       "4  The selection on the menu was great and so wer...      1"
      ]
     },
     "execution_count": 3,
     "metadata": {},
     "output_type": "execute_result"
    }
   ],
   "source": [
    "df.head()"
   ]
  },
  {
   "cell_type": "code",
   "execution_count": 4,
   "id": "ec7f9bf7",
   "metadata": {
    "execution": {
     "iopub.execute_input": "2024-10-07T17:23:31.996272Z",
     "iopub.status.busy": "2024-10-07T17:23:31.995245Z",
     "iopub.status.idle": "2024-10-07T17:23:32.003163Z",
     "shell.execute_reply": "2024-10-07T17:23:32.001617Z"
    },
    "papermill": {
     "duration": 0.027478,
     "end_time": "2024-10-07T17:23:32.006674",
     "exception": false,
     "start_time": "2024-10-07T17:23:31.979196",
     "status": "completed"
    },
    "tags": []
   },
   "outputs": [
    {
     "data": {
      "text/plain": [
       "(1000, 2)"
      ]
     },
     "execution_count": 4,
     "metadata": {},
     "output_type": "execute_result"
    }
   ],
   "source": [
    "df.shape"
   ]
  },
  {
   "cell_type": "code",
   "execution_count": 5,
   "id": "70b9dac3",
   "metadata": {
    "execution": {
     "iopub.execute_input": "2024-10-07T17:23:32.036970Z",
     "iopub.status.busy": "2024-10-07T17:23:32.036519Z",
     "iopub.status.idle": "2024-10-07T17:23:32.063496Z",
     "shell.execute_reply": "2024-10-07T17:23:32.062053Z"
    },
    "papermill": {
     "duration": 0.045167,
     "end_time": "2024-10-07T17:23:32.066123",
     "exception": false,
     "start_time": "2024-10-07T17:23:32.020956",
     "status": "completed"
    },
    "tags": []
   },
   "outputs": [
    {
     "name": "stdout",
     "output_type": "stream",
     "text": [
      "<class 'pandas.core.frame.DataFrame'>\n",
      "RangeIndex: 1000 entries, 0 to 999\n",
      "Data columns (total 2 columns):\n",
      " #   Column  Non-Null Count  Dtype \n",
      "---  ------  --------------  ----- \n",
      " 0   Review  1000 non-null   object\n",
      " 1   Liked   1000 non-null   int64 \n",
      "dtypes: int64(1), object(1)\n",
      "memory usage: 15.8+ KB\n"
     ]
    }
   ],
   "source": [
    "df.info()"
   ]
  },
  {
   "cell_type": "code",
   "execution_count": 6,
   "id": "d2e7cacc",
   "metadata": {
    "execution": {
     "iopub.execute_input": "2024-10-07T17:23:32.096421Z",
     "iopub.status.busy": "2024-10-07T17:23:32.095955Z",
     "iopub.status.idle": "2024-10-07T17:23:32.104754Z",
     "shell.execute_reply": "2024-10-07T17:23:32.103688Z"
    },
    "papermill": {
     "duration": 0.026819,
     "end_time": "2024-10-07T17:23:32.107261",
     "exception": false,
     "start_time": "2024-10-07T17:23:32.080442",
     "status": "completed"
    },
    "tags": []
   },
   "outputs": [
    {
     "data": {
      "text/plain": [
       "4"
      ]
     },
     "execution_count": 6,
     "metadata": {},
     "output_type": "execute_result"
    }
   ],
   "source": [
    "df.duplicated().sum()"
   ]
  },
  {
   "cell_type": "code",
   "execution_count": 7,
   "id": "fa47c294",
   "metadata": {
    "execution": {
     "iopub.execute_input": "2024-10-07T17:23:32.138491Z",
     "iopub.status.busy": "2024-10-07T17:23:32.137550Z",
     "iopub.status.idle": "2024-10-07T17:23:32.147491Z",
     "shell.execute_reply": "2024-10-07T17:23:32.146351Z"
    },
    "papermill": {
     "duration": 0.028106,
     "end_time": "2024-10-07T17:23:32.149923",
     "exception": false,
     "start_time": "2024-10-07T17:23:32.121817",
     "status": "completed"
    },
    "tags": []
   },
   "outputs": [
    {
     "data": {
      "text/plain": [
       "Review    0\n",
       "Liked     0\n",
       "dtype: int64"
      ]
     },
     "execution_count": 7,
     "metadata": {},
     "output_type": "execute_result"
    }
   ],
   "source": [
    "df.isnull().sum()"
   ]
  },
  {
   "cell_type": "code",
   "execution_count": 8,
   "id": "30c5022e",
   "metadata": {
    "execution": {
     "iopub.execute_input": "2024-10-07T17:23:32.181453Z",
     "iopub.status.busy": "2024-10-07T17:23:32.180579Z",
     "iopub.status.idle": "2024-10-07T17:23:32.190958Z",
     "shell.execute_reply": "2024-10-07T17:23:32.189877Z"
    },
    "papermill": {
     "duration": 0.029022,
     "end_time": "2024-10-07T17:23:32.193558",
     "exception": false,
     "start_time": "2024-10-07T17:23:32.164536",
     "status": "completed"
    },
    "tags": []
   },
   "outputs": [
    {
     "data": {
      "text/plain": [
       "Liked\n",
       "1    500\n",
       "0    500\n",
       "Name: count, dtype: int64"
      ]
     },
     "execution_count": 8,
     "metadata": {},
     "output_type": "execute_result"
    }
   ],
   "source": [
    "df['Liked'].value_counts()"
   ]
  },
  {
   "cell_type": "markdown",
   "id": "10b47d6f",
   "metadata": {
    "papermill": {
     "duration": 0.014398,
     "end_time": "2024-10-07T17:23:32.222654",
     "exception": false,
     "start_time": "2024-10-07T17:23:32.208256",
     "status": "completed"
    },
    "tags": []
   },
   "source": [
    "**then we can say this data are balanced data**"
   ]
  },
  {
   "cell_type": "markdown",
   "id": "ac4fdb45",
   "metadata": {
    "papermill": {
     "duration": 0.014412,
     "end_time": "2024-10-07T17:23:32.251795",
     "exception": false,
     "start_time": "2024-10-07T17:23:32.237383",
     "status": "completed"
    },
    "tags": []
   },
   "source": [
    "# Cleaning the Data"
   ]
  },
  {
   "cell_type": "code",
   "execution_count": 9,
   "id": "7325f745",
   "metadata": {
    "execution": {
     "iopub.execute_input": "2024-10-07T17:23:32.284167Z",
     "iopub.status.busy": "2024-10-07T17:23:32.283000Z",
     "iopub.status.idle": "2024-10-07T17:23:32.294014Z",
     "shell.execute_reply": "2024-10-07T17:23:32.292814Z"
    },
    "papermill": {
     "duration": 0.030137,
     "end_time": "2024-10-07T17:23:32.296734",
     "exception": false,
     "start_time": "2024-10-07T17:23:32.266597",
     "status": "completed"
    },
    "tags": []
   },
   "outputs": [],
   "source": [
    "df = df.drop_duplicates()"
   ]
  },
  {
   "cell_type": "code",
   "execution_count": 10,
   "id": "403cafdd",
   "metadata": {
    "execution": {
     "iopub.execute_input": "2024-10-07T17:23:32.328121Z",
     "iopub.status.busy": "2024-10-07T17:23:32.327679Z",
     "iopub.status.idle": "2024-10-07T17:23:32.336800Z",
     "shell.execute_reply": "2024-10-07T17:23:32.335666Z"
    },
    "papermill": {
     "duration": 0.027899,
     "end_time": "2024-10-07T17:23:32.339331",
     "exception": false,
     "start_time": "2024-10-07T17:23:32.311432",
     "status": "completed"
    },
    "tags": []
   },
   "outputs": [
    {
     "data": {
      "text/plain": [
       "0"
      ]
     },
     "execution_count": 10,
     "metadata": {},
     "output_type": "execute_result"
    }
   ],
   "source": [
    "df.duplicated().sum()"
   ]
  },
  {
   "cell_type": "markdown",
   "id": "31e70ae5",
   "metadata": {
    "papermill": {
     "duration": 0.014475,
     "end_time": "2024-10-07T17:23:32.368705",
     "exception": false,
     "start_time": "2024-10-07T17:23:32.354230",
     "status": "completed"
    },
    "tags": []
   },
   "source": [
    "**Make this column to know how many char at each review**"
   ]
  },
  {
   "cell_type": "code",
   "execution_count": 11,
   "id": "4a85778c",
   "metadata": {
    "execution": {
     "iopub.execute_input": "2024-10-07T17:23:32.400422Z",
     "iopub.status.busy": "2024-10-07T17:23:32.399945Z",
     "iopub.status.idle": "2024-10-07T17:23:32.407710Z",
     "shell.execute_reply": "2024-10-07T17:23:32.406456Z"
    },
    "papermill": {
     "duration": 0.02652,
     "end_time": "2024-10-07T17:23:32.410219",
     "exception": false,
     "start_time": "2024-10-07T17:23:32.383699",
     "status": "completed"
    },
    "tags": []
   },
   "outputs": [],
   "source": [
    "df['reviewcharcount'] = df['Review'].apply(len)"
   ]
  },
  {
   "cell_type": "code",
   "execution_count": 12,
   "id": "77826836",
   "metadata": {
    "execution": {
     "iopub.execute_input": "2024-10-07T17:23:32.441779Z",
     "iopub.status.busy": "2024-10-07T17:23:32.441327Z",
     "iopub.status.idle": "2024-10-07T17:23:32.454983Z",
     "shell.execute_reply": "2024-10-07T17:23:32.453911Z"
    },
    "papermill": {
     "duration": 0.03203,
     "end_time": "2024-10-07T17:23:32.457311",
     "exception": false,
     "start_time": "2024-10-07T17:23:32.425281",
     "status": "completed"
    },
    "tags": []
   },
   "outputs": [
    {
     "data": {
      "text/html": [
       "<div>\n",
       "<style scoped>\n",
       "    .dataframe tbody tr th:only-of-type {\n",
       "        vertical-align: middle;\n",
       "    }\n",
       "\n",
       "    .dataframe tbody tr th {\n",
       "        vertical-align: top;\n",
       "    }\n",
       "\n",
       "    .dataframe thead th {\n",
       "        text-align: right;\n",
       "    }\n",
       "</style>\n",
       "<table border=\"1\" class=\"dataframe\">\n",
       "  <thead>\n",
       "    <tr style=\"text-align: right;\">\n",
       "      <th></th>\n",
       "      <th>Review</th>\n",
       "      <th>Liked</th>\n",
       "      <th>reviewcharcount</th>\n",
       "    </tr>\n",
       "  </thead>\n",
       "  <tbody>\n",
       "    <tr>\n",
       "      <th>0</th>\n",
       "      <td>Wow... Loved this place.</td>\n",
       "      <td>1</td>\n",
       "      <td>24</td>\n",
       "    </tr>\n",
       "    <tr>\n",
       "      <th>1</th>\n",
       "      <td>Crust is not good.</td>\n",
       "      <td>0</td>\n",
       "      <td>18</td>\n",
       "    </tr>\n",
       "    <tr>\n",
       "      <th>2</th>\n",
       "      <td>Not tasty and the texture was just nasty.</td>\n",
       "      <td>0</td>\n",
       "      <td>41</td>\n",
       "    </tr>\n",
       "    <tr>\n",
       "      <th>3</th>\n",
       "      <td>Stopped by during the late May bank holiday of...</td>\n",
       "      <td>1</td>\n",
       "      <td>87</td>\n",
       "    </tr>\n",
       "    <tr>\n",
       "      <th>4</th>\n",
       "      <td>The selection on the menu was great and so wer...</td>\n",
       "      <td>1</td>\n",
       "      <td>59</td>\n",
       "    </tr>\n",
       "    <tr>\n",
       "      <th>...</th>\n",
       "      <td>...</td>\n",
       "      <td>...</td>\n",
       "      <td>...</td>\n",
       "    </tr>\n",
       "    <tr>\n",
       "      <th>995</th>\n",
       "      <td>I think food should have flavor and texture an...</td>\n",
       "      <td>0</td>\n",
       "      <td>66</td>\n",
       "    </tr>\n",
       "    <tr>\n",
       "      <th>996</th>\n",
       "      <td>Appetite instantly gone.</td>\n",
       "      <td>0</td>\n",
       "      <td>24</td>\n",
       "    </tr>\n",
       "    <tr>\n",
       "      <th>997</th>\n",
       "      <td>Overall I was not impressed and would not go b...</td>\n",
       "      <td>0</td>\n",
       "      <td>50</td>\n",
       "    </tr>\n",
       "    <tr>\n",
       "      <th>998</th>\n",
       "      <td>The whole experience was underwhelming, and I ...</td>\n",
       "      <td>0</td>\n",
       "      <td>91</td>\n",
       "    </tr>\n",
       "    <tr>\n",
       "      <th>999</th>\n",
       "      <td>Then, as if I hadn't wasted enough of my life ...</td>\n",
       "      <td>0</td>\n",
       "      <td>134</td>\n",
       "    </tr>\n",
       "  </tbody>\n",
       "</table>\n",
       "<p>996 rows × 3 columns</p>\n",
       "</div>"
      ],
      "text/plain": [
       "                                                Review  Liked  reviewcharcount\n",
       "0                             Wow... Loved this place.      1               24\n",
       "1                                   Crust is not good.      0               18\n",
       "2            Not tasty and the texture was just nasty.      0               41\n",
       "3    Stopped by during the late May bank holiday of...      1               87\n",
       "4    The selection on the menu was great and so wer...      1               59\n",
       "..                                                 ...    ...              ...\n",
       "995  I think food should have flavor and texture an...      0               66\n",
       "996                           Appetite instantly gone.      0               24\n",
       "997  Overall I was not impressed and would not go b...      0               50\n",
       "998  The whole experience was underwhelming, and I ...      0               91\n",
       "999  Then, as if I hadn't wasted enough of my life ...      0              134\n",
       "\n",
       "[996 rows x 3 columns]"
      ]
     },
     "execution_count": 12,
     "metadata": {},
     "output_type": "execute_result"
    }
   ],
   "source": [
    "df"
   ]
  },
  {
   "cell_type": "code",
   "execution_count": 13,
   "id": "ae9d3688",
   "metadata": {
    "execution": {
     "iopub.execute_input": "2024-10-07T17:23:32.489731Z",
     "iopub.status.busy": "2024-10-07T17:23:32.489268Z",
     "iopub.status.idle": "2024-10-07T17:23:32.497069Z",
     "shell.execute_reply": "2024-10-07T17:23:32.496014Z"
    },
    "papermill": {
     "duration": 0.026902,
     "end_time": "2024-10-07T17:23:32.499579",
     "exception": false,
     "start_time": "2024-10-07T17:23:32.472677",
     "status": "completed"
    },
    "tags": []
   },
   "outputs": [
    {
     "data": {
      "text/plain": [
       "149"
      ]
     },
     "execution_count": 13,
     "metadata": {},
     "output_type": "execute_result"
    }
   ],
   "source": [
    "df['reviewcharcount'].max()"
   ]
  },
  {
   "cell_type": "code",
   "execution_count": 14,
   "id": "e85e2a1b",
   "metadata": {
    "execution": {
     "iopub.execute_input": "2024-10-07T17:23:32.533018Z",
     "iopub.status.busy": "2024-10-07T17:23:32.531955Z",
     "iopub.status.idle": "2024-10-07T17:23:32.542243Z",
     "shell.execute_reply": "2024-10-07T17:23:32.541253Z"
    },
    "papermill": {
     "duration": 0.029559,
     "end_time": "2024-10-07T17:23:32.544758",
     "exception": false,
     "start_time": "2024-10-07T17:23:32.515199",
     "status": "completed"
    },
    "tags": []
   },
   "outputs": [
    {
     "data": {
      "text/plain": [
       "Review             I would avoid this place if you are staying in...\n",
       "Liked                                                              0\n",
       "reviewcharcount                                                   58\n",
       "Name: 989, dtype: object"
      ]
     },
     "execution_count": 14,
     "metadata": {},
     "output_type": "execute_result"
    }
   ],
   "source": [
    "df.iloc[df['reviewcharcount'].idxmax()]"
   ]
  },
  {
   "cell_type": "markdown",
   "id": "a141eeea",
   "metadata": {
    "papermill": {
     "duration": 0.015056,
     "end_time": "2024-10-07T17:23:32.575411",
     "exception": false,
     "start_time": "2024-10-07T17:23:32.560355",
     "status": "completed"
    },
    "tags": []
   },
   "source": [
    "# Preprocessing the Data using NLTK"
   ]
  },
  {
   "cell_type": "markdown",
   "id": "c203723d",
   "metadata": {
    "papermill": {
     "duration": 0.015067,
     "end_time": "2024-10-07T17:23:32.605872",
     "exception": false,
     "start_time": "2024-10-07T17:23:32.590805",
     "status": "completed"
    },
    "tags": []
   },
   "source": [
    "**Remove Undeeded Words ans stopwords from all sentences**"
   ]
  },
  {
   "cell_type": "code",
   "execution_count": 15,
   "id": "5f2b8a23",
   "metadata": {
    "execution": {
     "iopub.execute_input": "2024-10-07T17:23:32.639379Z",
     "iopub.status.busy": "2024-10-07T17:23:32.638081Z",
     "iopub.status.idle": "2024-10-07T17:23:41.013542Z",
     "shell.execute_reply": "2024-10-07T17:23:41.012331Z"
    },
    "papermill": {
     "duration": 8.395152,
     "end_time": "2024-10-07T17:23:41.016434",
     "exception": false,
     "start_time": "2024-10-07T17:23:32.621282",
     "status": "completed"
    },
    "tags": []
   },
   "outputs": [],
   "source": [
    "corpus = []\n",
    "ps = PorterStemmer()\n",
    "cv = CountVectorizer()\n",
    "df = df.reset_index(drop=True)\n",
    "for i in range(len(df)):\n",
    "    sent = re.sub('[^a-zA-Z]',\" \", df['Review'][i])\n",
    "    sent = sent.lower()\n",
    "    sent = [word for word in sent if word not in stopwords.words('english')]\n",
    "    sent = ''.join(sent)\n",
    "    sent = ps.stem(sent)\n",
    "    corpus.append(sent)"
   ]
  },
  {
   "cell_type": "code",
   "execution_count": 16,
   "id": "6e533c82",
   "metadata": {
    "collapsed": true,
    "execution": {
     "iopub.execute_input": "2024-10-07T17:23:41.050275Z",
     "iopub.status.busy": "2024-10-07T17:23:41.049790Z",
     "iopub.status.idle": "2024-10-07T17:23:41.079151Z",
     "shell.execute_reply": "2024-10-07T17:23:41.077848Z"
    },
    "jupyter": {
     "outputs_hidden": true
    },
    "papermill": {
     "duration": 0.052089,
     "end_time": "2024-10-07T17:23:41.084349",
     "exception": false,
     "start_time": "2024-10-07T17:23:41.032260",
     "status": "completed"
    },
    "tags": []
   },
   "outputs": [
    {
     "data": {
      "text/plain": [
       "['ww    lve h plce ',\n",
       " 'cru  n g ',\n",
       " 'n  n he exure w ju n ',\n",
       " 'ppe b urng he le  bnk hl ff rck eve recenn n lve  ',\n",
       " 'he elecn n he enu w gre n  were he prce ',\n",
       " 'nw   geng ngr n  wn  n ph ',\n",
       " 'hnel  n  e h freh  ',\n",
       " 'he pe were lke rubber n u cul ell he h been e up he f e beng kep uner  wrer ',\n",
       " 'he fre were gre  ',\n",
       " ' gre uch ',\n",
       " 'ervce w ver prp ',\n",
       " 'wul n g bck ',\n",
       " 'he cher h n cre wh  ever n wh  h    ll ene up beng w verprce ',\n",
       " ' re he cpe c rvl  chcken  wh crnberr    ',\n",
       " ' w gue becue  w pre ure h w hun hr ',\n",
       " ' w hcke becue n gn nce ch nl ',\n",
       " 'hghl recene ',\n",
       " 'wre w  lle lw n ervce ',\n",
       " 'h plce  n wrh ur e  le lne veg ',\n",
       " ' n lke  ll ',\n",
       " 'he burr blh ',\n",
       " 'he f  n zng ',\n",
       " 'ervce  l cue ',\n",
       " ' cul cre le    he nerr  ju beuful ',\n",
       " ' he perfre ',\n",
       " 'h  rgh    he re velve cke     hhh h uff   g ',\n",
       " '  he never brugh  l we ke fr ',\n",
       " 'h hle n he wll h gre excn ree c  n frenl ff ',\n",
       " 'k n hur  ge ur f nl   ble n reurn  f w luke wr  ur ever w runnng run lke he w ll verwhele ',\n",
       " 'he wr w he ln h ',\n",
       " 'l here re cb lke  burger  fre  n beer fr    whch   ecen el ',\n",
       " 'h w lke he fnl blw ',\n",
       " ' fun h plce b ccen n  cul n be hpper ',\n",
       " 'ee lke  g quck plce  grb  be f e flr pub f  bu  urelf  fvr n lk elewhere ',\n",
       " 'verll   lke h plce  l ',\n",
       " 'he nl reeeng qul f he reurn w h  w ver nexpenve ',\n",
       " 'ple prn n g prce ',\n",
       " 'pr ervce  he wer e e feel lke  w up ever e he ce  he ble ',\n",
       " ' fr v  hr w  elgh ',\n",
       " 'ervce uck ',\n",
       " 'he hrp ener n  ',\n",
       " 'here  n  el g enugh h wul rg e n h eblhen gn ',\n",
       " 'hr  juge wheher hee e were g becue we were gre u b he ele rf n n  wn  e  fr fer f geng ck ',\n",
       " 'n  pve ne  ur erver w ver enve n prve gre ervce ',\n",
       " 'frzen puck f gu  wh e f he wr peple behn he reger ',\n",
       " 'he nl hng   lke w he pre rb n eer ecn ',\n",
       " '   b he f   n generc ',\n",
       " 'he burger  g beef  cke ju rgh ',\n",
       " 'f u wn  nwch ju g  n frehue     ',\n",
       " ' e greek l wh he greek reng w    n he p n huu w ver refrehng ',\n",
       " 'we rere he uck rre n  w pnk n ener n he ne wh  nce chr n he ue ',\n",
       " 'he ce runnng fer u when he relze  hubn h lef h ungle n he ble ',\n",
       " 'her chw en   g ',\n",
       " 'he hve hrrble ue wr cuer  n lk wn  ech ne when cuer n  enj her f ',\n",
       " 'he prn w huge ',\n",
       " 'lve    frenl erver  gre f  wnerful n gnve enu ',\n",
       " 'he her ck grll n wnwn veg  n bluel fl lne excue fr  reurn ',\n",
       " 'n uch ef n lke   rng f p  he b ',\n",
       " 'he l h ju he rgh un f uce  n ver pwer he cllp  whch w perfecl cke ',\n",
       " 'he rppe bnn w n nl rppe  bu perfe n ele ',\n",
       " ' le hnk  refll  wer befre  ruggle  wve u ver fr    nue ',\n",
       " 'h plce receve r fr her ppezer   ',\n",
       " 'he cckl re ll hne n elcu ',\n",
       " 'we  efnel g bck here gn ',\n",
       " 'we re  gl we fun h plce ',\n",
       " 'gre f n ervce  huge prn n he gve  lr cun ',\n",
       " 'lw  gre e   grng ',\n",
       " 'upe     wen bck fr  ecn e n  w ll ju  zng',\n",
       " 'we g he f n pprenl he hve never her f l n he ber n he fh w chew ',\n",
       " ' gre w  fnh  gre ',\n",
       " 'he el nclue   ng n   rnk  n jeff wen bve n ben wh we expece ',\n",
       " '  rell  rell g rce  ll he e ',\n",
       " 'he ervce w eh ',\n",
       " ' k ver    n  ge her lkhke  whch w nhng re hn chcle lk ',\n",
       " ' gue  hul hve knwn h h plce wul uck  becue   ne f he exclbur  bu  n  ue  cn ene ',\n",
       " 'he cllp h  que ppllng fr vlue  well ',\n",
       " '  e   ver b cuer ervce  ',\n",
       " 'he wee p fre were ver g n ene well ',\n",
       " '  he ecn e  ve been  her lunch buffe n  w pre g ',\n",
       " 'here   uch g f n veg h  feel chee fr wng n eng pprun b gng  rce n cpn ',\n",
       " 'cng here  lke experencng n unerwhelng relnhp where bh pre cn  w fr he her pern  k  brek up ',\n",
       " 'wlke n n he plce elle lke n l gree rp n nl   her here eng ',\n",
       " 'he urke n r beef were bln ',\n",
       " 'h plce h  ',\n",
       " 'he pn cke everne re rvng bu e lke  ugr er lre  he ple f  x er l ',\n",
       " ' lve he ph n he prng rll h  u u hve  r ',\n",
       " 'he pr ber  e r e he chcken ener ver unfng ',\n",
       " 'll  hve    he f w zng   ',\n",
       " 'ele re  e fr ',\n",
       " 'everhng w freh n elcu ',\n",
       " 'n ur  h w  lrgel ppnng nng experence ',\n",
       " '  lke  rell ex pr n ur uh  where u re urgeul flrng wh he he pern  he pr ',\n",
       " 'never been  hr rck cn befre  wll never ever ep frwr n  gn ',\n",
       " 'be brekf buffe   ',\n",
       " ' be be  ur p l ',\n",
       " 'we ll never g gn ',\n",
       " 'wll be bck gn ',\n",
       " 'f rrve quckl ',\n",
       " ' w n g ',\n",
       " 'n he up e  her cfe erve rell g f ',\n",
       " 'ur erver w fnc n when he fun u he wfe lve re grlc n bne rrw  he e exr  ur el n nher rrw  g ',\n",
       " 'he nl g hng w ur wer  he w ver helpful n kep he bl r  cng ',\n",
       " 'be buffe n wn  fr he prce u cnn be  ',\n",
       " ' lve her uel cke n h wne reucn  he uck w ener  n her p he were elcu ',\n",
       " 'h  ne f he beer buffe h  hve been  ',\n",
       " ' we wen  gerlll n h  fnc fernn ',\n",
       " 'he f w elcu  ur brener w enve n pernble n we g  gre el ',\n",
       " 'he bence  wnerful n here  uc plng ',\n",
       " 'wll g bck nex rp u ',\n",
       " ' g  ',\n",
       " 'rel uh lver  le  be hne     n h g ',\n",
       " ' le   n pe n beween u rerng n he f rrvng  n  wn  h bu ',\n",
       " 'h   rell fnc h reurn whch  efnel wrh  v ',\n",
       " 'nce  pc n ener ',\n",
       " 'g prce ',\n",
       " 'check  u ',\n",
       " ' w pre gr ',\n",
       " ' ve h beer phere ',\n",
       " 'kn f hr  e up  ek bu he  ',\n",
       " 'lhugh  ver uch lke he lk n un f h plce  he cul experence w  b ppnng ',\n",
       " ' ju n  knw hw h plce nge  erve he blne f  hve ever een when he re preprng nn cune ',\n",
       " 'wr ervce  b  bu h  he le f her wrre ',\n",
       " 'ervce w fne n he wre w frenl ',\n",
       " 'he gu ll h ek  n ur ek lvng n wh h h ek  he be n wr plce   w he be ek he  ever een ',\n",
       " 'we hugh u  hve  venure furher w  ge g uh  bu h plce rell h he p h ngh ',\n",
       " 'h ff were  fr lck f  beer wr  bche ',\n",
       " 'bln    n  lkng h plce fr  nuber f ren n  n  wn  we e n b revewng    ll leve   h   ',\n",
       " 'phenenl f  ervce n bnce ',\n",
       " ' wuln  reurn ',\n",
       " 'efnel wrh venurng ff he rp fr he prk bell  wll reurn nex e   n veg ',\n",
       " 'h plce  w  verprce fr ecre f ',\n",
       " 'penne vk excellen ',\n",
       " 'he hve  g elecn f f nclung  ve elf nwch   crp chcken wrp   elh un el n e  burger ',\n",
       " 'he ngeen  rue ',\n",
       " 'elcu nc bgel  g elecn f cre cheee  rel lx wh cper even ',\n",
       " 'gre ubw  n fc    g when u ce here ever her ubw wll n ee ur expecn ',\n",
       " ' h  erul l brekf here ',\n",
       " 'h  ne f he be br wh f n veg ',\n",
       " 'he w exreel rue n rell  here re  n her reurn  wul lve  ne  urng  weeken n veg ',\n",
       " ' rnk w never ep n he e e rell gre enu uggen ',\n",
       " 'n       ',\n",
       " 'he wer wn  helpful r frenl n rrel checke n u ',\n",
       " ' hubn n  e lunch here n were ver ppne wh he f n ervce ',\n",
       " 'n he re curr h  uch bb h n wn  ver   e ',\n",
       " 'nce blnke f z ver p bu  feel lke h w ne  cver up he ubpr f ',\n",
       " 'he bhr re clen n he plce elf  well ecre ',\n",
       " 'he enu  lw chngng  f qul  gng wn   ervce  exreel lw ',\n",
       " 'he ervce w  lle lw   cnerng h were erve b   peple erver  he f w cng n  lw pce ',\n",
       " ' gve    hub wn',\n",
       " 'we wche ur wer p  l re enn  her ble n gnre u ',\n",
       " ' fnc  n  ce n he le f he  n we were greee n ee rgh w ',\n",
       " 'h   gre reurn  he nl b ',\n",
       " 'we we fr fr fve nue n vn ',\n",
       " 'crn h ce wh he l w le ',\n",
       " 'e hghlgh   gre qul ngr here ',\n",
       " 'he ff  frenl n he jn  lw clen ',\n",
       " 'h w  fferen cu hn he pece he her  bu ll wnerful n ener  well  well flvre ',\n",
       " ' rere he v p n  w he fr e   h rell excellen p nce gng gluen free everl er g ',\n",
       " 'h plce  g ',\n",
       " 'unfrunel  we u hve h he bker n lefver  becue everhng we rere w le ',\n",
       " ' ce bck  nce he relce n ll n pree ',\n",
       " ' w ee eel ',\n",
       " 'her enu  vere  n renbl prce ',\n",
       " 'v  ll c ',\n",
       " 'reurn  lw full bu never  w ',\n",
       " 'elcu  ',\n",
       " 'h plce  hn wn ne f he be plce  e n he phenx er re ',\n",
       " ' n  g here f u re lkng fr g f   ',\n",
       " ' ve never been ree  b ',\n",
       " 'bcn  hell l ',\n",
       " 'we l rere he pnch n vc l  he ngreen were  n he reng lerll h zer e ',\n",
       " 'h rell  hw veg fne nng ue  be  rgh wn  he enu hne  he le h hve n prce le ',\n",
       " 'he wree re ver frenl ',\n",
       " 'lr  he kh    h h  n  be e fr curr lver ',\n",
       " 'everhng n he enu  errfc n we were l hrlle h he e zng ccn fr ur vegern ugher ',\n",
       " 'perhp  cugh he n n ff ngh jugng b he her revew  bu   n npre  g bck ',\n",
       " 'he ervce here leve  l  be ere ',\n",
       " 'he phere  ern n hp  whle nnng  uch f czne ',\n",
       " 'n  weekl hun  bu efnel  plce  ce bck  ever nce n  whle ',\n",
       " 'we lerll  here fr    nue wh n ne kng  ke ur rer ',\n",
       " 'he burger h bluel n flvr   he e elf w ll bln  he burger w vercke n here w n chrcl flvr ',\n",
       " ' l ece n  en  bck becue ur wre lke lke he w n he verge f hvng  her ck ',\n",
       " ' ree up  be ree  ruel ',\n",
       " ' w prbbl r ',\n",
       " 'lve h plce  h he p when  wn ehng helh bu n lckng n qun r flvr ',\n",
       " ' rere he len rpberr ce cckl whch w l ncreble ',\n",
       " 'he f ucke  whch we expece bu  ucke re hn we cul hve gne ',\n",
       " 'nereng ecr ',\n",
       " 'wh  rell lke here  he crepe n ',\n",
       " 'l were erve h bre n buer  n he e p chp wh bcn b n p    ver rgnl n ver g ',\n",
       " 'u cn wch he preprng he elcu f  ',\n",
       " 'bh f he egg rll were fnc ',\n",
       " 'when  rer rrve  ne f he gr w ng ',\n",
       " ' h  l wh he wng  n e ce cre fr eer n lef feelng que fe ',\n",
       " '  n rell ure hw je  w ve be h g n he vlle b reer f phenx gzne ',\n",
       " 'he be plce  g fr   bwl f ph ',\n",
       " 'he lve uc n fr ll blw ',\n",
       " ' ve never been re nule r fel repece ',\n",
       " 'ver frenl ff ',\n",
       " '  wrh he rve ',\n",
       " ' h her g hng bu h plce  bu  exceeng ever hpe  cul hve ree f ',\n",
       " 'f w gre n  w he ervce ',\n",
       " 'he wr beer n  help ',\n",
       " 'gre brunch p ',\n",
       " 'ervce  frenl n nvng ',\n",
       " 'ver g lunch p ',\n",
       " ' ve lve here nce      n h w he fr  n l  e  ve eppe f n h plce ',\n",
       " 'he wr experence ever ',\n",
       " 'u hve been n ff ngh  h plce ',\n",
       " 'he e re elh   xe uhr  ukn gl puree  whe crn   beeu ',\n",
       " 'f h bug never hwe up  wul hve gven    fr ure  bu n he her e f he wll where h bug w clbng w he kchen ',\n",
       " 'fr bu    nue  we we re wng fr her l when we relze h  wn  cng n e n ',\n",
       " ' fren lve he ln rr ',\n",
       " 'wn  g bck ',\n",
       " 'exreel  ',\n",
       " 'wre w g hugh ',\n",
       " 'gg n n g ',\n",
       " 'he jcn j re elcu ',\n",
       " 'whch re ll n n wrh he prce ',\n",
       " '  he f  rch  rer ccrngl ',\n",
       " 'he hwer re  ue  u cn nl rne  n ke  full hwer  unle u n  n beng nue fr everne  ee ',\n",
       " 'he ervce w  b lckng ',\n",
       " 'lber bque  buell pru  r  fle ll neee l n pepper  n f cure here  nne  he ble ',\n",
       " 'hpefull h be fr he gng u f bune n ene wh cn ck cn ce n ',\n",
       " ' w eher  cl  n enugh flvr r ju b ',\n",
       " ' lve he bcn wrppe e ',\n",
       " 'h  n unbelevble brgn ',\n",
       " 'he flk   lw ke u feel  welce n pecl ',\n",
       " ' fr he  n   l unnpre ',\n",
       " 'h  he plce where  fr h ph n  w zng  ',\n",
       " 'h wnerful experence e h plce  u p whenever we re n wn gn ',\n",
       " 'f he f n  b enugh fr u  hen enj elng wh he wrl  wr nnng runk peple ',\n",
       " 'ver ver ver fun chef ',\n",
       " 'rere  uble cheeeburger   g  ngle p h w fllng pr  pcure uple  eh  ll uck ',\n",
       " 'gre plce  hve  cuple rnk n wch n n ll prng even  he wll re cvere wh v  ',\n",
       " 'f  were pble  gve he zer r  he  hve  ',\n",
       " 'he ecrpn   u u uce  n nher   eel uce   e nher   pc     well nne f he rll h uce n he ',\n",
       " '   h wul be he hre ecn    hnel  ll f   he e hw he re uppe  e  zng  ',\n",
       " 'f he h n rlle he ee we  hve e    n ure f we wll g bck n r  gn ',\n",
       " 'everne  ver enve  prvng excellen cuer ervce ',\n",
       " 'hrrble   n  we ur e n ne ',\n",
       " 'nw h h w que flvurful ',\n",
       " 'b h e ur e f he reurn w l ep  here w n excue ',\n",
       " '  wn  bu eher  l  he bulng w freezng cl ',\n",
       " 'lke he her revewer   u culn  p e  e  h plce gn  ',\n",
       " ' rnk k cle     nue  ce u  ne pn ',\n",
       " 'erul flvrful elgh  flk ',\n",
       " 'uch beer hn he her ce uh plce  wen  n veg ',\n",
       " 'he lghng  ju rk enugh  e he  ',\n",
       " 'be n he ub pr ervce  receve n n effr  hw her grue fr  bune  wn  be gng bck ',\n",
       " 'wner  re rell gre peple  ',\n",
       " 'here  nhng prvlege bu wrkng eng here ',\n",
       " 'he greek reng w ver cre n flvrful ',\n",
       " 'verll   n  hnk h  wul ke  pren  h plce gn becue he e  f he lr cpln h  lenl fel  ',\n",
       " 'nw he pzz elf w g he penu uce w ver  ',\n",
       " 'we h    ur ble n he ervce w pre f ',\n",
       " 'fnc ervce here ',\n",
       " '  well wul ve gven gfher zer r f pble ',\n",
       " 'he knw hw  ke he here ',\n",
       " 'ver ugh n ver hr n flvr ',\n",
       " ' hpe h plce ck run ',\n",
       " ' hve been n re hn  few br n veg  n  n ever recll beng chrge fr p wer ',\n",
       " 'he reurn phere w exque ',\n",
       " 'g ervce  ver clen  n nexpenve   b ',\n",
       " 'he ef w freh n generu n prn ',\n",
       " 'plu    nl   buck ',\n",
       " 'he ervce w n up  pr  eher ',\n",
       " 'hu fr  hve nl ve wce n he f w bluel elcu ech e ',\n",
       " 'ju  g  when  h  re hn  er g ',\n",
       " 'fr  elf prcle cffee cfe   w wll ppne ',\n",
       " 'he veggrn pler  u f h wrl ',\n",
       " 'u cn g wrng wh n f he f here ',\n",
       " 'u cn  be h ',\n",
       " 'ppe b h plce whle n n fr he rnn  ver frenl  kn ff ',\n",
       " 'he chef were frenl n   g jb ',\n",
       " ' ve h beer  n nl fr ece bb e p  bu even fr jenn ph ',\n",
       " ' lke he p n he ervce w unng ',\n",
       " 'he g c n  kp n he e n ww wh flvr ',\n",
       " ' hnk n gn',\n",
       " ' h he c l n  w pre bln   wll n be geng h gn ',\n",
       " ' wen  bch burger n  fren  recenn n w n ppne ',\n",
       " 'ervce nk here ',\n",
       " ' we n we ',\n",
       " 'h plce  n qul uh    n  qul reurn ',\n",
       " ' wul efnel recen he wng  well  he pzz ',\n",
       " 'gre pzz n l ',\n",
       " 'hng h wen wrng    he burne he gnk ',\n",
       " 'we we n hur fr wh w  brekf  cul hve ne     e beer  he ',\n",
       " 'h plce  zng ',\n",
       " ' he  gree wh  fellw elper  bu  hubn n  were  ppne wh h plce ',\n",
       " 'we   hur   never g eher f ur pzz  n her run u wh ce n ler  ',\n",
       " 'ju n  knw wh he were  lw ',\n",
       " 'he ff  gre  he f  elh  n he hve n ncreble beer elecn ',\n",
       " ' lve n he neghbrh    ppne  wn  be bck here  becue    cnvenen lcn ',\n",
       " ' n  knw pulle prk cul be  elcu ',\n",
       " 'u ge ncrebl freh fh  prepre wh cre ',\n",
       " 'befre  g n  wh  gve    r rng plee knw h h w  hr e eng  bch burger befre wrng  revew ',\n",
       " ' lve he fc h everhng n her enu  wrh  ',\n",
       " 'never gn wll  be nng  h plce ',\n",
       " 'he f w excellen n ervce w ver g ',\n",
       " 'g beer   rnk elecn n g f elecn ',\n",
       " 'plee  w fr he hrp r fre nle ',\n",
       " 'he p chp rer w      cul prbbl cun hw n chp were n h bx n  w prbbl run    ',\n",
       " 'f w rell brng ',\n",
       " 'g ervce check ',\n",
       " 'h gree crprn wll never ee nher e fr e ',\n",
       " 'wll never  ever g bck ',\n",
       " ' uch    lke  g bck   cn  ge pe he rcu ervce n wll never reurn ',\n",
       " 'n he uer  u cn ne n  chrng ur p    ver elghful ',\n",
       " '  n expec h  be  g ',\n",
       " 'fnc f ',\n",
       " 'he rere  e englh uffn h ce u une ',\n",
       " 'he f w ver g ',\n",
       " 'never gng bck ',\n",
       " 'gre f fr he prce  whch  ver hgh qul n hue e ',\n",
       " 'he bu b n he her hn w  rue ',\n",
       " 'b h pn   fren n  h bcll fgure u h plce w  jke n n  n kng  publcl n lul knwn ',\n",
       " 'bck  g bbq  lgher fre  renble prcng n ell he publc he re bck  he l w ',\n",
       " 'n cnerng he w f u lef here ver full n hpp fr bu      u ju cn  g wrng ',\n",
       " 'll he bre  e n hue ',\n",
       " 'he nl wne  he ervce ',\n",
       " 'l  he fre re whu  ub he wr fre  ve ever h ',\n",
       " 'ervce w excepnl n f w  g  ll he revew ',\n",
       " ' cuple f nh ler   reurne n h n zng el ',\n",
       " 'fvre plce n wn fr hwrrrrrr      ',\n",
       " 'he blck ee pe n wee pe    unrel ',\n",
       " 'u wn  be ppne ',\n",
       " 'he cul erve  wh ju he vngree n   ke fr  beer verll h  bu  w ll ver g ',\n",
       " ' g  fr  n plce n  ve never een n reurn h erve    egg brekf  epecll fr       ',\n",
       " 'when   n  g he he eel g ck n he nl h  few be f l ',\n",
       " 'he erver re n plen  el wh n he n  lw hnr pzz hu cupn ',\n",
       " 'bh f he were rul unbelevbl g  n    gl we wen bck ',\n",
       " 'we h fnc ervce  n were plee b he phere ',\n",
       " 'everhng w gr ',\n",
       " ' lve h plce ',\n",
       " 'gre ervce n f ',\n",
       " 'fr   he bhr  h lcn were r  e cver were n replenhe   ju pln uck   ',\n",
       " 'he burger     g he  gl nr       burger n w kn f ppne ',\n",
       " 'g  he f w elc ',\n",
       " 'here  nhng uhenc bu h plce ',\n",
       " 'he pghe  nhng pecl whever ',\n",
       " 'f ll he he  he ln w he be  bu ll were gre ',\n",
       " 'he vegeble re  freh n he uce feel lke uhenc h ',\n",
       " '  wrh rvng up fr ucn ',\n",
       " 'he elecn w prbbl he wr  ve een n veg     here w nne ',\n",
       " 'pre g beer elecn  ',\n",
       " 'h plce  lke chple  bu beer ',\n",
       " 'cl wr phere  fun n freh ppezer  ucculen ek  bebll ek     ',\n",
       " '  r fr he brck ven bre pp ',\n",
       " ' hve een here ulple e  n ech e he f w elcu ',\n",
       " 'we  nher en nue n fnll gve up n lef ',\n",
       " 'he w errble ',\n",
       " 'everne  ree equll pecl ',\n",
       " ' huln  ke    n fr pncke n egg ',\n",
       " ' w elcu   ',\n",
       " 'n he g e  he ff w genunel plen n enhuc    rel re ',\n",
       " 'l  grn re  ek   plce we hll hrpl v urng ur nex rp  veg ',\n",
       " ' lw he evenng w wnerful n he f elcu ',\n",
       " 'be fh  ve ever h n  lfe ',\n",
       " ' he bhr  ju nex r n ver nce  ',\n",
       " 'he buffe  ll n ll he f he ffere w bln ',\n",
       " 'h  n unng lle reurn wh e f he be f  hve ever e ',\n",
       " 'pre cl  wul  ',\n",
       " 'efnel  urn ff fr e    ub  ll be bck unle ene ele  bung ',\n",
       " 'erver   gre jb hnlng ur lrge rw ble ',\n",
       " ' fn wng f  be epcble  bu h ju wn  f ',\n",
       " ' wfe h he lber bque up whch w lukewr ',\n",
       " 'wul ce bck gn f  h  uh crvng whle n veg ',\n",
       " 'he ff re gre  he bnce  gre ',\n",
       " 'he eerve   r ',\n",
       " ' lef wh  ch che n fel ck he re f he  ',\n",
       " 'he rppe re hn he bll ',\n",
       " 'he nng pce  n  bu elegnl ecre n cfrble ',\n",
       " 'he wll cuze ur rer n w u  lke   uul  eggpln wh green ben r fr  lve  ',\n",
       " 'n he ben n rce were ecre  be ',\n",
       " 'be c n wn b fr  ',\n",
       " ' k bck  ne n g u here ',\n",
       " 'n n nereng pr f wn  h plce  zng ',\n",
       " 'rue   ncnere ngeen ',\n",
       " 'he ff re nw n  frenl  he w e fr beng erve re hrrble  n ne even  h fr he fr    nue ',\n",
       " ' wn  be bck ',\n",
       " 'he hve gre nner ',\n",
       " 'he ervce w uhnng    efnel recen he hlbu ',\n",
       " 'he f w errble ',\n",
       " 'wll never ever g bck n hve l n peple wh h hppene ',\n",
       " ' n  recen unle ur cr brek wn n frn f  n u re rvng ',\n",
       " ' wll ce bck here ever e   n veg ',\n",
       " 'h plce eerve ne r n     h   wh he f ',\n",
       " 'h   grce ',\n",
       " 'ef cng bck  bwl nex ',\n",
       " 'f u wn helh uhenc r ehc f  r h plce ',\n",
       " ' wll cnnue  ce here n le ngh n e ngh     hghl recen h plce  nne wh  n he re ',\n",
       " ' hve been here everl e n he p  n he experence h lw been gre ',\n",
       " 'we wlke w uffe n hpp bu ur fr veg buffe experence ',\n",
       " 'ervce w excellen n prce re pre renble cnerng h  veg n lce ne he crl hppng ll b r ',\n",
       " ' urze    he f w ncreble  n  rncenn    bu nhng brng e j que lke he er f he pneuc cnen pener ',\n",
       " '  prbbl ne f he few peple  ever g  n n n lke  ',\n",
       " 'k pzz  lw  h  wh l f gre e h pn fr he k ',\n",
       " 'ervce  perfec n he fl phere  nce  ee ',\n",
       " 'cke  perfecn n he ervce w peccble ',\n",
       " 'h ne  pl  ppnen ',\n",
       " 'verll   w ver ppne wh he qul f f  buchn ',\n",
       " ' n  hve  be n ccunn  knw   geng crewe ',\n",
       " 'gre plce  e  ren e f he lle  n pp hp n he n frncc b re ',\n",
       " ' w  fr e f  bulg gure h g n  hve  ell u  w re hn  ever hugh pble ',\n",
       " 'lef ver frure ',\n",
       " ' ll efnel be n n gn ',\n",
       " 'f w rell g n  g full pe f ',\n",
       " 'ervce w fnc ',\n",
       " 'l we f e ',\n",
       " ' n  knw wh kn   bu he hve he be ce e ',\n",
       " 'ce hungr  leve hpp n uffe ',\n",
       " 'fr ervce   gve he n r ',\n",
       " ' cn ure u h u wn  be ppne ',\n",
       " ' cn ke  lle b ervce bu he f uck ',\n",
       " 'gve up rng  e n f he cru  eeh ll re  ',\n",
       " 'bu nw  w cpleel gre u ',\n",
       " ' rell enje eng here ',\n",
       " 'fr e gng bu  hnk  wll quckl bece  regulr ',\n",
       " 'ur erver w ver nce  n even hugh he lke  lle verwhele wh ll f ur nee  he e prfenl n frenl unl he en ',\n",
       " 'fr wh  nner cpnn l e   everhng w ver freh wh nce exure n e ',\n",
       " 'n he grun  rgh nex  ur ble w  lrge  ere  been eppe n n rcke everwhere ple f green br pp ',\n",
       " 'furherre  u cn  even fn hur f pern n he webe ',\n",
       " 'we ve re  lke h plce bu fer     e  hnk we re ne wh he ',\n",
       " 'wh  ke h w ',\n",
       " 'n cpln ',\n",
       " 'h  e erul g pzz n   n exper cnneur n he pc ',\n",
       " 'wer w  jerk ',\n",
       " 'rke    wh wn  be ruhe ',\n",
       " 'hee re he nce reurn wner  ve ever ce cr ',\n",
       " ' never ce gn ',\n",
       " 'we lve he bcu   ',\n",
       " 'ervce  quck n frenl ',\n",
       " 'rere n ppezer n k    nue n hen he pzz nher    nue ',\n",
       " ' blule fnc ',\n",
       " ' w  huge wkwr    lb pece f cw h w    h grle n f ',\n",
       " 'efnel wll ce bck here gn ',\n",
       " ' lke ener becue   rk n  feel lke  br ',\n",
       " 'ww ver pc bu elcu ',\n",
       " 'f u re n flr  check  u ',\n",
       " ' ll ke  bune nner llr elewhere ',\n",
       " '  lve  g bck ',\n",
       " 'nw  h f reurn h  wnerful brekf lunch ',\n",
       " 'nhng pecl ',\n",
       " 'ech  f he week he hve  fferen el n   ll  elcu ',\n",
       " 'n  enn he cbnn f per  ln n bcn   bg wnner ',\n",
       " 'wll n be bck ',\n",
       " 'uce w ele ',\n",
       " 'he f  elcu n ju pc enugh   be ure  k fr pcer f u prefer  h w ',\n",
       " ' rbee ek w cke perfecl n h gre eque flvr ',\n",
       " ' n  hnk we ll be gng bck ne n ',\n",
       " 'f w  g ',\n",
       " '  fr fr  uh cnneur bu  cn efnel ell he fference beween g f n b f n h w cernl b f ',\n",
       " ' w  nule ',\n",
       " 'he l   e  h lunch here h been b ',\n",
       " 'he chcken wng cnne he re chcken e  hve ever een ',\n",
       " 'he f w ver g n  enje ever uhful  n enjble relxe venue fr cuple ll fl grup ec ',\n",
       " 'nrgle    hnk u re gre ',\n",
       " 'be er  n he uhwe ',\n",
       " 'we lve he plce ',\n",
       " 'efnel n wrh he     p ',\n",
       " 'he vnll ce cre w cre n h whle he prferle  chux  pr w freh enugh ',\n",
       " ' n z ll he e n nw hve  new p ',\n",
       " 'he nger w he wr ',\n",
       " 'he ne  rell que nce n ver clen ',\n",
       " 'he f w unng n he prce were ver renble ',\n",
       " ' n  hnk  ll be runnng bck  crl  ne n fr f ',\n",
       " 'h  w ue  he fc h  k    nue  be cknwlege  hen nher    nue  ge ur f   n he kep frgeng hng ',\n",
       " 'lve he rgr   ',\n",
       " 'h w  fr n nl veg buffe n   n ppn ',\n",
       " 'ver g  hugh ',\n",
       " 'he ne wn ne  he venln cul ue e upgrng ',\n",
       " 'gre prk nwch ',\n",
       " 'n  we ur e here ',\n",
       " 'l lewn   wul uch rher ju g  he celbck flwer hp n crel cffee ',\n",
       " 'hr  he cheee n  fren  burger w cl ',\n",
       " 'we enj her pzz n brunch ',\n",
       " 'he ek re ll well re n l perfecl cke ',\n",
       " 'we h  grup f     when we cle we wul nl hve    n he hnle u beufull ',\n",
       " ' lve  ',\n",
       " 'we ke fr he bll  leve whu eng n he n  brng h eher ',\n",
       " 'h plce   jewel n l veg  n excl wh  ve been hpng  fn n nerl en er lvng here ',\n",
       " 'ef w le  ble hrp n crb leg bu he crb leg efnel  n e freh ',\n",
       " 'he elecn f f w n he be ',\n",
       " 'elcu n  wll bluel be bck ',\n",
       " 'h n   ll fl reurn  h   fne nng eblhen ',\n",
       " 'he h  r rre wh  cver h w exrrnr n  lke he hnl lce wgu wh whe ruffle ',\n",
       " ' n hnk  wll be bck fr  ver lng e ',\n",
       " ' w che   g n  n h  rrel  g gn ',\n",
       " 'hw wee  h ',\n",
       " ' wll be bck n e n ',\n",
       " 'he enu h  uch g uff n   cul n ece ',\n",
       " 'wre f ll  he hule h wrker rgh n frn f e  bunch f hrrble ne cllng ',\n",
       " 'cnclun  ver fllng el ',\n",
       " 'her l pecl re lw  h wh  grup ',\n",
       " 'n hen rge ruck ',\n",
       " 'he pncke w l rell g n pre lrge  h ',\n",
       " 'h w  fr crwfh experence  n  w elcu ',\n",
       " 'her ner chcken fre ek n egg   ll e fvre ',\n",
       " 'wre w wee n funn ',\n",
       " ' l h  e    ul grn pupkn pncke wh pecn buer n he were zng  fluff  n elcu ',\n",
       " '  rher e rlne f  erul ',\n",
       " 'cn  enugh g hng bu h plce ',\n",
       " 'he bnce w ncreble ',\n",
       " 'he wre n nger re  frenl ',\n",
       " ' wul n recen h plce ',\n",
       " 'verll  wn  ver pree wh nc ',\n",
       " ' gr w bcll leuce nl ',\n",
       " 'errble ervce ',\n",
       " 'hrughl ppne ',\n",
       " ' n  ech uch p  bu  lve he hee  hn e p n hn pzz here ',\n",
       " 'gve   r  u wll be hpp u  ',\n",
       " 'b fr he be cheeecur we hve ever h ',\n",
       " 'renbl prce l ',\n",
       " 'everhng w perfec he ngh we were n ',\n",
       " 'he f  ver g fr ur pcl br f ',\n",
       " ' w  rve  ge here ',\n",
       " ' fr glnce    lvel bker cfe   nce bnce  clen  frenl ff ',\n",
       " 'nw    n hnk  wll g bck here ',\n",
       " 'pn ur fnger  n e n he enu  rer  n u wn  be ppne ',\n",
       " 'h h  uch  hng f beu  h reurn ',\n",
       " 'f u hven  gne here g nw ',\n",
       " ' gre  unhelh el ',\n",
       " 'fr e here n gh ju be he l ',\n",
       " 'he burger were zng ',\n",
       " 'lrl  he elver n  n   wr f plg when ur f w    nue le ',\n",
       " 'n  w w  expenve ',\n",
       " 'be ure  rer eer  even f u nee  pck   g   he ru n cnnl re bh  e fr ',\n",
       " 'h w  fr e n  cn  w unl he nex ',\n",
       " 'he brener w l nce ',\n",
       " 'everhng w g n  ',\n",
       " 'h plce  w hub up    w up ',\n",
       " 'he be plce n veg fr brekf  ju check u    r un ',\n",
       " 'f u lve uhenc excn f n wn  whle bunch f nereng  e elcu e  che fr  u nee  r h plce ',\n",
       " 'errble ngeen ',\n",
       " 'n excellen new reurn b n experence frenchn ',\n",
       " 'f here were zer r  wul gve  zer r ',\n",
       " 'gre ek  gre e  gre wne  zng eer ',\n",
       " 'wr rn ever ',\n",
       " 'he ek n he hrp re n  pnn he be enree  gc ',\n",
       " ' h he pprun   ple ur zng pzz ',\n",
       " 'we we fr hr nue  be ee  lhugh here were   vcn ble n we were he nl flk wng  ',\n",
       " 'he ellwl crpcc w el n ur uh freh ',\n",
       " ' wn  r gng bck here even f   ep ',\n",
       " 'n    gng  e he p h  fun e rnger hr n  ',\n",
       " 'ju pc enugh   perfec cull ',\n",
       " 'l ngh w  ecn e nng here n  w  hpp  ece  g bck ',\n",
       " 'n even   hell  we wll be rgh wh u  ',\n",
       " 'he eer were  b rnge ',\n",
       " ' bfren n  ce here fr he fr e n  recen rp  veg n cul n hve been re plee wh he qul f f n ervce ',\n",
       " ' rell  recen h plce  u cn g wrng wh h nu plce ',\n",
       " 'nce bnce ',\n",
       " ' wul recen vng r fr h ',\n",
       " ' gue be we wen n n ff ngh bu  w grceful ',\n",
       " 'hwever   recen experence  h prculr lcn w n  g ',\n",
       " ' knw h  n lke he her reurn  ll  ehng  ver ff here ',\n",
       " 'v h eblhen ',\n",
       " ' hnk h reurn uffer fr n rng hr enugh ',\n",
       " 'll f he p he were elcu ',\n",
       " '  her  h plce ',\n",
       " ' l h  bln vnegree n he bb green n her f pl ',\n",
       " 'fer w  fel gung ',\n",
       " ' g e ',\n",
       " ' beleve h h plce   gre p fr he wh  huge bell n hnkerng fr uh ',\n",
       " 'generu prn n gre e ',\n",
       " ' wll never g bck  h plce n wll never ever recene h plce  nne ',\n",
       " 'he erver wen bck n frh everl e  n even  uch  n  re u beng helpe  ',\n",
       " 'f w elcu ',\n",
       " 'n hur    erul ',\n",
       " ' cner h hef ',\n",
       " 'eew    h lcn nee  cplee verhul ',\n",
       " 'we recenl wnee her pr qul f ngeen wr her gue  well ',\n",
       " 'we n we n we ',\n",
       " 'he l ce bck  check n u regulrl  excellen ervce ',\n",
       " 'ur erver w uper nce n checke n u n e ',\n",
       " 'he pzz e l  uper chew n n  g w ',\n",
       " ' wung n  gve he  r bu w eepl ppne ',\n",
       " 'ervce w g n he cpn w beer ',\n",
       " 'he ff re l ver frenl n effcen ',\n",
       " ' fr he ervce     fn  becue   quck n u re beng erve b e nce flk ',\n",
       " 'b w h ucker r   ',\n",
       " 'ver re ',\n",
       " 'f u lk fr uhenc h f  g ele where ',\n",
       " 'her ek re      recene ',\n",
       " 'fer  pulle up  cr  we fr nher    nue befre beng cknwlege ',\n",
       " 'gre f n gre ervce n  clen n frenl eng ',\n",
       " 'll n ll   cn ure u  ll be bck ',\n",
       " ' he he hng  uch  chep qul blck lve ',\n",
       " ' brekf w perpre gre  wh  beuful preenn f   gn lce f   lghl ue wh pwere ugr ',\n",
       " 'he k pl re  n ',\n",
       " 'gre plce f ke u r e n ',\n",
       " 'he wre w frenl n hpp  cce fr vegn vegge pn ',\n",
       " 'g  fel lke  h never een h f unl h h ',\n",
       " ' w exreel  crub  n pre ele ',\n",
       " ' w  ple clr ne f nce n chr n h n flvr ',\n",
       " 'he crun l e hee whch  n exr plu ',\n",
       " ' g he  ee he re n wng ever ',\n",
       " ' ll be  regulr p n  rp  phenx ',\n",
       " ' rell enje cre cf  befre he expne   even l fren he h he be brekf ',\n",
       " 'n g fr he ne ',\n",
       " '   n wh he h ne n phlelph ',\n",
       " 'we g ng frl f  bu  ene up wng    nue ju  plce ur rer  nher    nue befre he f rrve ',\n",
       " 'he l hve he be cheee crp n wn ',\n",
       " 'g vlue  gre f  gre ervce ',\n",
       " 'culn  k fr  re fng el ',\n",
       " 'he f  g ',\n",
       " ' w wee ',\n",
       " ' ju wne  leve ',\n",
       " 'we e he rve ll he w fr nrh cle    n  w n ne b ppne ',\n",
       " ' wll n be eng here gn ',\n",
       " '     he wner rell rell nee  qu beng  chep le he wrp  frekng nwch n w pper n ne ',\n",
       " ' checke u h plce  cuple er g n w n pree ',\n",
       " 'he chcken  g w efnel rehee n w nl k  he wege were cl n gg ',\n",
       " 'rr   wll n be geng f fr here ne n   ',\n",
       " 'n blue u v ',\n",
       " 'he cw ngue n cheek c re zng ',\n",
       " ' fren  n lke h bl r ',\n",
       " 'epe hw hr  re bunee   cull rre fr e  gve    r ',\n",
       " 'he rell wn  ke ur experence  g ne ',\n",
       " ' wll n reurn ',\n",
       " ' h he chcken ph n  e ver bln ',\n",
       " 'ver ppnng   ',\n",
       " 'he grlle chcken w  ener n ellw fr he ffrn enng ',\n",
       " ' rve hru en u  n wn  w run fr hlf n hur fr ur f  bu ehw when we en up gng here he ke u w n w ',\n",
       " 'pre wee plce ',\n",
       " 'bence  perfec ',\n",
       " 'be f luck  he rue n nn cuer ervce fcue new ngeen ',\n",
       " 'n grnher cn ke  re chcken beer hn h ne ',\n",
       " ' ke ulple e fr he wne l n fer e e f beng gnre  wen  he he n g ne elf ',\n",
       " 'he ff  lw uper frenl n helpful  whch  epecll cl when u brng w ll b n  bb ',\n",
       " 'fur r fr he f   he gu n he blue hr fr h gre vbe   ll leng u n  e  ',\n",
       " 'he r beef nwch e rell g ',\n",
       " 'e evenng  h n  re bh rcll ck ',\n",
       " 'hgh qul chcken n he chcken cer l ',\n",
       " 'rere burger rre ce n we ll ne ',\n",
       " 'we were prpl greee n ee ',\n",
       " 're  g here fr lunch n  w  hue ',\n",
       " ' w prven e wrng b h uh br  n nl becue he qul  gre  bu he ervce  f n he f  peccble ',\n",
       " 'fer wng n hur n beng ee   w n n he gree f  ',\n",
       " 'h   g jn ',\n",
       " 'he crn here re nnel g ',\n",
       " '  n eng here ',\n",
       " 'ur wer w ver enve  frenl  n nfrve ',\n",
       " 'be f he weren  cl he wul hve been ewh eble ',\n",
       " 'h plce h  l f pre bu fl  elver ',\n",
       " 'ver b experence ',\n",
       " 'wh  ke ',\n",
       " 'f w verge  be ',\n",
       " 'gre f ',\n",
       " 'we wn  be gng bck ne n ',\n",
       " 'ver ver ppne rere he     bg b pler ',\n",
       " 'gre plce  relx n hve n wee burger n beer ',\n",
       " '  perfec fr   wn fl el r ge geher wh  few fren ',\n",
       " 'n uch flvr  he  n ver prl cnruce ',\n",
       " 'he p eng w ver cfrble ',\n",
       " 'he fre rce w r  well ',\n",
       " 'hn wn  fvre ln reurn ',\n",
       " 'h ju cre  leg  n  bk   eh  l pre rre here n veg ',\n",
       " ' w ju n  fun experence ',\n",
       " 'he phere w gre wh  lvel u f vln plng ng we requee ',\n",
       " ' pernll lve he huu  p  bklv  flfel n bb gnuh    zng wh he  wh eggpln   ',\n",
       " 'ver cnvenen  nce we were ng  he g ',\n",
       " 'he wner re uper frenl n he ff  cureu ',\n",
       " 'bh gre ',\n",
       " 'eclecc elecn ',\n",
       " 'he wee p  were g bu he nn rng were perfecn r  cle   hve h ',\n",
       " 'he ff w ver enve ',\n",
       " 'n he chef w generu wh h e  even ce run wce  we cn ke pcure wh h  ',\n",
       " 'he wner ue  wrk  nbu   h plce  rell lr fr hlf he prce ',\n",
       " 'ggle ecre n  gne hburger wll pp up ',\n",
       " 'n g here ',\n",
       " ' pre he wn  ppn ',\n",
       " '  uh lver v h plce b ll en ',\n",
       " 'wh  gre uble cheeeburger ',\n",
       " 'wee ervce n f ',\n",
       " ' fnc neghbrh ge    ',\n",
       " ' cn  w  g bck ',\n",
       " 'he plnn were he wr  ve ever e ',\n",
       " '   gre plce n  hghl recen  ',\n",
       " 'ervce w lw n n enve ',\n",
       " ' gve    r hen  n   gvng    r nw ',\n",
       " 'ur ff pen re e lkng  heelve hn e ',\n",
       " 'eer  pnn c w zng ',\n",
       " 'ver g f  gre phere  ',\n",
       " 'n g ek ',\n",
       " 'l brunch fl ',\n",
       " 'prce re ver renble  flvr re p n  he uce  he e  n he lw  n renche n  ',\n",
       " 'he ecr  nce  n he pn uc unrck  plen ',\n",
       " 'he ek w zng   rge flle rellen w he be ef ple  hve ever h ',\n",
       " 'g f   g ervce  ',\n",
       " ' w bluel zng ',\n",
       " ' prbbl wn  be bck   be hne ',\n",
       " 'wll efnel be bck ',\n",
       " 'he ergen pepper beef nwch wh uju uce  n excellen nwch  well ',\n",
       " 'hwn breeze  ng gc  n pnepple elgh re he he h  ve re  fr n he re ll g ',\n",
       " 'wen fr lunch   ervce w lw ',\n",
       " 'we h  uch   bu he plce befre we wlke n h he expece   be zng  bu w quckl ppne ',\n",
       " ' w rfe ',\n",
       " 'neele    we wll never be bck here gn ',\n",
       " 'nw  he f w efnel n fllng  ll  n fr he prce u p u hul expec re ',\n",
       " 'he chp h ce u were rppng wh gree  n l n eble ',\n",
       " ' wn  rell pree wh rp ek ',\n",
       " 'hve been gng nce      n ever el h been wee  ',\n",
       " 'ur erver w ver nce n enve  were he her ervng ff ',\n",
       " 'he cher w frenl n even brugh he f u  e ',\n",
       " ' wrk n he hpl nur n pre vlle n hve refrne fr recenng cb n lnger ',\n",
       " 'he phere here  fun ',\n",
       " 'wul n recen  her ',\n",
       " 'ervce  quck n even   g  rer re ju lke we lke  ',\n",
       " ' en rell  hw  u ge  fu fr ur fh n chp when    errble   ',\n",
       " 'h   ur uh n belle were ll que plee ',\n",
       " 'n  hng ',\n",
       " '  hub up  ',\n",
       " 'f u re reng h plee n  g here ',\n",
       " ' lve he grlle pzz  rene e f leg ln pzz ',\n",
       " 'nl pr   lrge eng re  nce br re  gre ple rnk enu  he be brck ven pzz wh hee ugh ',\n",
       " 'he hve  rell nce phere ',\n",
       " 'ngh  h he elk fle pecl   n  ucke ',\n",
       " 'fer ne be   w hke ',\n",
       " 'we rere e l clc n e new he fer gng here  few e n were rel ppne wh everhng ',\n",
       " 'cue  qun  ple  hne ',\n",
       " 'he chcken w elcul ene n h he perfec fr n he ue n  chcken n he ne ',\n",
       " 'he f w gre  lw  cplen  he chef ',\n",
       " 'pecl hnk  ln   fr he recenn n wh  rer    ll u fr  u ',\n",
       " 'wee elecn f beer ',\n",
       " 'gre f n wee ervce ',\n",
       " 'ne nce hng w h he e gru n he bll nce ur pr w lrger hn   r    n he n  expec re p hn h ',\n",
       " ' fl w n  pple juce    fl        ',\n",
       " 'he hn nn chcken w l ver  ',\n",
       " ' fr he ervce   hugh  w g ',\n",
       " 'he f w brel lukewr    u hve been ng wng fr he erver  brng  u  u ',\n",
       " 'rn  br  efnel ne enburgh eblhen  wn  be revng ',\n",
       " 'nce chnee reurn  ve been n  whle ',\n",
       " 'verll   lke here f n he ervce ',\n",
       " 'he l nw erve nn nn bre wh huu n e pc pne nu uce h w u f h wrl ',\n",
       " 'prbbl never cng bck  n wuln  recen  ',\n",
       " 'fren  p    l b  he brel uche  ',\n",
       " 'r he n he rpr  experence e  f n pee  frenl ervce ',\n",
       " ' lve he ecr wh he chnee cllgrph wll pper ',\n",
       " 'never h nhng  cpln bu here ',\n",
       " 'he reurn  ver clen n h  fl reurn feel   ',\n",
       " ' w w ver fre ',\n",
       " '  n ure hw lng we  here bu  w lng enugh fr e  begn  feel wkwrl u f plce ',\n",
       " 'when  pene he nwch   w pree  bu n n  g w ',\n",
       " 'wll n be bck ',\n",
       " 'here w  wr feelng wh he ervce n  fel lke her gue fr  pecl re ',\n",
       " 'n exenve enu prve l f pn fr brekf ',\n",
       " ' lw rer fr he vegern enu urng nner  whch h  we rr f pn  che fr ',\n",
       " ' hve wche her prce nfle  prn ge ller n ngeen ue grw rpl ',\n",
       " 'wnerful ll p n he bence e e feel ll wr n fuzz ne ',\n",
       " ' g  enj he ef l  wh  fbulu vnegree ',\n",
       " 'he wnn were hn  n hck n chew  l el n ur uh ',\n",
       " 'level   pc w perfec  where pce n  ver whel he up ',\n",
       " 'we were  rgh n e n ur erver fr he ge g w fnc ',\n",
       " 'n hng  n  enj  h he crw  f ler crw  run     n up ',\n",
       " 'when   n h e f wn  h wll efnel be  p  ll h up gn ',\n",
       " ' h  w ver    nue  ge  rnk n lnger  ge   rep ',\n",
       " 'h   gre plce  e ',\n",
       " 'he jlpen bcn   g ',\n",
       " 'he ervce w pr n h beng nce ',\n",
       " 'f w g  ervce w g  prce were g ',\n",
       " 'he plce w n clen n he f h  le ',\n",
       " 'he chcken he re k  he beef  lke he leher ',\n",
       " 'bu he ervce w ben b ',\n",
       " '   hpp  be here    ',\n",
       " 'e lke r ',\n",
       " 'ne f he few plce n phenx h  wul efnel g bck  gn  ',\n",
       " 'he blck w zng ',\n",
       " '  cle   hue    lw ke  nn fnc  ffrble prce  g f ',\n",
       " '  bh he h   ur   he egg flwer up were bluel   r ',\n",
       " ' h w pr qul beng gg n ele ',\n",
       " 'gre e   fl nner n  un ngh ',\n",
       " 'he f  n   ll  n     rel rnl hunn le  ',\n",
       " 'wh  bher e  w he lw ervce ',\n",
       " 'he flr brener re bluel zng ',\n",
       " 'her frzen rgr re w  ugr fr  e ',\n",
       " 'hee were  g we rere he wce ',\n",
       " ' n  nuhell     he rerun ell lke  cbnn f  r fh rke n  ewer ',\n",
       " ' grlfren  vel w ver b ',\n",
       " 'unfrunel   w n g ',\n",
       " ' h  pre fng experence ',\n",
       " 'jn he club n ge wee ffer v el ',\n",
       " 'perfec fr ene  e  wh nl lke beer ce cl  r n h ce  even cler ',\n",
       " 'bln n flvrle   g w f ecrbng he brel ep e ',\n",
       " 'he chn  whch   n fn f  be h plce el ',\n",
       " 'he nch re  u hve ',\n",
       " 'we wll n be cng bck ',\n",
       " ' n  hve ver n wr   bu h plce  bu  e everhng pre well ',\n",
       " 'he ff  uper nce n ver quck even wh he crz crw f he wnwn jure  lwer  n cur ff ',\n",
       " 'gre phere  frenl n f ervce ',\n",
       " 'when  receve  p  w huge   hve  l f e n   hub up here ',\n",
       " 'nce ur f rrve   eh ',\n",
       " 'png       fr  h g n fre h lk lke  ce u f  k  el  he wenerchnzel  n  e f  g el ',\n",
       " 'he clc ne lber rll w fnc ',\n",
       " ' brher n lw wh wrk  he ll e here e   n gue wh he w ck ll ngh  ',\n",
       " ' g   gng  hve  revew h plce wce   nce here  rbue  he plce n nce   rbue  n even hel here l ngh ',\n",
       " 'he chp n l were rell g  he l w ver freh ',\n",
       " 'h plce  gre              ',\n",
       " 'ecre f ',\n",
       " 'nce u ge ne u ll be pree wh he plce ',\n",
       " '  uper p ',\n",
       " 'n ervce w uper frenl ',\n",
       " 'wh re hee  lle vegeble  vercke ',\n",
       " 'h plce w uch  nce urpre ',\n",
       " 'he were glen crp n elcu ',\n",
       " ' h hgh hpe fr h plce nce he burger re cke ver  chrcl grll  bu unfrunel he e fell fl  w fl ',\n",
       " ' cul e her bruche ll    evne ',\n",
       " 'n  ngle eplee ce u  ee f we were k r even neee  wer refll nce he fnll erve u ur f ',\n",
       " 'll  he zzrell ck  he were he be hng we rere ',\n",
       " 'he fr e  ever ce here  h n zng experence   ll ell peple hw wee he uck w ',\n",
       " 'he erver w ver neglgen f ur nee n e u feel ver unwelce     wul n ugge h plce ',\n",
       " 'he ervce w errble hugh ',\n",
       " 'h plce  verprce  n cnen wh her bb  n  rell  verprce ',\n",
       " ' w pcke  ',\n",
       " ' cn  h he eer were u ',\n",
       " 'he enl fru w freh whe pech puree ',\n",
       " ' kep geng wre n wre  nw   ffcll ne ',\n",
       " 'h plce hul hnel be blwn up ',\n",
       " 'bu  efnel wul n e here gn ',\n",
       " ' n we ur ne here ',\n",
       " ' lve h he pu her f n nce plc cnner  ppe  crng  n lle pper keu bxe ',\n",
       " 'he cr pe w elce n hn n  ',\n",
       " 'wful ervce ',\n",
       " 'wn  ever g here gn ',\n",
       " 'f qul h been hrrble ',\n",
       " 'fr h prce  cn hnk f  few plce  wul hve uch rher gne ',\n",
       " 'he ervce here  fr  be ',\n",
       " '  lve uh  bu  fun kbuk  be ver prce  ver hp n uner ervce ',\n",
       " ' urelf  fvr n  w fr h h ',\n",
       " 'ver pr ervce ',\n",
       " 'n ne  he ble hugh he f w bve verge r wrh he w h we h fr  ',\n",
       " 'be ervce n f ever  r ur erver w  g n frenl he e ur  ',\n",
       " 'he were excellen ',\n",
       " ' p he bll bu  n p becue  fel he erver   errble jb ',\n",
       " 'ju h lunch here n h  gre experence ',\n",
       " ' hve never h uch bln f whch urpre e cnerng he rcle we re fcue  uch n her pce n flvr ',\n",
       " 'f  w verprce n prn re fuckng ll ',\n",
       " ' recenl re cbller  n  hve been bck ever week nce ',\n",
       " 'fr    buck  he   rell expec beer f ',\n",
       " 'he f ce u   g pce ',\n",
       " ' e here wce n  l v  n epecll enje he ln l ',\n",
       " 'we cul n beleve hw r he er were ',\n",
       " 'h plce eerve n r ',\n",
       " 'n fc   gng  run up    r  ju becue he w  wee ',\n",
       " '  belef  ech h qulfe  he wr vern f hee f  hve ever e ',\n",
       " 'b  r n   hve  ver lw lernce fr rue cuer ervce peple    ur jb  be nce n ple  wh he herwe  ',\n",
       " 'he pe were gre n  w he bcu ',\n",
       " ' prbbl wul n g here gn ',\n",
       " ' flvrful n h ju he perfec un f he ',\n",
       " 'he prce  renble n he ervce  gre ',\n",
       " 'he wfe he her el  ccnu hrp   n ur fren rell  n enj her el  eher ',\n",
       " ' fell g he huev rncher n he n  lk  ppelng ',\n",
       " 'wen n fr hpp hur  gre l f wne ',\n",
       " 'e   h buffe  prce bu  hnk u ge wh u p fr n h plce u re geng que  l ',\n",
       " ' prbbl wn  be cng bck here ',\n",
       " 'wr f ervce  ve h n  whle ',\n",
       " 'h plce  pre g  nce lle vbe n he reurn ',\n",
       " 'lk bu gre cuer ervce f cure we wll be bck ',\n",
       " 'h he re n h  cl he re cle  r ep  wche ff prepre f wh bre hn  n glve everhng  eep fre n l ',\n",
       " ' lve her fre n her ben ',\n",
       " 'lw  pleure elng wh h ',\n",
       " 'he hve  plehr f l n nwche  n everhng  ve re ge  el f pprvl ',\n",
       " 'h plce  wee f u wn ehng lgh n helh urng he uer ',\n",
       " 'fr uh n he rp  h  he plce  g ',\n",
       " 'he ervce w gre  even he nger ce n helpe wh ur ble ',\n",
       " 'he feel f he nng r w re cllege ckng cure hn hgh cl nng n he ervce w lw  be ',\n",
       " ' re h revew wh w r  bu   eng   gve  nl ne ',\n",
       " 'h  he wr uh  hve ever e bee cc  ',\n",
       " 'll n ll n excellen reurn hghlghe b gre ervce   unque enu  n  beuful eng ',\n",
       " ' bfren n    he br n h  cpleel elghful experence ',\n",
       " 'wer vbe fr wner ',\n",
       " 'here w hrl n e ',\n",
       " ' ve h beer bgel fr he grcer re ',\n",
       " 'g  plce fr gr ',\n",
       " ' lve he wner chef  h ne uhenc jpnee cl ue ',\n",
       " 'nw he burger ren   g  he pzz whch ue  be zng  ugh n flvrle ',\n",
       " ' fun  x nch lng pece f wre n  l ',\n",
       " 'he ervce w errble  f w ecre ',\n",
       " 'we efnel enje urelve ',\n",
       " ' rere lbng up   whch w ju wr   n e lke  up wh frzen ebll ',\n",
       " 'n hree fferen ccn  ke fr well ne r eu well  n ll hree e  g he ble pece f e n  ple ',\n",
       " ' h bu w be n refue  e nre ',\n",
       " 'he ervce w exreel lw ',\n",
       " 'fer    nue w   g  ble ',\n",
       " 'erul kller h ch le ',\n",
       " 'n llerg wrnng n he enu  n he wre h bluel n clue   whch el  r  n cnn penu ',\n",
       " ' bfren re he eerrnen chcken l n fell n lve ',\n",
       " 'her rng beer n p  l  hghlgh f h plce ',\n",
       " 'prcng   b f  cncern  ellw uhr ',\n",
       " 'wr h ever ',\n",
       " 'f u  n veg u u ge brekf here  le nce ',\n",
       " ' wn  fr  ur erver w gre n we h perfec ervce ',\n",
       " 'he pzz elecn re g ',\n",
       " ' h rwberr e  whch w g ',\n",
       " 'hghl unprfenl n rue   ll prn ',\n",
       " 'verll   gre experence ',\n",
       " 'pen ur ne elewhere ',\n",
       " 'her regulr e bre w equll fng wh he ccnl p f buer        ',\n",
       " 'he buffe  bellg w fr fr wh  ncpe ',\n",
       " 'n he rnk re wek  peple ',\n",
       " '  rer w n crrec ',\n",
       " 'l   feel lke he chp re bugh  n e n hue ',\n",
       " 'fer he ppnng nner we wen elewhere fr eer ',\n",
       " 'he chp n l  here  zng                   ',\n",
       " 'we wn  be reurnng ',\n",
       " 'h   new fv veg buffe p ',\n",
       " ' erul cnn beleve h he wner h  n unexperence eplee h ll re runnng run lke chcken wh her he cu ff ',\n",
       " 'ver  ver  ',\n",
       " ' fel nule n repece  hw cul u lk n juge nher hun beng lke h ',\n",
       " 'hw cn u cll urelf  ekhue f u cn  prperl ck  ek   n  unern ',\n",
       " '  n pree wh he cncep r he f ',\n",
       " 'he nl hng  wn   crz bu w her gucle   n  lke  pur e ',\n",
       " 'here  rell nhng fr e  pn  hpe ur experence  b',\n",
       " ' g f pnng here  he buffe ',\n",
       " 'he brugh  freh bch f fre n  w hnkng  ehng wr bu n ',\n",
       " 'wh hul hve been  hlru  u chr eve nner  reeber w he bgge fl f he enre rp fr u ',\n",
       " 'neele     wn  be gng bck ne n ',\n",
       " 'h plce  gung ',\n",
       " 'ever e  e here   ee crng ewrk   prfenl egree ',\n",
       " 'he r le clr w  jke ',\n",
       " 'hwever  here w  uch grlc n he fnue   w brel eble ',\n",
       " ' cul brel ch he el  bu n  cpln becue  w  bune lunch ',\n",
       " ' w  b   h l he her  fnh  ',\n",
       " ' l k her frever  brng u he check when we ke fr  ',\n",
       " 'we ren  ne  ke  cene  reurn bu  ju n  ge    efnel l he lve fer h ne ',\n",
       " 'ppnng experence ',\n",
       " 'he f  bu n pr wh enn   whch     n g  ll ',\n",
       " 'f u wn  w fr ecre f n wnrgh errble ervce  hen h  he plce fr u ',\n",
       " 'w ver re  ll   ng ',\n",
       " 'we wn  be gng bck ',\n",
       " 'he plce w frl clen bu he f pl wn  wrh  ',\n",
       " 'h plce lcke le  ',\n",
       " 'he ngr w bu hlf f  gl wne full n w      rculu ',\n",
       " 'n  bher cng here ',\n",
       " 'he e w pre r   h he lce brke n pulle prk ',\n",
       " 'he bulng elf ee pre ne  he bhr  pre rpp  bu  wuln  e here gn ',\n",
       " ' w equll wful ',\n",
       " 'prbbl n n  hurr  g bck ',\n",
       " 'ver lw  eng even wh reervn ',\n",
       " 'n g b n rech f he gnn ',\n",
       " 'he chew cre uce w bln n he vegeble were unercke ',\n",
       " 'he chple rnch ppng ue w ele  eee hn n were wn wh n he ',\n",
       " ' w  b  wee  n rell pc enugh  n lcke flvr ',\n",
       " ' w ver ppne  ',\n",
       " 'h plce  hrrble n w verprce ',\n",
       " 'be   ju her vegern fre  bu  ve been wce n  hugh  w verge  be ',\n",
       " ' wn  bu  ll n nw we knw wh ',\n",
       " 'he ble ue re l r  l f he e n he wrker re n lw frenl n helpful wh he enu ',\n",
       " 'he bnce here  n feel lke  buffe eng  bu re f  uche nr gren fr e n bcu ',\n",
       " 'cn  p ervce ',\n",
       " 'he fre were n h  n neher w  burger ',\n",
       " 'bu hen he ce bck cl ',\n",
       " 'hen ur f ce u  ppnen enue ',\n",
       " 'he rel ppnen w ur wer ',\n",
       " ' hubn  he w ver rue     n even plgze fr he b f r nhng ',\n",
       " 'he nl ren  e here wul be  fll up befre  ngh f bnge rnkng ju  ge e crb n ur ch ',\n",
       " 'nul  prfun euchebgger  n h  g ue fr  ke brek whle ervng ju  lf  ',\n",
       " 'f ene rer w c n   u hnk   be pr f cuer ervce  k f   cb r l cr ',\n",
       " 'he w que ppne lhugh e ble nee  be plce  her r ',\n",
       " 'fer ll he rve revew  culn  w  e here      wh  ppnen ',\n",
       " 'el c  pre n n hul be ve f pble ',\n",
       " '  n hr  ke  ecen hburger ',\n",
       " 'bu  n  lke  ',\n",
       " 'hell n wll  g bck',\n",
       " 'we ve hve gen  uch beer ervce fr he pzz plce nex r hn he ervce we receve fr h reurn ',\n",
       " ' n  knw wh he bg el  bu h plce  bu  wn  be bck   ll  ',\n",
       " ' eel   wne  lk  he nger bu   n wn  lk  he gu wh w ng h f frebll behn he br ',\n",
       " 'he bnce n  uch beer ',\n",
       " 'unfrunel   nl e u up fr pppnen wh ur enree ',\n",
       " 'he f wn  g ',\n",
       " 'ur erver uck  w  crrecn  ur erver heer ucke ',\n",
       " 'wh hppene nex w pre    ff pung ',\n",
       " ' b cue  knw   fl wne   rell wne  lke h plce ',\n",
       " 'verprce fr wh u re geng ',\n",
       " ' ve n he bhr  lunch ',\n",
       " ' kep lkng  he e n  h n bece    nue  e ll n f ',\n",
       " ' hve been  ver few plce  e h uner n crcunce wul  ever reurn   n h p he l ',\n",
       " 'we re wh he un h whch w brwnh n clr n bvul wn  freh ',\n",
       " 'f w belw verge ',\n",
       " ' ure e be he nch  he ve bu  wul expec  lle b re cng fr  reurn ',\n",
       " 'll n ll  h lng b w  b f  flp ',\n",
       " 'he prble  hve  h he chrge        fr  nwch h  n bgger hn  ubw ub  whch ffer beer n re un f vegeble  ',\n",
       " 'hrp  when  unwrppe    lve nl      le fr bruhfre   w lerll ce cl ',\n",
       " ' lcke flvr  eee unercke  n r ',\n",
       " ' rell  preve h he plce hn  cle wn ',\n",
       " ' wul v h plce f u re ng n he rge ',\n",
       " 'he refre ben h ce wh  el were re u n cru n he f w bln ',\n",
       " 'pen ur ne n e e plce ele ',\n",
       " ' l  he ble nex  u fun  lve green cerpllr n her l ',\n",
       " 'he preenn f he f w wful ',\n",
       " ' cn  ell u hw ppne  w ',\n",
       " ' hnk f hul hve flvr n exure n bh were lckng ',\n",
       " 'ppee nnl gne ',\n",
       " 'verll  w n pree n wul n g bck ',\n",
       " 'he whle experence w unerwhelng  n  hnk we ll ju g  nnj uh nex e ',\n",
       " 'hen   f  hn  we enugh f  lfe here  he pure l n he wun b rwng u he e  k  brng he check ']"
      ]
     },
     "execution_count": 16,
     "metadata": {},
     "output_type": "execute_result"
    }
   ],
   "source": [
    "corpus"
   ]
  },
  {
   "cell_type": "code",
   "execution_count": 17,
   "id": "6c05b297",
   "metadata": {
    "execution": {
     "iopub.execute_input": "2024-10-07T17:23:41.120857Z",
     "iopub.status.busy": "2024-10-07T17:23:41.120431Z",
     "iopub.status.idle": "2024-10-07T17:23:41.160144Z",
     "shell.execute_reply": "2024-10-07T17:23:41.158924Z"
    },
    "papermill": {
     "duration": 0.060968,
     "end_time": "2024-10-07T17:23:41.162691",
     "exception": false,
     "start_time": "2024-10-07T17:23:41.101723",
     "status": "completed"
    },
    "tags": []
   },
   "outputs": [
    {
     "data": {
      "text/plain": [
       "(996, 1183)"
      ]
     },
     "execution_count": 17,
     "metadata": {},
     "output_type": "execute_result"
    }
   ],
   "source": [
    "cv.fit_transform(corpus).toarray().shape"
   ]
  },
  {
   "cell_type": "markdown",
   "id": "241dc8ad",
   "metadata": {
    "papermill": {
     "duration": 0.017096,
     "end_time": "2024-10-07T17:23:41.197351",
     "exception": false,
     "start_time": "2024-10-07T17:23:41.180255",
     "status": "completed"
    },
    "tags": []
   },
   "source": [
    "# Splitting the Date"
   ]
  },
  {
   "cell_type": "code",
   "execution_count": 18,
   "id": "512ead18",
   "metadata": {
    "execution": {
     "iopub.execute_input": "2024-10-07T17:23:41.234091Z",
     "iopub.status.busy": "2024-10-07T17:23:41.233643Z",
     "iopub.status.idle": "2024-10-07T17:23:41.263965Z",
     "shell.execute_reply": "2024-10-07T17:23:41.262931Z"
    },
    "papermill": {
     "duration": 0.052125,
     "end_time": "2024-10-07T17:23:41.266825",
     "exception": false,
     "start_time": "2024-10-07T17:23:41.214700",
     "status": "completed"
    },
    "tags": []
   },
   "outputs": [],
   "source": [
    "X = cv.fit_transform(corpus).toarray()\n",
    "y = df['Liked']"
   ]
  },
  {
   "cell_type": "code",
   "execution_count": 19,
   "id": "f57e3e97",
   "metadata": {
    "execution": {
     "iopub.execute_input": "2024-10-07T17:23:41.304917Z",
     "iopub.status.busy": "2024-10-07T17:23:41.303856Z",
     "iopub.status.idle": "2024-10-07T17:23:41.311867Z",
     "shell.execute_reply": "2024-10-07T17:23:41.310786Z"
    },
    "papermill": {
     "duration": 0.030162,
     "end_time": "2024-10-07T17:23:41.314410",
     "exception": false,
     "start_time": "2024-10-07T17:23:41.284248",
     "status": "completed"
    },
    "tags": []
   },
   "outputs": [
    {
     "data": {
      "text/plain": [
       "array([[0, 0, 0, ..., 0, 0, 0],\n",
       "       [0, 0, 0, ..., 0, 0, 0],\n",
       "       [0, 0, 0, ..., 0, 0, 0],\n",
       "       ...,\n",
       "       [0, 0, 0, ..., 0, 0, 0],\n",
       "       [0, 0, 0, ..., 0, 0, 0],\n",
       "       [0, 0, 0, ..., 0, 0, 0]])"
      ]
     },
     "execution_count": 19,
     "metadata": {},
     "output_type": "execute_result"
    }
   ],
   "source": [
    "X"
   ]
  },
  {
   "cell_type": "code",
   "execution_count": 20,
   "id": "39e06070",
   "metadata": {
    "execution": {
     "iopub.execute_input": "2024-10-07T17:23:41.351374Z",
     "iopub.status.busy": "2024-10-07T17:23:41.350906Z",
     "iopub.status.idle": "2024-10-07T17:23:41.360082Z",
     "shell.execute_reply": "2024-10-07T17:23:41.359075Z"
    },
    "papermill": {
     "duration": 0.030731,
     "end_time": "2024-10-07T17:23:41.362580",
     "exception": false,
     "start_time": "2024-10-07T17:23:41.331849",
     "status": "completed"
    },
    "tags": []
   },
   "outputs": [
    {
     "data": {
      "text/plain": [
       "0      1\n",
       "1      0\n",
       "2      0\n",
       "3      1\n",
       "4      1\n",
       "      ..\n",
       "991    0\n",
       "992    0\n",
       "993    0\n",
       "994    0\n",
       "995    0\n",
       "Name: Liked, Length: 996, dtype: int64"
      ]
     },
     "execution_count": 20,
     "metadata": {},
     "output_type": "execute_result"
    }
   ],
   "source": [
    "y"
   ]
  },
  {
   "cell_type": "code",
   "execution_count": 21,
   "id": "3bd04581",
   "metadata": {
    "execution": {
     "iopub.execute_input": "2024-10-07T17:23:41.399853Z",
     "iopub.status.busy": "2024-10-07T17:23:41.399425Z",
     "iopub.status.idle": "2024-10-07T17:23:41.413988Z",
     "shell.execute_reply": "2024-10-07T17:23:41.412966Z"
    },
    "papermill": {
     "duration": 0.03643,
     "end_time": "2024-10-07T17:23:41.416789",
     "exception": false,
     "start_time": "2024-10-07T17:23:41.380359",
     "status": "completed"
    },
    "tags": []
   },
   "outputs": [],
   "source": [
    "X_train, x_test, Y_train, y_test = train_test_split(X,y,test_size=0.2,random_state=43)"
   ]
  },
  {
   "cell_type": "code",
   "execution_count": 22,
   "id": "0a90533a",
   "metadata": {
    "execution": {
     "iopub.execute_input": "2024-10-07T17:23:41.454415Z",
     "iopub.status.busy": "2024-10-07T17:23:41.453943Z",
     "iopub.status.idle": "2024-10-07T17:23:41.461396Z",
     "shell.execute_reply": "2024-10-07T17:23:41.460081Z"
    },
    "papermill": {
     "duration": 0.02899,
     "end_time": "2024-10-07T17:23:41.463736",
     "exception": false,
     "start_time": "2024-10-07T17:23:41.434746",
     "status": "completed"
    },
    "tags": []
   },
   "outputs": [
    {
     "data": {
      "text/plain": [
       "(796, 1183)"
      ]
     },
     "execution_count": 22,
     "metadata": {},
     "output_type": "execute_result"
    }
   ],
   "source": [
    "X_train.shape"
   ]
  },
  {
   "cell_type": "code",
   "execution_count": 23,
   "id": "82e003b0",
   "metadata": {
    "execution": {
     "iopub.execute_input": "2024-10-07T17:23:41.501262Z",
     "iopub.status.busy": "2024-10-07T17:23:41.500767Z",
     "iopub.status.idle": "2024-10-07T17:23:41.508324Z",
     "shell.execute_reply": "2024-10-07T17:23:41.507229Z"
    },
    "papermill": {
     "duration": 0.029185,
     "end_time": "2024-10-07T17:23:41.510707",
     "exception": false,
     "start_time": "2024-10-07T17:23:41.481522",
     "status": "completed"
    },
    "tags": []
   },
   "outputs": [
    {
     "data": {
      "text/plain": [
       "(200, 1183)"
      ]
     },
     "execution_count": 23,
     "metadata": {},
     "output_type": "execute_result"
    }
   ],
   "source": [
    "x_test.shape"
   ]
  },
  {
   "cell_type": "code",
   "execution_count": 24,
   "id": "9deec751",
   "metadata": {
    "execution": {
     "iopub.execute_input": "2024-10-07T17:23:41.549433Z",
     "iopub.status.busy": "2024-10-07T17:23:41.548233Z",
     "iopub.status.idle": "2024-10-07T17:23:41.555676Z",
     "shell.execute_reply": "2024-10-07T17:23:41.554627Z"
    },
    "papermill": {
     "duration": 0.029455,
     "end_time": "2024-10-07T17:23:41.558285",
     "exception": false,
     "start_time": "2024-10-07T17:23:41.528830",
     "status": "completed"
    },
    "tags": []
   },
   "outputs": [
    {
     "data": {
      "text/plain": [
       "(796,)"
      ]
     },
     "execution_count": 24,
     "metadata": {},
     "output_type": "execute_result"
    }
   ],
   "source": [
    "Y_train.shape"
   ]
  },
  {
   "cell_type": "code",
   "execution_count": 25,
   "id": "30321536",
   "metadata": {
    "execution": {
     "iopub.execute_input": "2024-10-07T17:23:41.596722Z",
     "iopub.status.busy": "2024-10-07T17:23:41.596282Z",
     "iopub.status.idle": "2024-10-07T17:23:41.603344Z",
     "shell.execute_reply": "2024-10-07T17:23:41.602217Z"
    },
    "papermill": {
     "duration": 0.029019,
     "end_time": "2024-10-07T17:23:41.605783",
     "exception": false,
     "start_time": "2024-10-07T17:23:41.576764",
     "status": "completed"
    },
    "tags": []
   },
   "outputs": [
    {
     "data": {
      "text/plain": [
       "(200,)"
      ]
     },
     "execution_count": 25,
     "metadata": {},
     "output_type": "execute_result"
    }
   ],
   "source": [
    "y_test.shape"
   ]
  },
  {
   "cell_type": "markdown",
   "id": "c738a1c8",
   "metadata": {
    "papermill": {
     "duration": 0.018066,
     "end_time": "2024-10-07T17:23:41.642140",
     "exception": false,
     "start_time": "2024-10-07T17:23:41.624074",
     "status": "completed"
    },
    "tags": []
   },
   "source": [
    "# Build ML Model"
   ]
  },
  {
   "cell_type": "markdown",
   "id": "7255bed1",
   "metadata": {
    "papermill": {
     "duration": 0.018022,
     "end_time": "2024-10-07T17:23:41.678840",
     "exception": false,
     "start_time": "2024-10-07T17:23:41.660818",
     "status": "completed"
    },
    "tags": []
   },
   "source": [
    "**Naive Bayes Model**"
   ]
  },
  {
   "cell_type": "code",
   "execution_count": 26,
   "id": "582bd7ee",
   "metadata": {
    "execution": {
     "iopub.execute_input": "2024-10-07T17:23:41.717510Z",
     "iopub.status.busy": "2024-10-07T17:23:41.717054Z",
     "iopub.status.idle": "2024-10-07T17:23:41.722131Z",
     "shell.execute_reply": "2024-10-07T17:23:41.721049Z"
    },
    "papermill": {
     "duration": 0.027416,
     "end_time": "2024-10-07T17:23:41.724442",
     "exception": false,
     "start_time": "2024-10-07T17:23:41.697026",
     "status": "completed"
    },
    "tags": []
   },
   "outputs": [],
   "source": [
    "from sklearn.naive_bayes import MultinomialNB"
   ]
  },
  {
   "cell_type": "code",
   "execution_count": 27,
   "id": "f7735b86",
   "metadata": {
    "execution": {
     "iopub.execute_input": "2024-10-07T17:23:41.762835Z",
     "iopub.status.busy": "2024-10-07T17:23:41.762402Z",
     "iopub.status.idle": "2024-10-07T17:23:41.767438Z",
     "shell.execute_reply": "2024-10-07T17:23:41.766148Z"
    },
    "papermill": {
     "duration": 0.027059,
     "end_time": "2024-10-07T17:23:41.769852",
     "exception": false,
     "start_time": "2024-10-07T17:23:41.742793",
     "status": "completed"
    },
    "tags": []
   },
   "outputs": [],
   "source": [
    "model = MultinomialNB()"
   ]
  },
  {
   "cell_type": "code",
   "execution_count": 28,
   "id": "b9d7fa34",
   "metadata": {
    "execution": {
     "iopub.execute_input": "2024-10-07T17:23:41.809452Z",
     "iopub.status.busy": "2024-10-07T17:23:41.808323Z",
     "iopub.status.idle": "2024-10-07T17:23:41.833093Z",
     "shell.execute_reply": "2024-10-07T17:23:41.831632Z"
    },
    "papermill": {
     "duration": 0.047291,
     "end_time": "2024-10-07T17:23:41.835859",
     "exception": false,
     "start_time": "2024-10-07T17:23:41.788568",
     "status": "completed"
    },
    "tags": []
   },
   "outputs": [
    {
     "data": {
      "text/html": [
       "<style>#sk-container-id-1 {color: black;background-color: white;}#sk-container-id-1 pre{padding: 0;}#sk-container-id-1 div.sk-toggleable {background-color: white;}#sk-container-id-1 label.sk-toggleable__label {cursor: pointer;display: block;width: 100%;margin-bottom: 0;padding: 0.3em;box-sizing: border-box;text-align: center;}#sk-container-id-1 label.sk-toggleable__label-arrow:before {content: \"▸\";float: left;margin-right: 0.25em;color: #696969;}#sk-container-id-1 label.sk-toggleable__label-arrow:hover:before {color: black;}#sk-container-id-1 div.sk-estimator:hover label.sk-toggleable__label-arrow:before {color: black;}#sk-container-id-1 div.sk-toggleable__content {max-height: 0;max-width: 0;overflow: hidden;text-align: left;background-color: #f0f8ff;}#sk-container-id-1 div.sk-toggleable__content pre {margin: 0.2em;color: black;border-radius: 0.25em;background-color: #f0f8ff;}#sk-container-id-1 input.sk-toggleable__control:checked~div.sk-toggleable__content {max-height: 200px;max-width: 100%;overflow: auto;}#sk-container-id-1 input.sk-toggleable__control:checked~label.sk-toggleable__label-arrow:before {content: \"▾\";}#sk-container-id-1 div.sk-estimator input.sk-toggleable__control:checked~label.sk-toggleable__label {background-color: #d4ebff;}#sk-container-id-1 div.sk-label input.sk-toggleable__control:checked~label.sk-toggleable__label {background-color: #d4ebff;}#sk-container-id-1 input.sk-hidden--visually {border: 0;clip: rect(1px 1px 1px 1px);clip: rect(1px, 1px, 1px, 1px);height: 1px;margin: -1px;overflow: hidden;padding: 0;position: absolute;width: 1px;}#sk-container-id-1 div.sk-estimator {font-family: monospace;background-color: #f0f8ff;border: 1px dotted black;border-radius: 0.25em;box-sizing: border-box;margin-bottom: 0.5em;}#sk-container-id-1 div.sk-estimator:hover {background-color: #d4ebff;}#sk-container-id-1 div.sk-parallel-item::after {content: \"\";width: 100%;border-bottom: 1px solid gray;flex-grow: 1;}#sk-container-id-1 div.sk-label:hover label.sk-toggleable__label {background-color: #d4ebff;}#sk-container-id-1 div.sk-serial::before {content: \"\";position: absolute;border-left: 1px solid gray;box-sizing: border-box;top: 0;bottom: 0;left: 50%;z-index: 0;}#sk-container-id-1 div.sk-serial {display: flex;flex-direction: column;align-items: center;background-color: white;padding-right: 0.2em;padding-left: 0.2em;position: relative;}#sk-container-id-1 div.sk-item {position: relative;z-index: 1;}#sk-container-id-1 div.sk-parallel {display: flex;align-items: stretch;justify-content: center;background-color: white;position: relative;}#sk-container-id-1 div.sk-item::before, #sk-container-id-1 div.sk-parallel-item::before {content: \"\";position: absolute;border-left: 1px solid gray;box-sizing: border-box;top: 0;bottom: 0;left: 50%;z-index: -1;}#sk-container-id-1 div.sk-parallel-item {display: flex;flex-direction: column;z-index: 1;position: relative;background-color: white;}#sk-container-id-1 div.sk-parallel-item:first-child::after {align-self: flex-end;width: 50%;}#sk-container-id-1 div.sk-parallel-item:last-child::after {align-self: flex-start;width: 50%;}#sk-container-id-1 div.sk-parallel-item:only-child::after {width: 0;}#sk-container-id-1 div.sk-dashed-wrapped {border: 1px dashed gray;margin: 0 0.4em 0.5em 0.4em;box-sizing: border-box;padding-bottom: 0.4em;background-color: white;}#sk-container-id-1 div.sk-label label {font-family: monospace;font-weight: bold;display: inline-block;line-height: 1.2em;}#sk-container-id-1 div.sk-label-container {text-align: center;}#sk-container-id-1 div.sk-container {/* jupyter's `normalize.less` sets `[hidden] { display: none; }` but bootstrap.min.css set `[hidden] { display: none !important; }` so we also need the `!important` here to be able to override the default hidden behavior on the sphinx rendered scikit-learn.org. See: https://github.com/scikit-learn/scikit-learn/issues/21755 */display: inline-block !important;position: relative;}#sk-container-id-1 div.sk-text-repr-fallback {display: none;}</style><div id=\"sk-container-id-1\" class=\"sk-top-container\"><div class=\"sk-text-repr-fallback\"><pre>MultinomialNB()</pre><b>In a Jupyter environment, please rerun this cell to show the HTML representation or trust the notebook. <br />On GitHub, the HTML representation is unable to render, please try loading this page with nbviewer.org.</b></div><div class=\"sk-container\" hidden><div class=\"sk-item\"><div class=\"sk-estimator sk-toggleable\"><input class=\"sk-toggleable__control sk-hidden--visually\" id=\"sk-estimator-id-1\" type=\"checkbox\" checked><label for=\"sk-estimator-id-1\" class=\"sk-toggleable__label sk-toggleable__label-arrow\">MultinomialNB</label><div class=\"sk-toggleable__content\"><pre>MultinomialNB()</pre></div></div></div></div></div>"
      ],
      "text/plain": [
       "MultinomialNB()"
      ]
     },
     "execution_count": 28,
     "metadata": {},
     "output_type": "execute_result"
    }
   ],
   "source": [
    "model.fit(X_train,Y_train)"
   ]
  },
  {
   "cell_type": "markdown",
   "id": "c2de6a1f",
   "metadata": {
    "papermill": {
     "duration": 0.018394,
     "end_time": "2024-10-07T17:23:41.874978",
     "exception": false,
     "start_time": "2024-10-07T17:23:41.856584",
     "status": "completed"
    },
    "tags": []
   },
   "source": [
    "# Model Prediction"
   ]
  },
  {
   "cell_type": "code",
   "execution_count": 29,
   "id": "2ee48f8b",
   "metadata": {
    "execution": {
     "iopub.execute_input": "2024-10-07T17:23:41.914078Z",
     "iopub.status.busy": "2024-10-07T17:23:41.913565Z",
     "iopub.status.idle": "2024-10-07T17:23:41.925540Z",
     "shell.execute_reply": "2024-10-07T17:23:41.923931Z"
    },
    "papermill": {
     "duration": 0.036938,
     "end_time": "2024-10-07T17:23:41.930537",
     "exception": false,
     "start_time": "2024-10-07T17:23:41.893599",
     "status": "completed"
    },
    "tags": []
   },
   "outputs": [],
   "source": [
    "y_pred = model.predict(x_test)"
   ]
  },
  {
   "cell_type": "code",
   "execution_count": 30,
   "id": "cfc9d82c",
   "metadata": {
    "execution": {
     "iopub.execute_input": "2024-10-07T17:23:42.011080Z",
     "iopub.status.busy": "2024-10-07T17:23:42.010347Z",
     "iopub.status.idle": "2024-10-07T17:23:42.022783Z",
     "shell.execute_reply": "2024-10-07T17:23:42.021248Z"
    },
    "papermill": {
     "duration": 0.057886,
     "end_time": "2024-10-07T17:23:42.027284",
     "exception": false,
     "start_time": "2024-10-07T17:23:41.969398",
     "status": "completed"
    },
    "tags": []
   },
   "outputs": [
    {
     "data": {
      "text/plain": [
       "array([0, 1, 1, 0, 0, 1, 0, 0, 1, 0, 1, 0, 1, 1, 0, 1, 0, 1, 1, 0, 1, 1,\n",
       "       1, 0, 0, 1, 1, 1, 0, 0, 0, 0, 0, 0, 0, 0, 1, 1, 0, 1, 0, 0, 0, 1,\n",
       "       0, 1, 0, 1, 1, 1, 1, 1, 1, 0, 1, 1, 0, 1, 1, 1, 0, 1, 0, 0, 0, 0,\n",
       "       1, 1, 1, 0, 1, 1, 0, 0, 1, 0, 1, 0, 1, 1, 0, 0, 0, 0, 0, 1, 1, 1,\n",
       "       0, 1, 1, 0, 1, 1, 0, 1, 1, 1, 1, 0, 0, 0, 1, 1, 0, 1, 0, 0, 0, 0,\n",
       "       0, 0, 0, 1, 0, 1, 1, 0, 0, 0, 1, 1, 1, 0, 1, 0, 0, 1, 1, 0, 1, 0,\n",
       "       0, 0, 1, 0, 0, 1, 1, 1, 0, 0, 1, 0, 1, 0, 1, 0, 0, 0, 0, 1, 1, 0,\n",
       "       0, 0, 1, 1, 1, 1, 1, 0, 0, 0, 0, 1, 1, 1, 1, 1, 0, 0, 1, 1, 1, 1,\n",
       "       1, 0, 0, 1, 1, 1, 0, 0, 1, 0, 0, 1, 0, 1, 0, 1, 0, 1, 0, 0, 0, 0,\n",
       "       1, 0])"
      ]
     },
     "execution_count": 30,
     "metadata": {},
     "output_type": "execute_result"
    }
   ],
   "source": [
    "y_pred"
   ]
  },
  {
   "cell_type": "code",
   "execution_count": 31,
   "id": "f1737a35",
   "metadata": {
    "execution": {
     "iopub.execute_input": "2024-10-07T17:23:42.076089Z",
     "iopub.status.busy": "2024-10-07T17:23:42.075668Z",
     "iopub.status.idle": "2024-10-07T17:23:42.084003Z",
     "shell.execute_reply": "2024-10-07T17:23:42.082906Z"
    },
    "papermill": {
     "duration": 0.031373,
     "end_time": "2024-10-07T17:23:42.086606",
     "exception": false,
     "start_time": "2024-10-07T17:23:42.055233",
     "status": "completed"
    },
    "tags": []
   },
   "outputs": [
    {
     "data": {
      "text/plain": [
       "array([0, 0, 0, 0, 1, 1, 1, 0, 0, 0, 1, 0, 0, 1, 0, 1, 0, 1, 1, 0, 1, 0,\n",
       "       0, 0, 0, 1, 0, 1, 0, 1, 0, 0, 0, 0, 0, 0, 0, 1, 0, 1, 0, 0, 0, 1,\n",
       "       0, 0, 1, 1, 1, 1, 1, 1, 1, 0, 0, 1, 0, 1, 1, 1, 0, 1, 1, 1, 1, 0,\n",
       "       0, 1, 0, 0, 1, 1, 0, 0, 1, 0, 1, 1, 1, 1, 0, 0, 0, 0, 0, 0, 0, 1,\n",
       "       0, 0, 1, 0, 1, 1, 0, 0, 1, 0, 1, 0, 0, 0, 1, 1, 1, 1, 1, 0, 0, 0,\n",
       "       0, 0, 0, 1, 1, 1, 1, 0, 0, 0, 1, 1, 0, 1, 1, 0, 1, 1, 1, 0, 1, 1,\n",
       "       0, 0, 1, 0, 0, 1, 1, 1, 0, 0, 1, 1, 0, 0, 1, 0, 0, 1, 1, 0, 1, 0,\n",
       "       0, 1, 1, 1, 1, 1, 1, 0, 1, 0, 0, 1, 1, 1, 1, 0, 0, 0, 0, 1, 1, 1,\n",
       "       1, 0, 0, 1, 0, 1, 0, 1, 1, 0, 1, 1, 0, 1, 1, 0, 0, 1, 0, 1, 0, 0,\n",
       "       1, 0])"
      ]
     },
     "execution_count": 31,
     "metadata": {},
     "output_type": "execute_result"
    }
   ],
   "source": [
    "y_test.values"
   ]
  },
  {
   "cell_type": "markdown",
   "id": "3b9735b4",
   "metadata": {
    "papermill": {
     "duration": 0.018571,
     "end_time": "2024-10-07T17:23:42.124191",
     "exception": false,
     "start_time": "2024-10-07T17:23:42.105620",
     "status": "completed"
    },
    "tags": []
   },
   "source": [
    "# Model Evalution"
   ]
  },
  {
   "cell_type": "code",
   "execution_count": 32,
   "id": "4952a8d2",
   "metadata": {
    "execution": {
     "iopub.execute_input": "2024-10-07T17:23:42.163918Z",
     "iopub.status.busy": "2024-10-07T17:23:42.163473Z",
     "iopub.status.idle": "2024-10-07T17:23:42.172423Z",
     "shell.execute_reply": "2024-10-07T17:23:42.170977Z"
    },
    "papermill": {
     "duration": 0.031984,
     "end_time": "2024-10-07T17:23:42.175035",
     "exception": false,
     "start_time": "2024-10-07T17:23:42.143051",
     "status": "completed"
    },
    "tags": []
   },
   "outputs": [
    {
     "name": "stdout",
     "output_type": "stream",
     "text": [
      "[[78 24]\n",
      " [23 75]]\n"
     ]
    }
   ],
   "source": [
    "print(confusion_matrix(y_test,y_pred))"
   ]
  },
  {
   "cell_type": "code",
   "execution_count": 33,
   "id": "7504178c",
   "metadata": {
    "execution": {
     "iopub.execute_input": "2024-10-07T17:23:42.215745Z",
     "iopub.status.busy": "2024-10-07T17:23:42.215296Z",
     "iopub.status.idle": "2024-10-07T17:23:42.223734Z",
     "shell.execute_reply": "2024-10-07T17:23:42.222491Z"
    },
    "papermill": {
     "duration": 0.032058,
     "end_time": "2024-10-07T17:23:42.226342",
     "exception": false,
     "start_time": "2024-10-07T17:23:42.194284",
     "status": "completed"
    },
    "tags": []
   },
   "outputs": [
    {
     "name": "stdout",
     "output_type": "stream",
     "text": [
      "0.765\n"
     ]
    }
   ],
   "source": [
    "print(accuracy_score(y_test,y_pred))"
   ]
  },
  {
   "cell_type": "code",
   "execution_count": 34,
   "id": "edca48a5",
   "metadata": {
    "execution": {
     "iopub.execute_input": "2024-10-07T17:23:42.266983Z",
     "iopub.status.busy": "2024-10-07T17:23:42.266525Z",
     "iopub.status.idle": "2024-10-07T17:23:42.283253Z",
     "shell.execute_reply": "2024-10-07T17:23:42.281977Z"
    },
    "papermill": {
     "duration": 0.040299,
     "end_time": "2024-10-07T17:23:42.286020",
     "exception": false,
     "start_time": "2024-10-07T17:23:42.245721",
     "status": "completed"
    },
    "tags": []
   },
   "outputs": [
    {
     "name": "stdout",
     "output_type": "stream",
     "text": [
      "              precision    recall  f1-score   support\n",
      "\n",
      "           0       0.77      0.76      0.77       102\n",
      "           1       0.76      0.77      0.76        98\n",
      "\n",
      "    accuracy                           0.77       200\n",
      "   macro avg       0.76      0.77      0.76       200\n",
      "weighted avg       0.77      0.77      0.77       200\n",
      "\n"
     ]
    }
   ],
   "source": [
    "print(classification_report(y_test,y_pred))"
   ]
  }
 ],
 "metadata": {
  "kaggle": {
   "accelerator": "none",
   "dataSources": [
    {
     "datasetId": 1171731,
     "sourceId": 1962651,
     "sourceType": "datasetVersion"
    }
   ],
   "dockerImageVersionId": 30786,
   "isGpuEnabled": false,
   "isInternetEnabled": true,
   "language": "python",
   "sourceType": "notebook"
  },
  "kernelspec": {
   "display_name": "Python 3",
   "language": "python",
   "name": "python3"
  },
  "language_info": {
   "codemirror_mode": {
    "name": "ipython",
    "version": 3
   },
   "file_extension": ".py",
   "mimetype": "text/x-python",
   "name": "python",
   "nbconvert_exporter": "python",
   "pygments_lexer": "ipython3",
   "version": "3.10.14"
  },
  "papermill": {
   "default_parameters": {},
   "duration": 18.291373,
   "end_time": "2024-10-07T17:23:43.028156",
   "environment_variables": {},
   "exception": null,
   "input_path": "__notebook__.ipynb",
   "output_path": "__notebook__.ipynb",
   "parameters": {},
   "start_time": "2024-10-07T17:23:24.736783",
   "version": "2.6.0"
  }
 },
 "nbformat": 4,
 "nbformat_minor": 5
}
