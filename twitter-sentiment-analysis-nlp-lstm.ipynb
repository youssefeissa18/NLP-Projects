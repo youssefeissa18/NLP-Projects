{
 "cells": [
  {
   "cell_type": "markdown",
   "id": "b343d9db",
   "metadata": {
    "_cell_guid": "b1076dfc-b9ad-4769-8c92-a6c4dae69d19",
    "_uuid": "8f2839f25d086af736a60e9eeb907d3b93b6e0e5",
    "papermill": {
     "duration": 0.014639,
     "end_time": "2024-10-06T20:31:00.627928",
     "exception": false,
     "start_time": "2024-10-06T20:31:00.613289",
     "status": "completed"
    },
    "tags": []
   },
   "source": [
    "# Import Necessary Library"
   ]
  },
  {
   "cell_type": "code",
   "execution_count": 1,
   "id": "e1d753b8",
   "metadata": {
    "execution": {
     "iopub.execute_input": "2024-10-06T20:31:00.656994Z",
     "iopub.status.busy": "2024-10-06T20:31:00.656610Z",
     "iopub.status.idle": "2024-10-06T20:31:20.827734Z",
     "shell.execute_reply": "2024-10-06T20:31:20.826917Z"
    },
    "papermill": {
     "duration": 20.187786,
     "end_time": "2024-10-06T20:31:20.830049",
     "exception": false,
     "start_time": "2024-10-06T20:31:00.642263",
     "status": "completed"
    },
    "tags": []
   },
   "outputs": [],
   "source": [
    "import numpy as np\n",
    "import pandas as pd\n",
    "import matplotlib.pyplot as plt\n",
    "import seaborn as sns\n",
    "\n",
    "import re\n",
    "from sklearn.model_selection import train_test_split\n",
    "from sklearn.feature_extraction.text import TfidfVectorizer\n",
    "from sklearn.preprocessing import LabelEncoder\n",
    "from sklearn.metrics import accuracy_score, classification_report\n",
    "from tensorflow.keras.preprocessing.text import Tokenizer\n",
    "from tensorflow.keras.preprocessing.sequence import pad_sequences\n",
    "from tensorflow.keras.models import Sequential\n",
    "from tensorflow.keras.layers import Embedding, LSTM, Dense, Dropout, Bidirectional, BatchNormalization\n",
    "from tensorflow.keras.regularizers import l2\n",
    "import spacy\n"
   ]
  },
  {
   "cell_type": "markdown",
   "id": "38b85c86",
   "metadata": {
    "papermill": {
     "duration": 0.013113,
     "end_time": "2024-10-06T20:31:20.856751",
     "exception": false,
     "start_time": "2024-10-06T20:31:20.843638",
     "status": "completed"
    },
    "tags": []
   },
   "source": [
    "# Reading The Data"
   ]
  },
  {
   "cell_type": "code",
   "execution_count": 2,
   "id": "fe453ae5",
   "metadata": {
    "execution": {
     "iopub.execute_input": "2024-10-06T20:31:20.884512Z",
     "iopub.status.busy": "2024-10-06T20:31:20.883976Z",
     "iopub.status.idle": "2024-10-06T20:31:21.196486Z",
     "shell.execute_reply": "2024-10-06T20:31:21.195714Z"
    },
    "papermill": {
     "duration": 0.328799,
     "end_time": "2024-10-06T20:31:21.198685",
     "exception": false,
     "start_time": "2024-10-06T20:31:20.869886",
     "status": "completed"
    },
    "tags": []
   },
   "outputs": [],
   "source": [
    "df_train = pd.read_csv('/kaggle/input/twitter-entity-sentiment-analysis/twitter_training.csv')\n",
    "df_test = pd.read_csv(\"/kaggle/input/twitter-entity-sentiment-analysis/twitter_validation.csv\")"
   ]
  },
  {
   "cell_type": "markdown",
   "id": "98c243c0",
   "metadata": {
    "papermill": {
     "duration": 0.013368,
     "end_time": "2024-10-06T20:31:21.226068",
     "exception": false,
     "start_time": "2024-10-06T20:31:21.212700",
     "status": "completed"
    },
    "tags": []
   },
   "source": [
    "# Explore The Data"
   ]
  },
  {
   "cell_type": "markdown",
   "id": "9f0823c2",
   "metadata": {
    "papermill": {
     "duration": 0.014751,
     "end_time": "2024-10-06T20:31:21.254275",
     "exception": false,
     "start_time": "2024-10-06T20:31:21.239524",
     "status": "completed"
    },
    "tags": []
   },
   "source": [
    "**Train Data**"
   ]
  },
  {
   "cell_type": "code",
   "execution_count": 3,
   "id": "827fe7cd",
   "metadata": {
    "execution": {
     "iopub.execute_input": "2024-10-06T20:31:21.283090Z",
     "iopub.status.busy": "2024-10-06T20:31:21.282422Z",
     "iopub.status.idle": "2024-10-06T20:31:21.299982Z",
     "shell.execute_reply": "2024-10-06T20:31:21.299130Z"
    },
    "papermill": {
     "duration": 0.034256,
     "end_time": "2024-10-06T20:31:21.301943",
     "exception": false,
     "start_time": "2024-10-06T20:31:21.267687",
     "status": "completed"
    },
    "tags": []
   },
   "outputs": [
    {
     "data": {
      "text/html": [
       "<div>\n",
       "<style scoped>\n",
       "    .dataframe tbody tr th:only-of-type {\n",
       "        vertical-align: middle;\n",
       "    }\n",
       "\n",
       "    .dataframe tbody tr th {\n",
       "        vertical-align: top;\n",
       "    }\n",
       "\n",
       "    .dataframe thead th {\n",
       "        text-align: right;\n",
       "    }\n",
       "</style>\n",
       "<table border=\"1\" class=\"dataframe\">\n",
       "  <thead>\n",
       "    <tr style=\"text-align: right;\">\n",
       "      <th></th>\n",
       "      <th>2401</th>\n",
       "      <th>Borderlands</th>\n",
       "      <th>Positive</th>\n",
       "      <th>im getting on borderlands and i will murder you all ,</th>\n",
       "    </tr>\n",
       "  </thead>\n",
       "  <tbody>\n",
       "    <tr>\n",
       "      <th>0</th>\n",
       "      <td>2401</td>\n",
       "      <td>Borderlands</td>\n",
       "      <td>Positive</td>\n",
       "      <td>I am coming to the borders and I will kill you...</td>\n",
       "    </tr>\n",
       "    <tr>\n",
       "      <th>1</th>\n",
       "      <td>2401</td>\n",
       "      <td>Borderlands</td>\n",
       "      <td>Positive</td>\n",
       "      <td>im getting on borderlands and i will kill you ...</td>\n",
       "    </tr>\n",
       "    <tr>\n",
       "      <th>2</th>\n",
       "      <td>2401</td>\n",
       "      <td>Borderlands</td>\n",
       "      <td>Positive</td>\n",
       "      <td>im coming on borderlands and i will murder you...</td>\n",
       "    </tr>\n",
       "    <tr>\n",
       "      <th>3</th>\n",
       "      <td>2401</td>\n",
       "      <td>Borderlands</td>\n",
       "      <td>Positive</td>\n",
       "      <td>im getting on borderlands 2 and i will murder ...</td>\n",
       "    </tr>\n",
       "    <tr>\n",
       "      <th>4</th>\n",
       "      <td>2401</td>\n",
       "      <td>Borderlands</td>\n",
       "      <td>Positive</td>\n",
       "      <td>im getting into borderlands and i can murder y...</td>\n",
       "    </tr>\n",
       "  </tbody>\n",
       "</table>\n",
       "</div>"
      ],
      "text/plain": [
       "   2401  Borderlands  Positive  \\\n",
       "0  2401  Borderlands  Positive   \n",
       "1  2401  Borderlands  Positive   \n",
       "2  2401  Borderlands  Positive   \n",
       "3  2401  Borderlands  Positive   \n",
       "4  2401  Borderlands  Positive   \n",
       "\n",
       "  im getting on borderlands and i will murder you all ,  \n",
       "0  I am coming to the borders and I will kill you...     \n",
       "1  im getting on borderlands and i will kill you ...     \n",
       "2  im coming on borderlands and i will murder you...     \n",
       "3  im getting on borderlands 2 and i will murder ...     \n",
       "4  im getting into borderlands and i can murder y...     "
      ]
     },
     "execution_count": 3,
     "metadata": {},
     "output_type": "execute_result"
    }
   ],
   "source": [
    "df_train.head()"
   ]
  },
  {
   "cell_type": "markdown",
   "id": "7e05eef2",
   "metadata": {
    "papermill": {
     "duration": 0.0133,
     "end_time": "2024-10-06T20:31:21.329095",
     "exception": false,
     "start_time": "2024-10-06T20:31:21.315795",
     "status": "completed"
    },
    "tags": []
   },
   "source": [
    "**Test Data**"
   ]
  },
  {
   "cell_type": "code",
   "execution_count": 4,
   "id": "01146c6a",
   "metadata": {
    "execution": {
     "iopub.execute_input": "2024-10-06T20:31:21.357324Z",
     "iopub.status.busy": "2024-10-06T20:31:21.357040Z",
     "iopub.status.idle": "2024-10-06T20:31:21.366725Z",
     "shell.execute_reply": "2024-10-06T20:31:21.365855Z"
    },
    "papermill": {
     "duration": 0.025937,
     "end_time": "2024-10-06T20:31:21.368649",
     "exception": false,
     "start_time": "2024-10-06T20:31:21.342712",
     "status": "completed"
    },
    "tags": []
   },
   "outputs": [
    {
     "data": {
      "text/html": [
       "<div>\n",
       "<style scoped>\n",
       "    .dataframe tbody tr th:only-of-type {\n",
       "        vertical-align: middle;\n",
       "    }\n",
       "\n",
       "    .dataframe tbody tr th {\n",
       "        vertical-align: top;\n",
       "    }\n",
       "\n",
       "    .dataframe thead th {\n",
       "        text-align: right;\n",
       "    }\n",
       "</style>\n",
       "<table border=\"1\" class=\"dataframe\">\n",
       "  <thead>\n",
       "    <tr style=\"text-align: right;\">\n",
       "      <th></th>\n",
       "      <th>3364</th>\n",
       "      <th>Facebook</th>\n",
       "      <th>Irrelevant</th>\n",
       "      <th>I mentioned on Facebook that I was struggling for motivation to go for a run the other day, which has been translated by Tom’s great auntie as ‘Hayley can’t get out of bed’ and told to his grandma, who now thinks I’m a lazy, terrible person 🤣</th>\n",
       "    </tr>\n",
       "  </thead>\n",
       "  <tbody>\n",
       "    <tr>\n",
       "      <th>0</th>\n",
       "      <td>352</td>\n",
       "      <td>Amazon</td>\n",
       "      <td>Neutral</td>\n",
       "      <td>BBC News - Amazon boss Jeff Bezos rejects clai...</td>\n",
       "    </tr>\n",
       "    <tr>\n",
       "      <th>1</th>\n",
       "      <td>8312</td>\n",
       "      <td>Microsoft</td>\n",
       "      <td>Negative</td>\n",
       "      <td>@Microsoft Why do I pay for WORD when it funct...</td>\n",
       "    </tr>\n",
       "    <tr>\n",
       "      <th>2</th>\n",
       "      <td>4371</td>\n",
       "      <td>CS-GO</td>\n",
       "      <td>Negative</td>\n",
       "      <td>CSGO matchmaking is so full of closet hacking,...</td>\n",
       "    </tr>\n",
       "    <tr>\n",
       "      <th>3</th>\n",
       "      <td>4433</td>\n",
       "      <td>Google</td>\n",
       "      <td>Neutral</td>\n",
       "      <td>Now the President is slapping Americans in the...</td>\n",
       "    </tr>\n",
       "    <tr>\n",
       "      <th>4</th>\n",
       "      <td>6273</td>\n",
       "      <td>FIFA</td>\n",
       "      <td>Negative</td>\n",
       "      <td>Hi @EAHelp I’ve had Madeleine McCann in my cel...</td>\n",
       "    </tr>\n",
       "  </tbody>\n",
       "</table>\n",
       "</div>"
      ],
      "text/plain": [
       "   3364   Facebook Irrelevant  \\\n",
       "0   352     Amazon    Neutral   \n",
       "1  8312  Microsoft   Negative   \n",
       "2  4371      CS-GO   Negative   \n",
       "3  4433     Google    Neutral   \n",
       "4  6273       FIFA   Negative   \n",
       "\n",
       "  I mentioned on Facebook that I was struggling for motivation to go for a run the other day, which has been translated by Tom’s great auntie as ‘Hayley can’t get out of bed’ and told to his grandma, who now thinks I’m a lazy, terrible person 🤣  \n",
       "0  BBC News - Amazon boss Jeff Bezos rejects clai...                                                                                                                                                                                                  \n",
       "1  @Microsoft Why do I pay for WORD when it funct...                                                                                                                                                                                                  \n",
       "2  CSGO matchmaking is so full of closet hacking,...                                                                                                                                                                                                  \n",
       "3  Now the President is slapping Americans in the...                                                                                                                                                                                                  \n",
       "4  Hi @EAHelp I’ve had Madeleine McCann in my cel...                                                                                                                                                                                                  "
      ]
     },
     "execution_count": 4,
     "metadata": {},
     "output_type": "execute_result"
    }
   ],
   "source": [
    "df_test.head()"
   ]
  },
  {
   "cell_type": "markdown",
   "id": "ac13ab61",
   "metadata": {
    "papermill": {
     "duration": 0.013519,
     "end_time": "2024-10-06T20:31:21.396142",
     "exception": false,
     "start_time": "2024-10-06T20:31:21.382623",
     "status": "completed"
    },
    "tags": []
   },
   "source": [
    "**We can see no header in data then i will add header**"
   ]
  },
  {
   "cell_type": "code",
   "execution_count": 5,
   "id": "a4a53ed9",
   "metadata": {
    "execution": {
     "iopub.execute_input": "2024-10-06T20:31:21.424892Z",
     "iopub.status.busy": "2024-10-06T20:31:21.424566Z",
     "iopub.status.idle": "2024-10-06T20:31:21.428996Z",
     "shell.execute_reply": "2024-10-06T20:31:21.428149Z"
    },
    "papermill": {
     "duration": 0.020945,
     "end_time": "2024-10-06T20:31:21.430851",
     "exception": false,
     "start_time": "2024-10-06T20:31:21.409906",
     "status": "completed"
    },
    "tags": []
   },
   "outputs": [],
   "source": [
    "df_test.columns = ['Header1', 'company','labels','text']\n",
    "df_train.columns = ['Header1', 'company','labels','text']"
   ]
  },
  {
   "cell_type": "code",
   "execution_count": 6,
   "id": "ad464a93",
   "metadata": {
    "execution": {
     "iopub.execute_input": "2024-10-06T20:31:21.459759Z",
     "iopub.status.busy": "2024-10-06T20:31:21.459265Z",
     "iopub.status.idle": "2024-10-06T20:31:21.469443Z",
     "shell.execute_reply": "2024-10-06T20:31:21.468641Z"
    },
    "papermill": {
     "duration": 0.026529,
     "end_time": "2024-10-06T20:31:21.471280",
     "exception": false,
     "start_time": "2024-10-06T20:31:21.444751",
     "status": "completed"
    },
    "tags": []
   },
   "outputs": [
    {
     "data": {
      "text/html": [
       "<div>\n",
       "<style scoped>\n",
       "    .dataframe tbody tr th:only-of-type {\n",
       "        vertical-align: middle;\n",
       "    }\n",
       "\n",
       "    .dataframe tbody tr th {\n",
       "        vertical-align: top;\n",
       "    }\n",
       "\n",
       "    .dataframe thead th {\n",
       "        text-align: right;\n",
       "    }\n",
       "</style>\n",
       "<table border=\"1\" class=\"dataframe\">\n",
       "  <thead>\n",
       "    <tr style=\"text-align: right;\">\n",
       "      <th></th>\n",
       "      <th>Header1</th>\n",
       "      <th>company</th>\n",
       "      <th>labels</th>\n",
       "      <th>text</th>\n",
       "    </tr>\n",
       "  </thead>\n",
       "  <tbody>\n",
       "    <tr>\n",
       "      <th>0</th>\n",
       "      <td>2401</td>\n",
       "      <td>Borderlands</td>\n",
       "      <td>Positive</td>\n",
       "      <td>I am coming to the borders and I will kill you...</td>\n",
       "    </tr>\n",
       "    <tr>\n",
       "      <th>1</th>\n",
       "      <td>2401</td>\n",
       "      <td>Borderlands</td>\n",
       "      <td>Positive</td>\n",
       "      <td>im getting on borderlands and i will kill you ...</td>\n",
       "    </tr>\n",
       "    <tr>\n",
       "      <th>2</th>\n",
       "      <td>2401</td>\n",
       "      <td>Borderlands</td>\n",
       "      <td>Positive</td>\n",
       "      <td>im coming on borderlands and i will murder you...</td>\n",
       "    </tr>\n",
       "    <tr>\n",
       "      <th>3</th>\n",
       "      <td>2401</td>\n",
       "      <td>Borderlands</td>\n",
       "      <td>Positive</td>\n",
       "      <td>im getting on borderlands 2 and i will murder ...</td>\n",
       "    </tr>\n",
       "    <tr>\n",
       "      <th>4</th>\n",
       "      <td>2401</td>\n",
       "      <td>Borderlands</td>\n",
       "      <td>Positive</td>\n",
       "      <td>im getting into borderlands and i can murder y...</td>\n",
       "    </tr>\n",
       "  </tbody>\n",
       "</table>\n",
       "</div>"
      ],
      "text/plain": [
       "   Header1      company    labels  \\\n",
       "0     2401  Borderlands  Positive   \n",
       "1     2401  Borderlands  Positive   \n",
       "2     2401  Borderlands  Positive   \n",
       "3     2401  Borderlands  Positive   \n",
       "4     2401  Borderlands  Positive   \n",
       "\n",
       "                                                text  \n",
       "0  I am coming to the borders and I will kill you...  \n",
       "1  im getting on borderlands and i will kill you ...  \n",
       "2  im coming on borderlands and i will murder you...  \n",
       "3  im getting on borderlands 2 and i will murder ...  \n",
       "4  im getting into borderlands and i can murder y...  "
      ]
     },
     "execution_count": 6,
     "metadata": {},
     "output_type": "execute_result"
    }
   ],
   "source": [
    "df_train.head()"
   ]
  },
  {
   "cell_type": "code",
   "execution_count": 7,
   "id": "ae7e45ff",
   "metadata": {
    "execution": {
     "iopub.execute_input": "2024-10-06T20:31:21.500298Z",
     "iopub.status.busy": "2024-10-06T20:31:21.500038Z",
     "iopub.status.idle": "2024-10-06T20:31:21.509399Z",
     "shell.execute_reply": "2024-10-06T20:31:21.508548Z"
    },
    "papermill": {
     "duration": 0.026249,
     "end_time": "2024-10-06T20:31:21.511571",
     "exception": false,
     "start_time": "2024-10-06T20:31:21.485322",
     "status": "completed"
    },
    "tags": []
   },
   "outputs": [
    {
     "data": {
      "text/html": [
       "<div>\n",
       "<style scoped>\n",
       "    .dataframe tbody tr th:only-of-type {\n",
       "        vertical-align: middle;\n",
       "    }\n",
       "\n",
       "    .dataframe tbody tr th {\n",
       "        vertical-align: top;\n",
       "    }\n",
       "\n",
       "    .dataframe thead th {\n",
       "        text-align: right;\n",
       "    }\n",
       "</style>\n",
       "<table border=\"1\" class=\"dataframe\">\n",
       "  <thead>\n",
       "    <tr style=\"text-align: right;\">\n",
       "      <th></th>\n",
       "      <th>Header1</th>\n",
       "      <th>company</th>\n",
       "      <th>labels</th>\n",
       "      <th>text</th>\n",
       "    </tr>\n",
       "  </thead>\n",
       "  <tbody>\n",
       "    <tr>\n",
       "      <th>0</th>\n",
       "      <td>352</td>\n",
       "      <td>Amazon</td>\n",
       "      <td>Neutral</td>\n",
       "      <td>BBC News - Amazon boss Jeff Bezos rejects clai...</td>\n",
       "    </tr>\n",
       "    <tr>\n",
       "      <th>1</th>\n",
       "      <td>8312</td>\n",
       "      <td>Microsoft</td>\n",
       "      <td>Negative</td>\n",
       "      <td>@Microsoft Why do I pay for WORD when it funct...</td>\n",
       "    </tr>\n",
       "    <tr>\n",
       "      <th>2</th>\n",
       "      <td>4371</td>\n",
       "      <td>CS-GO</td>\n",
       "      <td>Negative</td>\n",
       "      <td>CSGO matchmaking is so full of closet hacking,...</td>\n",
       "    </tr>\n",
       "    <tr>\n",
       "      <th>3</th>\n",
       "      <td>4433</td>\n",
       "      <td>Google</td>\n",
       "      <td>Neutral</td>\n",
       "      <td>Now the President is slapping Americans in the...</td>\n",
       "    </tr>\n",
       "    <tr>\n",
       "      <th>4</th>\n",
       "      <td>6273</td>\n",
       "      <td>FIFA</td>\n",
       "      <td>Negative</td>\n",
       "      <td>Hi @EAHelp I’ve had Madeleine McCann in my cel...</td>\n",
       "    </tr>\n",
       "  </tbody>\n",
       "</table>\n",
       "</div>"
      ],
      "text/plain": [
       "   Header1    company    labels  \\\n",
       "0      352     Amazon   Neutral   \n",
       "1     8312  Microsoft  Negative   \n",
       "2     4371      CS-GO  Negative   \n",
       "3     4433     Google   Neutral   \n",
       "4     6273       FIFA  Negative   \n",
       "\n",
       "                                                text  \n",
       "0  BBC News - Amazon boss Jeff Bezos rejects clai...  \n",
       "1  @Microsoft Why do I pay for WORD when it funct...  \n",
       "2  CSGO matchmaking is so full of closet hacking,...  \n",
       "3  Now the President is slapping Americans in the...  \n",
       "4  Hi @EAHelp I’ve had Madeleine McCann in my cel...  "
      ]
     },
     "execution_count": 7,
     "metadata": {},
     "output_type": "execute_result"
    }
   ],
   "source": [
    "df_test.head()"
   ]
  },
  {
   "cell_type": "code",
   "execution_count": 8,
   "id": "a90530fb",
   "metadata": {
    "execution": {
     "iopub.execute_input": "2024-10-06T20:31:21.541970Z",
     "iopub.status.busy": "2024-10-06T20:31:21.541706Z",
     "iopub.status.idle": "2024-10-06T20:31:21.547041Z",
     "shell.execute_reply": "2024-10-06T20:31:21.546230Z"
    },
    "papermill": {
     "duration": 0.022215,
     "end_time": "2024-10-06T20:31:21.548954",
     "exception": false,
     "start_time": "2024-10-06T20:31:21.526739",
     "status": "completed"
    },
    "tags": []
   },
   "outputs": [
    {
     "data": {
      "text/plain": [
       "(74681, 4)"
      ]
     },
     "execution_count": 8,
     "metadata": {},
     "output_type": "execute_result"
    }
   ],
   "source": [
    "df_train.shape"
   ]
  },
  {
   "cell_type": "code",
   "execution_count": 9,
   "id": "429816de",
   "metadata": {
    "execution": {
     "iopub.execute_input": "2024-10-06T20:31:21.578786Z",
     "iopub.status.busy": "2024-10-06T20:31:21.578271Z",
     "iopub.status.idle": "2024-10-06T20:31:21.583596Z",
     "shell.execute_reply": "2024-10-06T20:31:21.582807Z"
    },
    "papermill": {
     "duration": 0.022305,
     "end_time": "2024-10-06T20:31:21.585516",
     "exception": false,
     "start_time": "2024-10-06T20:31:21.563211",
     "status": "completed"
    },
    "tags": []
   },
   "outputs": [
    {
     "data": {
      "text/plain": [
       "(999, 4)"
      ]
     },
     "execution_count": 9,
     "metadata": {},
     "output_type": "execute_result"
    }
   ],
   "source": [
    "df_test.shape"
   ]
  },
  {
   "cell_type": "code",
   "execution_count": 10,
   "id": "cf8a8613",
   "metadata": {
    "execution": {
     "iopub.execute_input": "2024-10-06T20:31:21.615589Z",
     "iopub.status.busy": "2024-10-06T20:31:21.615050Z",
     "iopub.status.idle": "2024-10-06T20:31:21.662042Z",
     "shell.execute_reply": "2024-10-06T20:31:21.661024Z"
    },
    "papermill": {
     "duration": 0.064186,
     "end_time": "2024-10-06T20:31:21.664047",
     "exception": false,
     "start_time": "2024-10-06T20:31:21.599861",
     "status": "completed"
    },
    "tags": []
   },
   "outputs": [
    {
     "name": "stdout",
     "output_type": "stream",
     "text": [
      "<class 'pandas.core.frame.DataFrame'>\n",
      "RangeIndex: 74681 entries, 0 to 74680\n",
      "Data columns (total 4 columns):\n",
      " #   Column   Non-Null Count  Dtype \n",
      "---  ------   --------------  ----- \n",
      " 0   Header1  74681 non-null  int64 \n",
      " 1   company  74681 non-null  object\n",
      " 2   labels   74681 non-null  object\n",
      " 3   text     73995 non-null  object\n",
      "dtypes: int64(1), object(3)\n",
      "memory usage: 2.3+ MB\n"
     ]
    }
   ],
   "source": [
    "df_train.info()"
   ]
  },
  {
   "cell_type": "code",
   "execution_count": 11,
   "id": "17b7119a",
   "metadata": {
    "execution": {
     "iopub.execute_input": "2024-10-06T20:31:21.695417Z",
     "iopub.status.busy": "2024-10-06T20:31:21.694936Z",
     "iopub.status.idle": "2024-10-06T20:31:21.704842Z",
     "shell.execute_reply": "2024-10-06T20:31:21.703909Z"
    },
    "papermill": {
     "duration": 0.027042,
     "end_time": "2024-10-06T20:31:21.706723",
     "exception": false,
     "start_time": "2024-10-06T20:31:21.679681",
     "status": "completed"
    },
    "tags": []
   },
   "outputs": [
    {
     "name": "stdout",
     "output_type": "stream",
     "text": [
      "<class 'pandas.core.frame.DataFrame'>\n",
      "RangeIndex: 999 entries, 0 to 998\n",
      "Data columns (total 4 columns):\n",
      " #   Column   Non-Null Count  Dtype \n",
      "---  ------   --------------  ----- \n",
      " 0   Header1  999 non-null    int64 \n",
      " 1   company  999 non-null    object\n",
      " 2   labels   999 non-null    object\n",
      " 3   text     999 non-null    object\n",
      "dtypes: int64(1), object(3)\n",
      "memory usage: 31.3+ KB\n"
     ]
    }
   ],
   "source": [
    "df_test.info()"
   ]
  },
  {
   "cell_type": "code",
   "execution_count": 12,
   "id": "f32cb7a8",
   "metadata": {
    "execution": {
     "iopub.execute_input": "2024-10-06T20:31:21.737335Z",
     "iopub.status.busy": "2024-10-06T20:31:21.737059Z",
     "iopub.status.idle": "2024-10-06T20:31:21.785209Z",
     "shell.execute_reply": "2024-10-06T20:31:21.784319Z"
    },
    "papermill": {
     "duration": 0.06573,
     "end_time": "2024-10-06T20:31:21.787254",
     "exception": false,
     "start_time": "2024-10-06T20:31:21.721524",
     "status": "completed"
    },
    "tags": []
   },
   "outputs": [
    {
     "data": {
      "text/plain": [
       "2700"
      ]
     },
     "execution_count": 12,
     "metadata": {},
     "output_type": "execute_result"
    }
   ],
   "source": [
    "df_train.duplicated().sum()"
   ]
  },
  {
   "cell_type": "code",
   "execution_count": 13,
   "id": "2716df22",
   "metadata": {
    "execution": {
     "iopub.execute_input": "2024-10-06T20:31:21.818328Z",
     "iopub.status.busy": "2024-10-06T20:31:21.818025Z",
     "iopub.status.idle": "2024-10-06T20:31:21.825852Z",
     "shell.execute_reply": "2024-10-06T20:31:21.824997Z"
    },
    "papermill": {
     "duration": 0.0255,
     "end_time": "2024-10-06T20:31:21.827679",
     "exception": false,
     "start_time": "2024-10-06T20:31:21.802179",
     "status": "completed"
    },
    "tags": []
   },
   "outputs": [
    {
     "data": {
      "text/plain": [
       "0"
      ]
     },
     "execution_count": 13,
     "metadata": {},
     "output_type": "execute_result"
    }
   ],
   "source": [
    "df_test.duplicated().sum()"
   ]
  },
  {
   "cell_type": "code",
   "execution_count": 14,
   "id": "d5fa3c14",
   "metadata": {
    "execution": {
     "iopub.execute_input": "2024-10-06T20:31:21.859236Z",
     "iopub.status.busy": "2024-10-06T20:31:21.858485Z",
     "iopub.status.idle": "2024-10-06T20:31:21.886260Z",
     "shell.execute_reply": "2024-10-06T20:31:21.885437Z"
    },
    "papermill": {
     "duration": 0.045329,
     "end_time": "2024-10-06T20:31:21.888115",
     "exception": false,
     "start_time": "2024-10-06T20:31:21.842786",
     "status": "completed"
    },
    "tags": []
   },
   "outputs": [
    {
     "data": {
      "text/plain": [
       "Header1      0\n",
       "company      0\n",
       "labels       0\n",
       "text       686\n",
       "dtype: int64"
      ]
     },
     "execution_count": 14,
     "metadata": {},
     "output_type": "execute_result"
    }
   ],
   "source": [
    "df_train.isnull().sum()"
   ]
  },
  {
   "cell_type": "code",
   "execution_count": 15,
   "id": "5b04e17e",
   "metadata": {
    "execution": {
     "iopub.execute_input": "2024-10-06T20:31:21.919412Z",
     "iopub.status.busy": "2024-10-06T20:31:21.919142Z",
     "iopub.status.idle": "2024-10-06T20:31:21.926478Z",
     "shell.execute_reply": "2024-10-06T20:31:21.925669Z"
    },
    "papermill": {
     "duration": 0.025217,
     "end_time": "2024-10-06T20:31:21.928409",
     "exception": false,
     "start_time": "2024-10-06T20:31:21.903192",
     "status": "completed"
    },
    "tags": []
   },
   "outputs": [
    {
     "data": {
      "text/plain": [
       "Header1    0\n",
       "company    0\n",
       "labels     0\n",
       "text       0\n",
       "dtype: int64"
      ]
     },
     "execution_count": 15,
     "metadata": {},
     "output_type": "execute_result"
    }
   ],
   "source": [
    "df_test.isnull().sum()"
   ]
  },
  {
   "cell_type": "markdown",
   "id": "97d8aa93",
   "metadata": {
    "papermill": {
     "duration": 0.015297,
     "end_time": "2024-10-06T20:31:21.958796",
     "exception": false,
     "start_time": "2024-10-06T20:31:21.943499",
     "status": "completed"
    },
    "tags": []
   },
   "source": [
    "# Cleaning the Data"
   ]
  },
  {
   "cell_type": "code",
   "execution_count": 16,
   "id": "31e8ae36",
   "metadata": {
    "execution": {
     "iopub.execute_input": "2024-10-06T20:31:21.990286Z",
     "iopub.status.busy": "2024-10-06T20:31:21.990025Z",
     "iopub.status.idle": "2024-10-06T20:31:22.020890Z",
     "shell.execute_reply": "2024-10-06T20:31:22.020203Z"
    },
    "papermill": {
     "duration": 0.048635,
     "end_time": "2024-10-06T20:31:22.022760",
     "exception": false,
     "start_time": "2024-10-06T20:31:21.974125",
     "status": "completed"
    },
    "tags": []
   },
   "outputs": [],
   "source": [
    "df_train.dropna(inplace=True)"
   ]
  },
  {
   "cell_type": "code",
   "execution_count": 17,
   "id": "4a8eddb3",
   "metadata": {
    "execution": {
     "iopub.execute_input": "2024-10-06T20:31:22.054256Z",
     "iopub.status.busy": "2024-10-06T20:31:22.053975Z",
     "iopub.status.idle": "2024-10-06T20:31:22.081823Z",
     "shell.execute_reply": "2024-10-06T20:31:22.080926Z"
    },
    "papermill": {
     "duration": 0.046384,
     "end_time": "2024-10-06T20:31:22.084310",
     "exception": false,
     "start_time": "2024-10-06T20:31:22.037926",
     "status": "completed"
    },
    "tags": []
   },
   "outputs": [
    {
     "data": {
      "text/plain": [
       "Header1    0\n",
       "company    0\n",
       "labels     0\n",
       "text       0\n",
       "dtype: int64"
      ]
     },
     "execution_count": 17,
     "metadata": {},
     "output_type": "execute_result"
    }
   ],
   "source": [
    "df_train.isnull().sum()"
   ]
  },
  {
   "cell_type": "code",
   "execution_count": 18,
   "id": "df9478c5",
   "metadata": {
    "execution": {
     "iopub.execute_input": "2024-10-06T20:31:22.116273Z",
     "iopub.status.busy": "2024-10-06T20:31:22.115803Z",
     "iopub.status.idle": "2024-10-06T20:31:22.172924Z",
     "shell.execute_reply": "2024-10-06T20:31:22.172148Z"
    },
    "papermill": {
     "duration": 0.075385,
     "end_time": "2024-10-06T20:31:22.175094",
     "exception": false,
     "start_time": "2024-10-06T20:31:22.099709",
     "status": "completed"
    },
    "tags": []
   },
   "outputs": [],
   "source": [
    "df_train.drop_duplicates(inplace=True)"
   ]
  },
  {
   "cell_type": "code",
   "execution_count": 19,
   "id": "1e514913",
   "metadata": {
    "execution": {
     "iopub.execute_input": "2024-10-06T20:31:22.207516Z",
     "iopub.status.busy": "2024-10-06T20:31:22.207209Z",
     "iopub.status.idle": "2024-10-06T20:31:22.256137Z",
     "shell.execute_reply": "2024-10-06T20:31:22.255446Z"
    },
    "papermill": {
     "duration": 0.067518,
     "end_time": "2024-10-06T20:31:22.258133",
     "exception": false,
     "start_time": "2024-10-06T20:31:22.190615",
     "status": "completed"
    },
    "tags": []
   },
   "outputs": [
    {
     "data": {
      "text/plain": [
       "0"
      ]
     },
     "execution_count": 19,
     "metadata": {},
     "output_type": "execute_result"
    }
   ],
   "source": [
    "df_train.duplicated().sum()"
   ]
  },
  {
   "cell_type": "markdown",
   "id": "27b5c11f",
   "metadata": {
    "papermill": {
     "duration": 0.015451,
     "end_time": "2024-10-06T20:31:22.289170",
     "exception": false,
     "start_time": "2024-10-06T20:31:22.273719",
     "status": "completed"
    },
    "tags": []
   },
   "source": [
    "**Drop Uneeded Columns**"
   ]
  },
  {
   "cell_type": "code",
   "execution_count": 20,
   "id": "3316d5d1",
   "metadata": {
    "execution": {
     "iopub.execute_input": "2024-10-06T20:31:22.321403Z",
     "iopub.status.busy": "2024-10-06T20:31:22.321074Z",
     "iopub.status.idle": "2024-10-06T20:31:22.329616Z",
     "shell.execute_reply": "2024-10-06T20:31:22.328738Z"
    },
    "papermill": {
     "duration": 0.026781,
     "end_time": "2024-10-06T20:31:22.331550",
     "exception": false,
     "start_time": "2024-10-06T20:31:22.304769",
     "status": "completed"
    },
    "tags": []
   },
   "outputs": [],
   "source": [
    "df_train.drop(columns=['Header1', 'company'], inplace=True)"
   ]
  },
  {
   "cell_type": "code",
   "execution_count": 21,
   "id": "174a96b3",
   "metadata": {
    "execution": {
     "iopub.execute_input": "2024-10-06T20:31:22.363183Z",
     "iopub.status.busy": "2024-10-06T20:31:22.362888Z",
     "iopub.status.idle": "2024-10-06T20:31:22.367698Z",
     "shell.execute_reply": "2024-10-06T20:31:22.366839Z"
    },
    "papermill": {
     "duration": 0.02276,
     "end_time": "2024-10-06T20:31:22.369615",
     "exception": false,
     "start_time": "2024-10-06T20:31:22.346855",
     "status": "completed"
    },
    "tags": []
   },
   "outputs": [],
   "source": [
    "df_test.drop(columns=['Header1', 'company'], inplace=True)"
   ]
  },
  {
   "cell_type": "code",
   "execution_count": 22,
   "id": "4e2fc53b",
   "metadata": {
    "execution": {
     "iopub.execute_input": "2024-10-06T20:31:22.401323Z",
     "iopub.status.busy": "2024-10-06T20:31:22.401062Z",
     "iopub.status.idle": "2024-10-06T20:31:22.410957Z",
     "shell.execute_reply": "2024-10-06T20:31:22.410135Z"
    },
    "papermill": {
     "duration": 0.027976,
     "end_time": "2024-10-06T20:31:22.412912",
     "exception": false,
     "start_time": "2024-10-06T20:31:22.384936",
     "status": "completed"
    },
    "tags": []
   },
   "outputs": [
    {
     "data": {
      "text/html": [
       "<div>\n",
       "<style scoped>\n",
       "    .dataframe tbody tr th:only-of-type {\n",
       "        vertical-align: middle;\n",
       "    }\n",
       "\n",
       "    .dataframe tbody tr th {\n",
       "        vertical-align: top;\n",
       "    }\n",
       "\n",
       "    .dataframe thead th {\n",
       "        text-align: right;\n",
       "    }\n",
       "</style>\n",
       "<table border=\"1\" class=\"dataframe\">\n",
       "  <thead>\n",
       "    <tr style=\"text-align: right;\">\n",
       "      <th></th>\n",
       "      <th>labels</th>\n",
       "      <th>text</th>\n",
       "    </tr>\n",
       "  </thead>\n",
       "  <tbody>\n",
       "    <tr>\n",
       "      <th>0</th>\n",
       "      <td>Positive</td>\n",
       "      <td>I am coming to the borders and I will kill you...</td>\n",
       "    </tr>\n",
       "    <tr>\n",
       "      <th>1</th>\n",
       "      <td>Positive</td>\n",
       "      <td>im getting on borderlands and i will kill you ...</td>\n",
       "    </tr>\n",
       "    <tr>\n",
       "      <th>2</th>\n",
       "      <td>Positive</td>\n",
       "      <td>im coming on borderlands and i will murder you...</td>\n",
       "    </tr>\n",
       "    <tr>\n",
       "      <th>3</th>\n",
       "      <td>Positive</td>\n",
       "      <td>im getting on borderlands 2 and i will murder ...</td>\n",
       "    </tr>\n",
       "    <tr>\n",
       "      <th>4</th>\n",
       "      <td>Positive</td>\n",
       "      <td>im getting into borderlands and i can murder y...</td>\n",
       "    </tr>\n",
       "    <tr>\n",
       "      <th>...</th>\n",
       "      <td>...</td>\n",
       "      <td>...</td>\n",
       "    </tr>\n",
       "    <tr>\n",
       "      <th>74676</th>\n",
       "      <td>Positive</td>\n",
       "      <td>Just realized that the Windows partition of my...</td>\n",
       "    </tr>\n",
       "    <tr>\n",
       "      <th>74677</th>\n",
       "      <td>Positive</td>\n",
       "      <td>Just realized that my Mac window partition is ...</td>\n",
       "    </tr>\n",
       "    <tr>\n",
       "      <th>74678</th>\n",
       "      <td>Positive</td>\n",
       "      <td>Just realized the windows partition of my Mac ...</td>\n",
       "    </tr>\n",
       "    <tr>\n",
       "      <th>74679</th>\n",
       "      <td>Positive</td>\n",
       "      <td>Just realized between the windows partition of...</td>\n",
       "    </tr>\n",
       "    <tr>\n",
       "      <th>74680</th>\n",
       "      <td>Positive</td>\n",
       "      <td>Just like the windows partition of my Mac is l...</td>\n",
       "    </tr>\n",
       "  </tbody>\n",
       "</table>\n",
       "<p>71655 rows × 2 columns</p>\n",
       "</div>"
      ],
      "text/plain": [
       "         labels                                               text\n",
       "0      Positive  I am coming to the borders and I will kill you...\n",
       "1      Positive  im getting on borderlands and i will kill you ...\n",
       "2      Positive  im coming on borderlands and i will murder you...\n",
       "3      Positive  im getting on borderlands 2 and i will murder ...\n",
       "4      Positive  im getting into borderlands and i can murder y...\n",
       "...         ...                                                ...\n",
       "74676  Positive  Just realized that the Windows partition of my...\n",
       "74677  Positive  Just realized that my Mac window partition is ...\n",
       "74678  Positive  Just realized the windows partition of my Mac ...\n",
       "74679  Positive  Just realized between the windows partition of...\n",
       "74680  Positive  Just like the windows partition of my Mac is l...\n",
       "\n",
       "[71655 rows x 2 columns]"
      ]
     },
     "execution_count": 22,
     "metadata": {},
     "output_type": "execute_result"
    }
   ],
   "source": [
    "df_train"
   ]
  },
  {
   "cell_type": "code",
   "execution_count": 23,
   "id": "7be0409c",
   "metadata": {
    "execution": {
     "iopub.execute_input": "2024-10-06T20:31:22.446124Z",
     "iopub.status.busy": "2024-10-06T20:31:22.445862Z",
     "iopub.status.idle": "2024-10-06T20:31:22.455536Z",
     "shell.execute_reply": "2024-10-06T20:31:22.454712Z"
    },
    "papermill": {
     "duration": 0.02811,
     "end_time": "2024-10-06T20:31:22.457493",
     "exception": false,
     "start_time": "2024-10-06T20:31:22.429383",
     "status": "completed"
    },
    "tags": []
   },
   "outputs": [
    {
     "data": {
      "text/html": [
       "<div>\n",
       "<style scoped>\n",
       "    .dataframe tbody tr th:only-of-type {\n",
       "        vertical-align: middle;\n",
       "    }\n",
       "\n",
       "    .dataframe tbody tr th {\n",
       "        vertical-align: top;\n",
       "    }\n",
       "\n",
       "    .dataframe thead th {\n",
       "        text-align: right;\n",
       "    }\n",
       "</style>\n",
       "<table border=\"1\" class=\"dataframe\">\n",
       "  <thead>\n",
       "    <tr style=\"text-align: right;\">\n",
       "      <th></th>\n",
       "      <th>labels</th>\n",
       "      <th>text</th>\n",
       "    </tr>\n",
       "  </thead>\n",
       "  <tbody>\n",
       "    <tr>\n",
       "      <th>0</th>\n",
       "      <td>Neutral</td>\n",
       "      <td>BBC News - Amazon boss Jeff Bezos rejects clai...</td>\n",
       "    </tr>\n",
       "    <tr>\n",
       "      <th>1</th>\n",
       "      <td>Negative</td>\n",
       "      <td>@Microsoft Why do I pay for WORD when it funct...</td>\n",
       "    </tr>\n",
       "    <tr>\n",
       "      <th>2</th>\n",
       "      <td>Negative</td>\n",
       "      <td>CSGO matchmaking is so full of closet hacking,...</td>\n",
       "    </tr>\n",
       "    <tr>\n",
       "      <th>3</th>\n",
       "      <td>Neutral</td>\n",
       "      <td>Now the President is slapping Americans in the...</td>\n",
       "    </tr>\n",
       "    <tr>\n",
       "      <th>4</th>\n",
       "      <td>Negative</td>\n",
       "      <td>Hi @EAHelp I’ve had Madeleine McCann in my cel...</td>\n",
       "    </tr>\n",
       "    <tr>\n",
       "      <th>...</th>\n",
       "      <td>...</td>\n",
       "      <td>...</td>\n",
       "    </tr>\n",
       "    <tr>\n",
       "      <th>994</th>\n",
       "      <td>Irrelevant</td>\n",
       "      <td>⭐️ Toronto is the arts and culture capital of ...</td>\n",
       "    </tr>\n",
       "    <tr>\n",
       "      <th>995</th>\n",
       "      <td>Irrelevant</td>\n",
       "      <td>tHIS IS ACTUALLY A GOOD MOVE TOT BRING MORE VI...</td>\n",
       "    </tr>\n",
       "    <tr>\n",
       "      <th>996</th>\n",
       "      <td>Positive</td>\n",
       "      <td>Today sucked so it’s time to drink wine n play...</td>\n",
       "    </tr>\n",
       "    <tr>\n",
       "      <th>997</th>\n",
       "      <td>Positive</td>\n",
       "      <td>Bought a fraction of Microsoft today. Small wins.</td>\n",
       "    </tr>\n",
       "    <tr>\n",
       "      <th>998</th>\n",
       "      <td>Neutral</td>\n",
       "      <td>Johnson &amp; Johnson to stop selling talc baby po...</td>\n",
       "    </tr>\n",
       "  </tbody>\n",
       "</table>\n",
       "<p>999 rows × 2 columns</p>\n",
       "</div>"
      ],
      "text/plain": [
       "         labels                                               text\n",
       "0       Neutral  BBC News - Amazon boss Jeff Bezos rejects clai...\n",
       "1      Negative  @Microsoft Why do I pay for WORD when it funct...\n",
       "2      Negative  CSGO matchmaking is so full of closet hacking,...\n",
       "3       Neutral  Now the President is slapping Americans in the...\n",
       "4      Negative  Hi @EAHelp I’ve had Madeleine McCann in my cel...\n",
       "..          ...                                                ...\n",
       "994  Irrelevant  ⭐️ Toronto is the arts and culture capital of ...\n",
       "995  Irrelevant  tHIS IS ACTUALLY A GOOD MOVE TOT BRING MORE VI...\n",
       "996    Positive  Today sucked so it’s time to drink wine n play...\n",
       "997    Positive  Bought a fraction of Microsoft today. Small wins.\n",
       "998     Neutral  Johnson & Johnson to stop selling talc baby po...\n",
       "\n",
       "[999 rows x 2 columns]"
      ]
     },
     "execution_count": 23,
     "metadata": {},
     "output_type": "execute_result"
    }
   ],
   "source": [
    "df_test"
   ]
  },
  {
   "cell_type": "markdown",
   "id": "9d808c38",
   "metadata": {
    "papermill": {
     "duration": 0.016032,
     "end_time": "2024-10-06T20:31:22.489286",
     "exception": false,
     "start_time": "2024-10-06T20:31:22.473254",
     "status": "completed"
    },
    "tags": []
   },
   "source": [
    "# Preprocessing the Data"
   ]
  },
  {
   "cell_type": "code",
   "execution_count": 24,
   "id": "9487bc0b",
   "metadata": {
    "execution": {
     "iopub.execute_input": "2024-10-06T20:31:22.522818Z",
     "iopub.status.busy": "2024-10-06T20:31:22.522217Z",
     "iopub.status.idle": "2024-10-06T20:31:22.527748Z",
     "shell.execute_reply": "2024-10-06T20:31:22.526914Z"
    },
    "papermill": {
     "duration": 0.024268,
     "end_time": "2024-10-06T20:31:22.529555",
     "exception": false,
     "start_time": "2024-10-06T20:31:22.505287",
     "status": "completed"
    },
    "tags": []
   },
   "outputs": [],
   "source": [
    "def clean_tweet(tweet):\n",
    "    # Remove URLs\n",
    "    tweet = re.sub(r'http\\S+|www\\S+|https\\S+', '', tweet, flags=re.MULTILINE)\n",
    "    # Remove user @ references and '#' from tweet\n",
    "    tweet = re.sub(r'\\@\\w+|\\#','', tweet)\n",
    "    # Remove special characters, numbers, and punctuations\n",
    "    tweet = re.sub(r'\\W', ' ', tweet)\n",
    "    tweet = re.sub(r'\\d', ' ', tweet)\n",
    "    tweet = re.sub(r'\\s+', ' ', tweet)\n",
    "    tweet = tweet.strip()\n",
    "    return tweet"
   ]
  },
  {
   "cell_type": "code",
   "execution_count": 25,
   "id": "ca3c6439",
   "metadata": {
    "execution": {
     "iopub.execute_input": "2024-10-06T20:31:22.562989Z",
     "iopub.status.busy": "2024-10-06T20:31:22.562238Z",
     "iopub.status.idle": "2024-10-06T20:31:24.836557Z",
     "shell.execute_reply": "2024-10-06T20:31:24.835790Z"
    },
    "papermill": {
     "duration": 2.293386,
     "end_time": "2024-10-06T20:31:24.838884",
     "exception": false,
     "start_time": "2024-10-06T20:31:22.545498",
     "status": "completed"
    },
    "tags": []
   },
   "outputs": [],
   "source": [
    "# Clean the training data\n",
    "df_train['text'] = df_train['text'].apply(clean_tweet)\n",
    "\n",
    "# Clean the test data\n",
    "df_test['text'] = df_test['text'].apply(clean_tweet)"
   ]
  },
  {
   "cell_type": "code",
   "execution_count": 26,
   "id": "f644d527",
   "metadata": {
    "execution": {
     "iopub.execute_input": "2024-10-06T20:31:24.872650Z",
     "iopub.status.busy": "2024-10-06T20:31:24.871939Z",
     "iopub.status.idle": "2024-10-06T20:31:24.880871Z",
     "shell.execute_reply": "2024-10-06T20:31:24.880029Z"
    },
    "papermill": {
     "duration": 0.027861,
     "end_time": "2024-10-06T20:31:24.882946",
     "exception": false,
     "start_time": "2024-10-06T20:31:24.855085",
     "status": "completed"
    },
    "tags": []
   },
   "outputs": [
    {
     "data": {
      "text/html": [
       "<div>\n",
       "<style scoped>\n",
       "    .dataframe tbody tr th:only-of-type {\n",
       "        vertical-align: middle;\n",
       "    }\n",
       "\n",
       "    .dataframe tbody tr th {\n",
       "        vertical-align: top;\n",
       "    }\n",
       "\n",
       "    .dataframe thead th {\n",
       "        text-align: right;\n",
       "    }\n",
       "</style>\n",
       "<table border=\"1\" class=\"dataframe\">\n",
       "  <thead>\n",
       "    <tr style=\"text-align: right;\">\n",
       "      <th></th>\n",
       "      <th>labels</th>\n",
       "      <th>text</th>\n",
       "    </tr>\n",
       "  </thead>\n",
       "  <tbody>\n",
       "    <tr>\n",
       "      <th>0</th>\n",
       "      <td>Positive</td>\n",
       "      <td>I am coming to the borders and I will kill you...</td>\n",
       "    </tr>\n",
       "    <tr>\n",
       "      <th>1</th>\n",
       "      <td>Positive</td>\n",
       "      <td>im getting on borderlands and i will kill you all</td>\n",
       "    </tr>\n",
       "    <tr>\n",
       "      <th>2</th>\n",
       "      <td>Positive</td>\n",
       "      <td>im coming on borderlands and i will murder you...</td>\n",
       "    </tr>\n",
       "    <tr>\n",
       "      <th>3</th>\n",
       "      <td>Positive</td>\n",
       "      <td>im getting on borderlands and i will murder yo...</td>\n",
       "    </tr>\n",
       "    <tr>\n",
       "      <th>4</th>\n",
       "      <td>Positive</td>\n",
       "      <td>im getting into borderlands and i can murder y...</td>\n",
       "    </tr>\n",
       "  </tbody>\n",
       "</table>\n",
       "</div>"
      ],
      "text/plain": [
       "     labels                                               text\n",
       "0  Positive  I am coming to the borders and I will kill you...\n",
       "1  Positive  im getting on borderlands and i will kill you all\n",
       "2  Positive  im coming on borderlands and i will murder you...\n",
       "3  Positive  im getting on borderlands and i will murder yo...\n",
       "4  Positive  im getting into borderlands and i can murder y..."
      ]
     },
     "execution_count": 26,
     "metadata": {},
     "output_type": "execute_result"
    }
   ],
   "source": [
    "df_train.head()"
   ]
  },
  {
   "cell_type": "code",
   "execution_count": 27,
   "id": "d7703092",
   "metadata": {
    "execution": {
     "iopub.execute_input": "2024-10-06T20:31:24.916760Z",
     "iopub.status.busy": "2024-10-06T20:31:24.916449Z",
     "iopub.status.idle": "2024-10-06T20:31:24.925040Z",
     "shell.execute_reply": "2024-10-06T20:31:24.924088Z"
    },
    "papermill": {
     "duration": 0.027454,
     "end_time": "2024-10-06T20:31:24.927151",
     "exception": false,
     "start_time": "2024-10-06T20:31:24.899697",
     "status": "completed"
    },
    "tags": []
   },
   "outputs": [
    {
     "data": {
      "text/html": [
       "<div>\n",
       "<style scoped>\n",
       "    .dataframe tbody tr th:only-of-type {\n",
       "        vertical-align: middle;\n",
       "    }\n",
       "\n",
       "    .dataframe tbody tr th {\n",
       "        vertical-align: top;\n",
       "    }\n",
       "\n",
       "    .dataframe thead th {\n",
       "        text-align: right;\n",
       "    }\n",
       "</style>\n",
       "<table border=\"1\" class=\"dataframe\">\n",
       "  <thead>\n",
       "    <tr style=\"text-align: right;\">\n",
       "      <th></th>\n",
       "      <th>labels</th>\n",
       "      <th>text</th>\n",
       "    </tr>\n",
       "  </thead>\n",
       "  <tbody>\n",
       "    <tr>\n",
       "      <th>0</th>\n",
       "      <td>Neutral</td>\n",
       "      <td>BBC News Amazon boss Jeff Bezos rejects claims...</td>\n",
       "    </tr>\n",
       "    <tr>\n",
       "      <th>1</th>\n",
       "      <td>Negative</td>\n",
       "      <td>Why do I pay for WORD when it functions so poo...</td>\n",
       "    </tr>\n",
       "    <tr>\n",
       "      <th>2</th>\n",
       "      <td>Negative</td>\n",
       "      <td>CSGO matchmaking is so full of closet hacking ...</td>\n",
       "    </tr>\n",
       "    <tr>\n",
       "      <th>3</th>\n",
       "      <td>Neutral</td>\n",
       "      <td>Now the President is slapping Americans in the...</td>\n",
       "    </tr>\n",
       "    <tr>\n",
       "      <th>4</th>\n",
       "      <td>Negative</td>\n",
       "      <td>Hi I ve had Madeleine McCann in my cellar for ...</td>\n",
       "    </tr>\n",
       "  </tbody>\n",
       "</table>\n",
       "</div>"
      ],
      "text/plain": [
       "     labels                                               text\n",
       "0   Neutral  BBC News Amazon boss Jeff Bezos rejects claims...\n",
       "1  Negative  Why do I pay for WORD when it functions so poo...\n",
       "2  Negative  CSGO matchmaking is so full of closet hacking ...\n",
       "3   Neutral  Now the President is slapping Americans in the...\n",
       "4  Negative  Hi I ve had Madeleine McCann in my cellar for ..."
      ]
     },
     "execution_count": 27,
     "metadata": {},
     "output_type": "execute_result"
    }
   ],
   "source": [
    "df_test.head()"
   ]
  },
  {
   "cell_type": "code",
   "execution_count": 28,
   "id": "29a776de",
   "metadata": {
    "execution": {
     "iopub.execute_input": "2024-10-06T20:31:24.961801Z",
     "iopub.status.busy": "2024-10-06T20:31:24.961504Z",
     "iopub.status.idle": "2024-10-06T20:31:24.993525Z",
     "shell.execute_reply": "2024-10-06T20:31:24.992622Z"
    },
    "papermill": {
     "duration": 0.051143,
     "end_time": "2024-10-06T20:31:24.995642",
     "exception": false,
     "start_time": "2024-10-06T20:31:24.944499",
     "status": "completed"
    },
    "tags": []
   },
   "outputs": [],
   "source": [
    "df_train['text'] = df_train['text'].str.lower()\n",
    "df_test['text'] = df_test['text'].str.lower()"
   ]
  },
  {
   "cell_type": "code",
   "execution_count": 29,
   "id": "dc5960e5",
   "metadata": {
    "execution": {
     "iopub.execute_input": "2024-10-06T20:31:25.029950Z",
     "iopub.status.busy": "2024-10-06T20:31:25.029385Z",
     "iopub.status.idle": "2024-10-06T20:31:25.089230Z",
     "shell.execute_reply": "2024-10-06T20:31:25.088311Z"
    },
    "papermill": {
     "duration": 0.079032,
     "end_time": "2024-10-06T20:31:25.091211",
     "exception": false,
     "start_time": "2024-10-06T20:31:25.012179",
     "status": "completed"
    },
    "tags": []
   },
   "outputs": [
    {
     "data": {
      "text/html": [
       "<div>\n",
       "<style scoped>\n",
       "    .dataframe tbody tr th:only-of-type {\n",
       "        vertical-align: middle;\n",
       "    }\n",
       "\n",
       "    .dataframe tbody tr th {\n",
       "        vertical-align: top;\n",
       "    }\n",
       "\n",
       "    .dataframe thead th {\n",
       "        text-align: right;\n",
       "    }\n",
       "</style>\n",
       "<table border=\"1\" class=\"dataframe\">\n",
       "  <thead>\n",
       "    <tr style=\"text-align: right;\">\n",
       "      <th></th>\n",
       "      <th>labels</th>\n",
       "      <th>text</th>\n",
       "    </tr>\n",
       "  </thead>\n",
       "  <tbody>\n",
       "    <tr>\n",
       "      <th>0</th>\n",
       "      <td>Positive</td>\n",
       "      <td>i am coming to the borders and i will kill you...</td>\n",
       "    </tr>\n",
       "    <tr>\n",
       "      <th>1</th>\n",
       "      <td>Positive</td>\n",
       "      <td>im getting on borderlands and i will kill you all</td>\n",
       "    </tr>\n",
       "    <tr>\n",
       "      <th>2</th>\n",
       "      <td>Positive</td>\n",
       "      <td>im coming on borderlands and i will murder you...</td>\n",
       "    </tr>\n",
       "    <tr>\n",
       "      <th>3</th>\n",
       "      <td>Positive</td>\n",
       "      <td>im getting on borderlands and i will murder yo...</td>\n",
       "    </tr>\n",
       "    <tr>\n",
       "      <th>4</th>\n",
       "      <td>Positive</td>\n",
       "      <td>im getting into borderlands and i can murder y...</td>\n",
       "    </tr>\n",
       "  </tbody>\n",
       "</table>\n",
       "</div>"
      ],
      "text/plain": [
       "     labels                                               text\n",
       "0  Positive  i am coming to the borders and i will kill you...\n",
       "1  Positive  im getting on borderlands and i will kill you all\n",
       "2  Positive  im coming on borderlands and i will murder you...\n",
       "3  Positive  im getting on borderlands and i will murder yo...\n",
       "4  Positive  im getting into borderlands and i can murder y..."
      ]
     },
     "execution_count": 29,
     "metadata": {},
     "output_type": "execute_result"
    }
   ],
   "source": [
    "# Drop rows where 'OriginalTweet' is empty\n",
    "df_train = df_train.dropna(subset=['text'])\n",
    "df_test = df_test.dropna(subset=['text'])\n",
    "\n",
    "# Alternatively, if there are rows with just whitespace, use this to remove them as well:\n",
    "df_train = df_train[df_train['text'].str.strip() != '']\n",
    "df_test = df_test[df_test['text'].str.strip() != '']\n",
    "\n",
    "# Display the updated dataframe\n",
    "df_train.head()"
   ]
  },
  {
   "cell_type": "code",
   "execution_count": 30,
   "id": "4e646304",
   "metadata": {
    "execution": {
     "iopub.execute_input": "2024-10-06T20:31:25.127504Z",
     "iopub.status.busy": "2024-10-06T20:31:25.127169Z",
     "iopub.status.idle": "2024-10-06T20:31:25.166877Z",
     "shell.execute_reply": "2024-10-06T20:31:25.165736Z"
    },
    "papermill": {
     "duration": 0.060406,
     "end_time": "2024-10-06T20:31:25.169023",
     "exception": false,
     "start_time": "2024-10-06T20:31:25.108617",
     "status": "completed"
    },
    "tags": []
   },
   "outputs": [
    {
     "data": {
      "text/plain": [
       "4661"
      ]
     },
     "execution_count": 30,
     "metadata": {},
     "output_type": "execute_result"
    }
   ],
   "source": [
    "df_train.duplicated().sum()"
   ]
  },
  {
   "cell_type": "code",
   "execution_count": 31,
   "id": "6a098771",
   "metadata": {
    "execution": {
     "iopub.execute_input": "2024-10-06T20:31:25.205000Z",
     "iopub.status.busy": "2024-10-06T20:31:25.204335Z",
     "iopub.status.idle": "2024-10-06T20:31:25.224983Z",
     "shell.execute_reply": "2024-10-06T20:31:25.224164Z"
    },
    "papermill": {
     "duration": 0.041066,
     "end_time": "2024-10-06T20:31:25.227104",
     "exception": false,
     "start_time": "2024-10-06T20:31:25.186038",
     "status": "completed"
    },
    "tags": []
   },
   "outputs": [],
   "source": [
    "df_train = df_train.drop_duplicates(subset=['text'])"
   ]
  },
  {
   "cell_type": "code",
   "execution_count": 32,
   "id": "57837f2b",
   "metadata": {
    "execution": {
     "iopub.execute_input": "2024-10-06T20:31:25.265144Z",
     "iopub.status.busy": "2024-10-06T20:31:25.264371Z",
     "iopub.status.idle": "2024-10-06T20:31:25.270066Z",
     "shell.execute_reply": "2024-10-06T20:31:25.269276Z"
    },
    "papermill": {
     "duration": 0.027155,
     "end_time": "2024-10-06T20:31:25.272137",
     "exception": false,
     "start_time": "2024-10-06T20:31:25.244982",
     "status": "completed"
    },
    "tags": []
   },
   "outputs": [
    {
     "data": {
      "text/plain": [
       "(66387, 2)"
      ]
     },
     "execution_count": 32,
     "metadata": {},
     "output_type": "execute_result"
    }
   ],
   "source": [
    "df_train.shape"
   ]
  },
  {
   "cell_type": "markdown",
   "id": "eb45246d",
   "metadata": {
    "papermill": {
     "duration": 0.016859,
     "end_time": "2024-10-06T20:31:25.306401",
     "exception": false,
     "start_time": "2024-10-06T20:31:25.289542",
     "status": "completed"
    },
    "tags": []
   },
   "source": [
    "# Split the Data "
   ]
  },
  {
   "cell_type": "code",
   "execution_count": 33,
   "id": "c4ec8e80",
   "metadata": {
    "execution": {
     "iopub.execute_input": "2024-10-06T20:31:25.342456Z",
     "iopub.status.busy": "2024-10-06T20:31:25.341794Z",
     "iopub.status.idle": "2024-10-06T20:31:25.346980Z",
     "shell.execute_reply": "2024-10-06T20:31:25.346142Z"
    },
    "papermill": {
     "duration": 0.024952,
     "end_time": "2024-10-06T20:31:25.348901",
     "exception": false,
     "start_time": "2024-10-06T20:31:25.323949",
     "status": "completed"
    },
    "tags": []
   },
   "outputs": [],
   "source": [
    "# Separate features and labels for training data\n",
    "train_texts = df_train['text'].values\n",
    "train_labels = df_train['labels'].values\n",
    "\n",
    "# Separate features and labels for test data\n",
    "test_texts = df_test['text'].values\n",
    "test_labels = df_test['labels'].values"
   ]
  },
  {
   "cell_type": "code",
   "execution_count": 34,
   "id": "ba99ac3e",
   "metadata": {
    "execution": {
     "iopub.execute_input": "2024-10-06T20:31:25.383666Z",
     "iopub.status.busy": "2024-10-06T20:31:25.383352Z",
     "iopub.status.idle": "2024-10-06T20:31:25.403679Z",
     "shell.execute_reply": "2024-10-06T20:31:25.402802Z"
    },
    "papermill": {
     "duration": 0.040021,
     "end_time": "2024-10-06T20:31:25.405764",
     "exception": false,
     "start_time": "2024-10-06T20:31:25.365743",
     "status": "completed"
    },
    "tags": []
   },
   "outputs": [],
   "source": [
    "# Initialize the label encoder\n",
    "label_encoder = LabelEncoder()\n",
    "\n",
    "# Fit and transform the labels\n",
    "train_labels_encoded = label_encoder.fit_transform(train_labels)\n",
    "test_labels_encoded = label_encoder.transform(test_labels)"
   ]
  },
  {
   "cell_type": "code",
   "execution_count": 35,
   "id": "f9ff9fae",
   "metadata": {
    "execution": {
     "iopub.execute_input": "2024-10-06T20:31:25.441299Z",
     "iopub.status.busy": "2024-10-06T20:31:25.440998Z",
     "iopub.status.idle": "2024-10-06T20:31:27.172124Z",
     "shell.execute_reply": "2024-10-06T20:31:27.171118Z"
    },
    "papermill": {
     "duration": 1.751954,
     "end_time": "2024-10-06T20:31:27.174862",
     "exception": false,
     "start_time": "2024-10-06T20:31:25.422908",
     "status": "completed"
    },
    "tags": []
   },
   "outputs": [],
   "source": [
    "# Initialize the tokenizer\n",
    "tokenizer = Tokenizer()  # You can adjust the number of words\n",
    "\n",
    "# Fit the tokenizer on the training texts\n",
    "tokenizer.fit_on_texts(train_texts)\n",
    "tokenizer.fit_on_texts(test_texts)"
   ]
  },
  {
   "cell_type": "code",
   "execution_count": 36,
   "id": "e8a1148b",
   "metadata": {
    "execution": {
     "iopub.execute_input": "2024-10-06T20:31:27.210938Z",
     "iopub.status.busy": "2024-10-06T20:31:27.210573Z",
     "iopub.status.idle": "2024-10-06T20:31:28.459248Z",
     "shell.execute_reply": "2024-10-06T20:31:28.458225Z"
    },
    "papermill": {
     "duration": 1.269272,
     "end_time": "2024-10-06T20:31:28.461624",
     "exception": false,
     "start_time": "2024-10-06T20:31:27.192352",
     "status": "completed"
    },
    "tags": []
   },
   "outputs": [],
   "source": [
    "# Convert texts to sequences\n",
    "train_sequences = tokenizer.texts_to_sequences(train_texts)\n",
    "test_sequences = tokenizer.texts_to_sequences(test_texts)"
   ]
  },
  {
   "cell_type": "code",
   "execution_count": 37,
   "id": "614a9e7a",
   "metadata": {
    "execution": {
     "iopub.execute_input": "2024-10-06T20:31:28.497342Z",
     "iopub.status.busy": "2024-10-06T20:31:28.497010Z",
     "iopub.status.idle": "2024-10-06T20:31:28.508491Z",
     "shell.execute_reply": "2024-10-06T20:31:28.507452Z"
    },
    "papermill": {
     "duration": 0.031451,
     "end_time": "2024-10-06T20:31:28.510442",
     "exception": false,
     "start_time": "2024-10-06T20:31:28.478991",
     "status": "completed"
    },
    "tags": []
   },
   "outputs": [
    {
     "name": "stdout",
     "output_type": "stream",
     "text": [
      "Maximum sequence length (maxlen): 166\n"
     ]
    }
   ],
   "source": [
    "# Maximum Length in X_train_sequences\n",
    "maxlen = max(len(tokens) for tokens in train_sequences)\n",
    "print(\"Maximum sequence length (maxlen):\", maxlen)"
   ]
  },
  {
   "cell_type": "code",
   "execution_count": 38,
   "id": "4649fe67",
   "metadata": {
    "execution": {
     "iopub.execute_input": "2024-10-06T20:31:28.545925Z",
     "iopub.status.busy": "2024-10-06T20:31:28.545174Z",
     "iopub.status.idle": "2024-10-06T20:31:28.884941Z",
     "shell.execute_reply": "2024-10-06T20:31:28.883879Z"
    },
    "papermill": {
     "duration": 0.359965,
     "end_time": "2024-10-06T20:31:28.887398",
     "exception": false,
     "start_time": "2024-10-06T20:31:28.527433",
     "status": "completed"
    },
    "tags": []
   },
   "outputs": [],
   "source": [
    "train_padded = pad_sequences(train_sequences, maxlen=maxlen, padding='post')\n",
    "test_padded = pad_sequences(test_sequences, maxlen=maxlen, padding='post')"
   ]
  },
  {
   "cell_type": "code",
   "execution_count": 39,
   "id": "ef824e44",
   "metadata": {
    "execution": {
     "iopub.execute_input": "2024-10-06T20:31:28.928132Z",
     "iopub.status.busy": "2024-10-06T20:31:28.927326Z",
     "iopub.status.idle": "2024-10-06T20:31:28.938323Z",
     "shell.execute_reply": "2024-10-06T20:31:28.937411Z"
    },
    "papermill": {
     "duration": 0.034851,
     "end_time": "2024-10-06T20:31:28.940462",
     "exception": false,
     "start_time": "2024-10-06T20:31:28.905611",
     "status": "completed"
    },
    "tags": []
   },
   "outputs": [
    {
     "data": {
      "text/plain": [
       "29385"
      ]
     },
     "execution_count": 39,
     "metadata": {},
     "output_type": "execute_result"
    }
   ],
   "source": [
    "# Embedding Input Size\n",
    "input_size = np.max(train_padded) + 1\n",
    "input_size"
   ]
  },
  {
   "cell_type": "markdown",
   "id": "1eed9645",
   "metadata": {
    "papermill": {
     "duration": 0.016739,
     "end_time": "2024-10-06T20:31:28.974425",
     "exception": false,
     "start_time": "2024-10-06T20:31:28.957686",
     "status": "completed"
    },
    "tags": []
   },
   "source": [
    "# Building the Model"
   ]
  },
  {
   "cell_type": "code",
   "execution_count": 40,
   "id": "3b644177",
   "metadata": {
    "execution": {
     "iopub.execute_input": "2024-10-06T20:31:29.011104Z",
     "iopub.status.busy": "2024-10-06T20:31:29.010260Z",
     "iopub.status.idle": "2024-10-06T20:31:30.241041Z",
     "shell.execute_reply": "2024-10-06T20:31:30.240063Z"
    },
    "papermill": {
     "duration": 1.251999,
     "end_time": "2024-10-06T20:31:30.243434",
     "exception": false,
     "start_time": "2024-10-06T20:31:28.991435",
     "status": "completed"
    },
    "tags": []
   },
   "outputs": [
    {
     "name": "stderr",
     "output_type": "stream",
     "text": [
      "/opt/conda/lib/python3.10/site-packages/keras/src/layers/core/embedding.py:93: UserWarning: Do not pass an `input_shape`/`input_dim` argument to a layer. When using Sequential models, prefer using an `Input(shape)` object as the first layer in the model instead.\n",
      "  super().__init__(**kwargs)\n"
     ]
    }
   ],
   "source": [
    "# Define the model\n",
    "model = Sequential()\n",
    "\n",
    "# Add an embedding layer \n",
    "model.add(Embedding(input_dim=input_size, output_dim=100, input_shape=(56,)))\n",
    "\n",
    "# Add a bidirectional LSTM layer with 128 units\n",
    "model.add(Bidirectional(LSTM(128, kernel_regularizer=l2(0.1), return_sequences=True, recurrent_regularizer=l2(0.1))))\n",
    "model.add(BatchNormalization())\n",
    "model.add(Dropout(0.5))\n",
    "\n",
    "# Add another LSTM layer\n",
    "model.add(Bidirectional(LSTM(64, kernel_regularizer=l2(0.01), recurrent_regularizer=l2(0.01))))\n",
    "# Add batch normalization layer\n",
    "model.add(BatchNormalization())\n",
    "model.add(Dropout(0.5))\n",
    "\n",
    "# Add a dense layer with 64 units and ReLU activation\n",
    "model.add(Dense(64, activation='relu', kernel_regularizer=l2(0.01)))\n",
    "\n",
    "# Add dropout regularization\n",
    "model.add(Dropout(0.5))\n",
    "\n",
    "# Add the output layer with 5 units for 5 labels and softmax activation\n",
    "model.add(Dense(5, activation='softmax'))"
   ]
  },
  {
   "cell_type": "code",
   "execution_count": 41,
   "id": "14d28316",
   "metadata": {
    "execution": {
     "iopub.execute_input": "2024-10-06T20:31:30.280557Z",
     "iopub.status.busy": "2024-10-06T20:31:30.280230Z",
     "iopub.status.idle": "2024-10-06T20:31:30.305360Z",
     "shell.execute_reply": "2024-10-06T20:31:30.304546Z"
    },
    "papermill": {
     "duration": 0.046479,
     "end_time": "2024-10-06T20:31:30.307448",
     "exception": false,
     "start_time": "2024-10-06T20:31:30.260969",
     "status": "completed"
    },
    "tags": []
   },
   "outputs": [
    {
     "data": {
      "text/html": [
       "<pre style=\"white-space:pre;overflow-x:auto;line-height:normal;font-family:Menlo,'DejaVu Sans Mono',consolas,'Courier New',monospace\"><span style=\"font-weight: bold\">Model: \"sequential\"</span>\n",
       "</pre>\n"
      ],
      "text/plain": [
       "\u001b[1mModel: \"sequential\"\u001b[0m\n"
      ]
     },
     "metadata": {},
     "output_type": "display_data"
    },
    {
     "data": {
      "text/html": [
       "<pre style=\"white-space:pre;overflow-x:auto;line-height:normal;font-family:Menlo,'DejaVu Sans Mono',consolas,'Courier New',monospace\">┏━━━━━━━━━━━━━━━━━━━━━━━━━━━━━━━━━┳━━━━━━━━━━━━━━━━━━━━━━━━┳━━━━━━━━━━━━━━━┓\n",
       "┃<span style=\"font-weight: bold\"> Layer (type)                    </span>┃<span style=\"font-weight: bold\"> Output Shape           </span>┃<span style=\"font-weight: bold\">       Param # </span>┃\n",
       "┡━━━━━━━━━━━━━━━━━━━━━━━━━━━━━━━━━╇━━━━━━━━━━━━━━━━━━━━━━━━╇━━━━━━━━━━━━━━━┩\n",
       "│ embedding (<span style=\"color: #0087ff; text-decoration-color: #0087ff\">Embedding</span>)           │ (<span style=\"color: #00d7ff; text-decoration-color: #00d7ff\">None</span>, <span style=\"color: #00af00; text-decoration-color: #00af00\">56</span>, <span style=\"color: #00af00; text-decoration-color: #00af00\">100</span>)        │     <span style=\"color: #00af00; text-decoration-color: #00af00\">2,938,500</span> │\n",
       "├─────────────────────────────────┼────────────────────────┼───────────────┤\n",
       "│ bidirectional (<span style=\"color: #0087ff; text-decoration-color: #0087ff\">Bidirectional</span>)   │ (<span style=\"color: #00d7ff; text-decoration-color: #00d7ff\">None</span>, <span style=\"color: #00af00; text-decoration-color: #00af00\">56</span>, <span style=\"color: #00af00; text-decoration-color: #00af00\">256</span>)        │       <span style=\"color: #00af00; text-decoration-color: #00af00\">234,496</span> │\n",
       "├─────────────────────────────────┼────────────────────────┼───────────────┤\n",
       "│ batch_normalization             │ (<span style=\"color: #00d7ff; text-decoration-color: #00d7ff\">None</span>, <span style=\"color: #00af00; text-decoration-color: #00af00\">56</span>, <span style=\"color: #00af00; text-decoration-color: #00af00\">256</span>)        │         <span style=\"color: #00af00; text-decoration-color: #00af00\">1,024</span> │\n",
       "│ (<span style=\"color: #0087ff; text-decoration-color: #0087ff\">BatchNormalization</span>)            │                        │               │\n",
       "├─────────────────────────────────┼────────────────────────┼───────────────┤\n",
       "│ dropout (<span style=\"color: #0087ff; text-decoration-color: #0087ff\">Dropout</span>)               │ (<span style=\"color: #00d7ff; text-decoration-color: #00d7ff\">None</span>, <span style=\"color: #00af00; text-decoration-color: #00af00\">56</span>, <span style=\"color: #00af00; text-decoration-color: #00af00\">256</span>)        │             <span style=\"color: #00af00; text-decoration-color: #00af00\">0</span> │\n",
       "├─────────────────────────────────┼────────────────────────┼───────────────┤\n",
       "│ bidirectional_1 (<span style=\"color: #0087ff; text-decoration-color: #0087ff\">Bidirectional</span>) │ (<span style=\"color: #00d7ff; text-decoration-color: #00d7ff\">None</span>, <span style=\"color: #00af00; text-decoration-color: #00af00\">128</span>)            │       <span style=\"color: #00af00; text-decoration-color: #00af00\">164,352</span> │\n",
       "├─────────────────────────────────┼────────────────────────┼───────────────┤\n",
       "│ batch_normalization_1           │ (<span style=\"color: #00d7ff; text-decoration-color: #00d7ff\">None</span>, <span style=\"color: #00af00; text-decoration-color: #00af00\">128</span>)            │           <span style=\"color: #00af00; text-decoration-color: #00af00\">512</span> │\n",
       "│ (<span style=\"color: #0087ff; text-decoration-color: #0087ff\">BatchNormalization</span>)            │                        │               │\n",
       "├─────────────────────────────────┼────────────────────────┼───────────────┤\n",
       "│ dropout_1 (<span style=\"color: #0087ff; text-decoration-color: #0087ff\">Dropout</span>)             │ (<span style=\"color: #00d7ff; text-decoration-color: #00d7ff\">None</span>, <span style=\"color: #00af00; text-decoration-color: #00af00\">128</span>)            │             <span style=\"color: #00af00; text-decoration-color: #00af00\">0</span> │\n",
       "├─────────────────────────────────┼────────────────────────┼───────────────┤\n",
       "│ dense (<span style=\"color: #0087ff; text-decoration-color: #0087ff\">Dense</span>)                   │ (<span style=\"color: #00d7ff; text-decoration-color: #00d7ff\">None</span>, <span style=\"color: #00af00; text-decoration-color: #00af00\">64</span>)             │         <span style=\"color: #00af00; text-decoration-color: #00af00\">8,256</span> │\n",
       "├─────────────────────────────────┼────────────────────────┼───────────────┤\n",
       "│ dropout_2 (<span style=\"color: #0087ff; text-decoration-color: #0087ff\">Dropout</span>)             │ (<span style=\"color: #00d7ff; text-decoration-color: #00d7ff\">None</span>, <span style=\"color: #00af00; text-decoration-color: #00af00\">64</span>)             │             <span style=\"color: #00af00; text-decoration-color: #00af00\">0</span> │\n",
       "├─────────────────────────────────┼────────────────────────┼───────────────┤\n",
       "│ dense_1 (<span style=\"color: #0087ff; text-decoration-color: #0087ff\">Dense</span>)                 │ (<span style=\"color: #00d7ff; text-decoration-color: #00d7ff\">None</span>, <span style=\"color: #00af00; text-decoration-color: #00af00\">5</span>)              │           <span style=\"color: #00af00; text-decoration-color: #00af00\">325</span> │\n",
       "└─────────────────────────────────┴────────────────────────┴───────────────┘\n",
       "</pre>\n"
      ],
      "text/plain": [
       "┏━━━━━━━━━━━━━━━━━━━━━━━━━━━━━━━━━┳━━━━━━━━━━━━━━━━━━━━━━━━┳━━━━━━━━━━━━━━━┓\n",
       "┃\u001b[1m \u001b[0m\u001b[1mLayer (type)                   \u001b[0m\u001b[1m \u001b[0m┃\u001b[1m \u001b[0m\u001b[1mOutput Shape          \u001b[0m\u001b[1m \u001b[0m┃\u001b[1m \u001b[0m\u001b[1m      Param #\u001b[0m\u001b[1m \u001b[0m┃\n",
       "┡━━━━━━━━━━━━━━━━━━━━━━━━━━━━━━━━━╇━━━━━━━━━━━━━━━━━━━━━━━━╇━━━━━━━━━━━━━━━┩\n",
       "│ embedding (\u001b[38;5;33mEmbedding\u001b[0m)           │ (\u001b[38;5;45mNone\u001b[0m, \u001b[38;5;34m56\u001b[0m, \u001b[38;5;34m100\u001b[0m)        │     \u001b[38;5;34m2,938,500\u001b[0m │\n",
       "├─────────────────────────────────┼────────────────────────┼───────────────┤\n",
       "│ bidirectional (\u001b[38;5;33mBidirectional\u001b[0m)   │ (\u001b[38;5;45mNone\u001b[0m, \u001b[38;5;34m56\u001b[0m, \u001b[38;5;34m256\u001b[0m)        │       \u001b[38;5;34m234,496\u001b[0m │\n",
       "├─────────────────────────────────┼────────────────────────┼───────────────┤\n",
       "│ batch_normalization             │ (\u001b[38;5;45mNone\u001b[0m, \u001b[38;5;34m56\u001b[0m, \u001b[38;5;34m256\u001b[0m)        │         \u001b[38;5;34m1,024\u001b[0m │\n",
       "│ (\u001b[38;5;33mBatchNormalization\u001b[0m)            │                        │               │\n",
       "├─────────────────────────────────┼────────────────────────┼───────────────┤\n",
       "│ dropout (\u001b[38;5;33mDropout\u001b[0m)               │ (\u001b[38;5;45mNone\u001b[0m, \u001b[38;5;34m56\u001b[0m, \u001b[38;5;34m256\u001b[0m)        │             \u001b[38;5;34m0\u001b[0m │\n",
       "├─────────────────────────────────┼────────────────────────┼───────────────┤\n",
       "│ bidirectional_1 (\u001b[38;5;33mBidirectional\u001b[0m) │ (\u001b[38;5;45mNone\u001b[0m, \u001b[38;5;34m128\u001b[0m)            │       \u001b[38;5;34m164,352\u001b[0m │\n",
       "├─────────────────────────────────┼────────────────────────┼───────────────┤\n",
       "│ batch_normalization_1           │ (\u001b[38;5;45mNone\u001b[0m, \u001b[38;5;34m128\u001b[0m)            │           \u001b[38;5;34m512\u001b[0m │\n",
       "│ (\u001b[38;5;33mBatchNormalization\u001b[0m)            │                        │               │\n",
       "├─────────────────────────────────┼────────────────────────┼───────────────┤\n",
       "│ dropout_1 (\u001b[38;5;33mDropout\u001b[0m)             │ (\u001b[38;5;45mNone\u001b[0m, \u001b[38;5;34m128\u001b[0m)            │             \u001b[38;5;34m0\u001b[0m │\n",
       "├─────────────────────────────────┼────────────────────────┼───────────────┤\n",
       "│ dense (\u001b[38;5;33mDense\u001b[0m)                   │ (\u001b[38;5;45mNone\u001b[0m, \u001b[38;5;34m64\u001b[0m)             │         \u001b[38;5;34m8,256\u001b[0m │\n",
       "├─────────────────────────────────┼────────────────────────┼───────────────┤\n",
       "│ dropout_2 (\u001b[38;5;33mDropout\u001b[0m)             │ (\u001b[38;5;45mNone\u001b[0m, \u001b[38;5;34m64\u001b[0m)             │             \u001b[38;5;34m0\u001b[0m │\n",
       "├─────────────────────────────────┼────────────────────────┼───────────────┤\n",
       "│ dense_1 (\u001b[38;5;33mDense\u001b[0m)                 │ (\u001b[38;5;45mNone\u001b[0m, \u001b[38;5;34m5\u001b[0m)              │           \u001b[38;5;34m325\u001b[0m │\n",
       "└─────────────────────────────────┴────────────────────────┴───────────────┘\n"
      ]
     },
     "metadata": {},
     "output_type": "display_data"
    },
    {
     "data": {
      "text/html": [
       "<pre style=\"white-space:pre;overflow-x:auto;line-height:normal;font-family:Menlo,'DejaVu Sans Mono',consolas,'Courier New',monospace\"><span style=\"font-weight: bold\"> Total params: </span><span style=\"color: #00af00; text-decoration-color: #00af00\">3,347,465</span> (12.77 MB)\n",
       "</pre>\n"
      ],
      "text/plain": [
       "\u001b[1m Total params: \u001b[0m\u001b[38;5;34m3,347,465\u001b[0m (12.77 MB)\n"
      ]
     },
     "metadata": {},
     "output_type": "display_data"
    },
    {
     "data": {
      "text/html": [
       "<pre style=\"white-space:pre;overflow-x:auto;line-height:normal;font-family:Menlo,'DejaVu Sans Mono',consolas,'Courier New',monospace\"><span style=\"font-weight: bold\"> Trainable params: </span><span style=\"color: #00af00; text-decoration-color: #00af00\">3,346,697</span> (12.77 MB)\n",
       "</pre>\n"
      ],
      "text/plain": [
       "\u001b[1m Trainable params: \u001b[0m\u001b[38;5;34m3,346,697\u001b[0m (12.77 MB)\n"
      ]
     },
     "metadata": {},
     "output_type": "display_data"
    },
    {
     "data": {
      "text/html": [
       "<pre style=\"white-space:pre;overflow-x:auto;line-height:normal;font-family:Menlo,'DejaVu Sans Mono',consolas,'Courier New',monospace\"><span style=\"font-weight: bold\"> Non-trainable params: </span><span style=\"color: #00af00; text-decoration-color: #00af00\">768</span> (3.00 KB)\n",
       "</pre>\n"
      ],
      "text/plain": [
       "\u001b[1m Non-trainable params: \u001b[0m\u001b[38;5;34m768\u001b[0m (3.00 KB)\n"
      ]
     },
     "metadata": {},
     "output_type": "display_data"
    }
   ],
   "source": [
    "model.summary()"
   ]
  },
  {
   "cell_type": "code",
   "execution_count": 42,
   "id": "ed6abb73",
   "metadata": {
    "execution": {
     "iopub.execute_input": "2024-10-06T20:31:30.344591Z",
     "iopub.status.busy": "2024-10-06T20:31:30.344293Z",
     "iopub.status.idle": "2024-10-06T20:31:30.356600Z",
     "shell.execute_reply": "2024-10-06T20:31:30.355882Z"
    },
    "papermill": {
     "duration": 0.03303,
     "end_time": "2024-10-06T20:31:30.358529",
     "exception": false,
     "start_time": "2024-10-06T20:31:30.325499",
     "status": "completed"
    },
    "tags": []
   },
   "outputs": [],
   "source": [
    "model.compile(\n",
    "    loss='sparse_categorical_crossentropy',\n",
    "    optimizer='adam',\n",
    "    metrics=['accuracy']\n",
    ")"
   ]
  },
  {
   "cell_type": "code",
   "execution_count": 43,
   "id": "2e1418b8",
   "metadata": {
    "execution": {
     "iopub.execute_input": "2024-10-06T20:31:30.395198Z",
     "iopub.status.busy": "2024-10-06T20:31:30.394901Z",
     "iopub.status.idle": "2024-10-06T20:45:37.599160Z",
     "shell.execute_reply": "2024-10-06T20:45:37.598330Z"
    },
    "papermill": {
     "duration": 847.224961,
     "end_time": "2024-10-06T20:45:37.601206",
     "exception": false,
     "start_time": "2024-10-06T20:31:30.376245",
     "status": "completed"
    },
    "tags": []
   },
   "outputs": [
    {
     "name": "stdout",
     "output_type": "stream",
     "text": [
      "Epoch 1/10\n",
      "\u001b[1m2075/2075\u001b[0m \u001b[32m━━━━━━━━━━━━━━━━━━━━\u001b[0m\u001b[37m\u001b[0m \u001b[1m91s\u001b[0m 41ms/step - accuracy: 0.4195 - loss: 8.7010 - val_accuracy: 0.7638 - val_loss: 0.7152\n",
      "Epoch 2/10\n",
      "\u001b[1m2075/2075\u001b[0m \u001b[32m━━━━━━━━━━━━━━━━━━━━\u001b[0m\u001b[37m\u001b[0m \u001b[1m84s\u001b[0m 40ms/step - accuracy: 0.7273 - loss: 0.8015 - val_accuracy: 0.5916 - val_loss: 1.1596\n",
      "Epoch 3/10\n",
      "\u001b[1m2075/2075\u001b[0m \u001b[32m━━━━━━━━━━━━━━━━━━━━\u001b[0m\u001b[37m\u001b[0m \u001b[1m84s\u001b[0m 40ms/step - accuracy: 0.7976 - loss: 0.6486 - val_accuracy: 0.5846 - val_loss: 1.4002\n",
      "Epoch 4/10\n",
      "\u001b[1m2075/2075\u001b[0m \u001b[32m━━━━━━━━━━━━━━━━━━━━\u001b[0m\u001b[37m\u001b[0m \u001b[1m84s\u001b[0m 40ms/step - accuracy: 0.8408 - loss: 0.5486 - val_accuracy: 0.8078 - val_loss: 0.5981\n",
      "Epoch 5/10\n",
      "\u001b[1m2075/2075\u001b[0m \u001b[32m━━━━━━━━━━━━━━━━━━━━\u001b[0m\u001b[37m\u001b[0m \u001b[1m84s\u001b[0m 40ms/step - accuracy: 0.8627 - loss: 0.4824 - val_accuracy: 0.8609 - val_loss: 0.4481\n",
      "Epoch 6/10\n",
      "\u001b[1m2075/2075\u001b[0m \u001b[32m━━━━━━━━━━━━━━━━━━━━\u001b[0m\u001b[37m\u001b[0m \u001b[1m84s\u001b[0m 41ms/step - accuracy: 0.8734 - loss: 0.4511 - val_accuracy: 0.8298 - val_loss: 0.5761\n",
      "Epoch 7/10\n",
      "\u001b[1m2075/2075\u001b[0m \u001b[32m━━━━━━━━━━━━━━━━━━━━\u001b[0m\u001b[37m\u001b[0m \u001b[1m84s\u001b[0m 41ms/step - accuracy: 0.8864 - loss: 0.4193 - val_accuracy: 0.8989 - val_loss: 0.3696\n",
      "Epoch 8/10\n",
      "\u001b[1m2075/2075\u001b[0m \u001b[32m━━━━━━━━━━━━━━━━━━━━\u001b[0m\u001b[37m\u001b[0m \u001b[1m84s\u001b[0m 40ms/step - accuracy: 0.8908 - loss: 0.3971 - val_accuracy: 0.8629 - val_loss: 0.4722\n",
      "Epoch 9/10\n",
      "\u001b[1m2075/2075\u001b[0m \u001b[32m━━━━━━━━━━━━━━━━━━━━\u001b[0m\u001b[37m\u001b[0m \u001b[1m84s\u001b[0m 40ms/step - accuracy: 0.8964 - loss: 0.3819 - val_accuracy: 0.7497 - val_loss: 1.2286\n",
      "Epoch 10/10\n",
      "\u001b[1m2075/2075\u001b[0m \u001b[32m━━━━━━━━━━━━━━━━━━━━\u001b[0m\u001b[37m\u001b[0m \u001b[1m84s\u001b[0m 41ms/step - accuracy: 0.8997 - loss: 0.3728 - val_accuracy: 0.7978 - val_loss: 0.6393\n"
     ]
    }
   ],
   "source": [
    "history = model.fit(\n",
    "    train_padded,\n",
    "    train_labels_encoded ,\n",
    "    validation_data=(test_padded,test_labels_encoded),\n",
    "    epochs=10\n",
    ")"
   ]
  },
  {
   "cell_type": "markdown",
   "id": "34116b26",
   "metadata": {
    "papermill": {
     "duration": 0.909533,
     "end_time": "2024-10-06T20:45:39.365650",
     "exception": false,
     "start_time": "2024-10-06T20:45:38.456117",
     "status": "completed"
    },
    "tags": []
   },
   "source": [
    "# Evaluate the model"
   ]
  },
  {
   "cell_type": "code",
   "execution_count": 44,
   "id": "2be75cb8",
   "metadata": {
    "execution": {
     "iopub.execute_input": "2024-10-06T20:45:41.096790Z",
     "iopub.status.busy": "2024-10-06T20:45:41.095892Z",
     "iopub.status.idle": "2024-10-06T20:45:41.712394Z",
     "shell.execute_reply": "2024-10-06T20:45:41.711366Z"
    },
    "papermill": {
     "duration": 1.488132,
     "end_time": "2024-10-06T20:45:41.714381",
     "exception": false,
     "start_time": "2024-10-06T20:45:40.226249",
     "status": "completed"
    },
    "tags": []
   },
   "outputs": [
    {
     "name": "stdout",
     "output_type": "stream",
     "text": [
      "\u001b[1m32/32\u001b[0m \u001b[32m━━━━━━━━━━━━━━━━━━━━\u001b[0m\u001b[37m\u001b[0m \u001b[1m1s\u001b[0m 17ms/step - accuracy: 0.8116 - loss: 0.6108\n",
      "Test Loss: 0.6393125057220459\n",
      "Test Accuracy: 0.7977977991104126\n"
     ]
    }
   ],
   "source": [
    "test_loss, test_accuracy = model.evaluate(test_padded , test_labels_encoded)\n",
    "print(f'Test Loss: {test_loss}')\n",
    "print(f'Test Accuracy: {test_accuracy}')"
   ]
  },
  {
   "cell_type": "markdown",
   "id": "f5384ca3",
   "metadata": {
    "papermill": {
     "duration": 0.858166,
     "end_time": "2024-10-06T20:45:43.499876",
     "exception": false,
     "start_time": "2024-10-06T20:45:42.641710",
     "status": "completed"
    },
    "tags": []
   },
   "source": [
    "# Visualize training history"
   ]
  },
  {
   "cell_type": "code",
   "execution_count": 45,
   "id": "2c7d8375",
   "metadata": {
    "execution": {
     "iopub.execute_input": "2024-10-06T20:45:45.308131Z",
     "iopub.status.busy": "2024-10-06T20:45:45.307743Z",
     "iopub.status.idle": "2024-10-06T20:45:45.764709Z",
     "shell.execute_reply": "2024-10-06T20:45:45.763693Z"
    },
    "papermill": {
     "duration": 1.362522,
     "end_time": "2024-10-06T20:45:45.766839",
     "exception": false,
     "start_time": "2024-10-06T20:45:44.404317",
     "status": "completed"
    },
    "tags": []
   },
   "outputs": [
    {
     "data": {
      "image/png": "[encoded data removed]",
      "text/plain": [
       "<Figure size 1200x400 with 2 Axes>"
      ]
     },
     "metadata": {},
     "output_type": "display_data"
    }
   ],
   "source": [
    "\n",
    "\n",
    "# Plot training & validation accuracy values\n",
    "plt.figure(figsize=(12, 4))\n",
    "plt.subplot(1, 2, 1)\n",
    "plt.plot(history.history['accuracy'])\n",
    "plt.plot(history.history['val_accuracy'])\n",
    "plt.title('Model accuracy')\n",
    "plt.ylabel('Accuracy')\n",
    "plt.xlabel('Epoch')\n",
    "plt.legend(['Train', 'Test'], loc='upper left')\n",
    "\n",
    "# Plot training & validation loss values\n",
    "plt.subplot(1, 2, 2)\n",
    "plt.plot(history.history['loss'])\n",
    "plt.plot(history.history['val_loss'])\n",
    "plt.title('Model loss')\n",
    "plt.ylabel('Loss')\n",
    "plt.xlabel('Epoch')\n",
    "plt.legend(['Train', 'Test'], loc='upper left')\n",
    "\n",
    "plt.show()"
   ]
  }
 ],
 "metadata": {
  "kaggle": {
   "accelerator": "gpu",
   "dataSources": [
    {
     "datasetId": 1520310,
     "sourceId": 2510329,
     "sourceType": "datasetVersion"
    }
   ],
   "dockerImageVersionId": 30787,
   "isGpuEnabled": true,
   "isInternetEnabled": true,
   "language": "python",
   "sourceType": "notebook"
  },
  "kernelspec": {
   "display_name": "Python 3",
   "language": "python",
   "name": "python3"
  },
  "language_info": {
   "codemirror_mode": {
    "name": "ipython",
    "version": 3
   },
   "file_extension": ".py",
   "mimetype": "text/x-python",
   "name": "python",
   "nbconvert_exporter": "python",
   "pygments_lexer": "ipython3",
   "version": "3.10.14"
  },
  "papermill": {
   "default_parameters": {},
   "duration": 892.3252,
   "end_time": "2024-10-06T20:45:50.241389",
   "environment_variables": {},
   "exception": null,
   "input_path": "__notebook__.ipynb",
   "output_path": "__notebook__.ipynb",
   "parameters": {},
   "start_time": "2024-10-06T20:30:57.916189",
   "version": "2.6.0"
  }
 },
 "nbformat": 4,
 "nbformat_minor": 5
}
